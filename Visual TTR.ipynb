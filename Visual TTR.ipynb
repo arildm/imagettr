{
 "cells": [
  {
   "cell_type": "markdown",
   "metadata": {},
   "source": [
    "# Image recognition with TTR\n"
   ]
  },
  {
   "cell_type": "markdown",
   "metadata": {},
   "source": [
    "## Bridging between perceptual and conceptual domains\n",
    "\n",
    "Let's apply the object detection representation proposed in Dobnik & Cooper's *Interfacing language, spatial perception and cognition in TTR* to image recognition.\n",
    "\n",
    "![Fig 8](fig/lspc-fig8.png)\n",
    "\n",
    "Here, we use `Img` instead of `PointMap` for the whole, but for `reg` we use yet another type, `ImgPart`. In Cooper's case the same type can be used to represent both the region and the whole, because a `PointMap` is a set of absolute positions. With `Img`, positions are relative to an origin, which needs to be specified when cropping.\n",
    "\n",
    "I guess in the general case, the domain of an `ObjectDetector` function need not be the same as the `reg` fields in the output elements."
   ]
  },
  {
   "cell_type": "code",
   "execution_count": 9,
   "metadata": {},
   "outputs": [
    {
     "name": "stdout",
     "output_type": "stream",
     "text": [
      "True\n",
      "True\n",
      "True\n"
     ]
    },
    {
     "data": {
      "text/plain": [
       "'<PIL.JpegImagePlugin.JpegImageFile image mode=RGB size=1080x1080 at 0x7FB257391DD8>'"
      ]
     },
     "execution_count": 9,
     "metadata": {},
     "output_type": "execute_result"
    }
   ],
   "source": [
    "import sys\n",
    "sys.path.append('pyttr')\n",
    "from pyttr.ttrtypes import *\n",
    "import PIL.Image\n",
    "\n",
    "# Basic types.\n",
    "\n",
    "Ind = BType('Ind')\n",
    "\n",
    "Int = BType('Int')\n",
    "Int.learn_witness_condition(lambda x: isinstance(x, int))\n",
    "print(Int.query(365))\n",
    "\n",
    "Image = BType('Image')\n",
    "Image.learn_witness_condition(lambda x: isinstance(x, PIL.Image.Image))\n",
    "img = PIL.Image.open('res/dogcar.jpg')\n",
    "print(Image.query(img))\n",
    "\n",
    "# ImgPart type.\n",
    "\n",
    "ImgPart = RecType({'i': Image, 'cx': Int, 'cy': Int, 'w': Int, 'h': Int})\n",
    "print(ImgPart.query(Rec({'i': img, 'cx': 100, 'cy': 150, 'w': 40, 'h': 20})))\n",
    "\n",
    "# Redefine Image.show() to work with Rec.show().\n",
    "def image_show(self):\n",
    "    return str(self)\n",
    "PIL.Image.Image.show = image_show\n",
    "show(img)"
   ]
  },
  {
   "cell_type": "code",
   "execution_count": 10,
   "metadata": {},
   "outputs": [],
   "source": [
    "Ppty = FunType(Ind, Ty)\n",
    "ImageDetection = RecType({'reg': ImgPart, 'pfun': Ppty})\n",
    "ImageDetections = ListType(ImageDetection)\n",
    "ObjectDetector = FunType(Image, ImageDetections)"
   ]
  },
  {
   "cell_type": "markdown",
   "metadata": {},
   "source": [
    "## Object detection model YOLO\n",
    "\n",
    "Requires OpenCV and [Darkflow](https://github.com/thtrieu/darkflow). `yolo.weights` is from [Yolo](https://pjreddie.com/darknet/yolo/)."
   ]
  },
  {
   "cell_type": "code",
   "execution_count": 11,
   "metadata": {
    "scrolled": true
   },
   "outputs": [
    {
     "name": "stdout",
     "output_type": "stream",
     "text": [
      "Parsing yolo/yolo.cfg\n",
      "Loading yolo/yolo.weights ...\n",
      "Successfully identified 203934260 bytes\n",
      "Finished in 0.020205020904541016s\n",
      "Model has a coco model name, loading coco labels.\n",
      "\n",
      "Building net ...\n",
      "Source | Train? | Layer description                | Output size\n",
      "-------+--------+----------------------------------+---------------\n",
      "       |        | input                            | (?, 608, 608, 3)\n",
      " Load  |  Yep!  | conv 3x3p1_1  +bnorm  leaky      | (?, 608, 608, 32)\n",
      " Load  |  Yep!  | maxp 2x2p0_2                     | (?, 304, 304, 32)\n",
      " Load  |  Yep!  | conv 3x3p1_1  +bnorm  leaky      | (?, 304, 304, 64)\n",
      " Load  |  Yep!  | maxp 2x2p0_2                     | (?, 152, 152, 64)\n",
      " Load  |  Yep!  | conv 3x3p1_1  +bnorm  leaky      | (?, 152, 152, 128)\n",
      " Load  |  Yep!  | conv 1x1p0_1  +bnorm  leaky      | (?, 152, 152, 64)\n",
      " Load  |  Yep!  | conv 3x3p1_1  +bnorm  leaky      | (?, 152, 152, 128)\n",
      " Load  |  Yep!  | maxp 2x2p0_2                     | (?, 76, 76, 128)\n",
      " Load  |  Yep!  | conv 3x3p1_1  +bnorm  leaky      | (?, 76, 76, 256)\n",
      " Load  |  Yep!  | conv 1x1p0_1  +bnorm  leaky      | (?, 76, 76, 128)\n",
      " Load  |  Yep!  | conv 3x3p1_1  +bnorm  leaky      | (?, 76, 76, 256)\n",
      " Load  |  Yep!  | maxp 2x2p0_2                     | (?, 38, 38, 256)\n",
      " Load  |  Yep!  | conv 3x3p1_1  +bnorm  leaky      | (?, 38, 38, 512)\n",
      " Load  |  Yep!  | conv 1x1p0_1  +bnorm  leaky      | (?, 38, 38, 256)\n",
      " Load  |  Yep!  | conv 3x3p1_1  +bnorm  leaky      | (?, 38, 38, 512)\n",
      " Load  |  Yep!  | conv 1x1p0_1  +bnorm  leaky      | (?, 38, 38, 256)\n",
      " Load  |  Yep!  | conv 3x3p1_1  +bnorm  leaky      | (?, 38, 38, 512)\n",
      " Load  |  Yep!  | maxp 2x2p0_2                     | (?, 19, 19, 512)\n",
      " Load  |  Yep!  | conv 3x3p1_1  +bnorm  leaky      | (?, 19, 19, 1024)\n",
      " Load  |  Yep!  | conv 1x1p0_1  +bnorm  leaky      | (?, 19, 19, 512)\n",
      " Load  |  Yep!  | conv 3x3p1_1  +bnorm  leaky      | (?, 19, 19, 1024)\n",
      " Load  |  Yep!  | conv 1x1p0_1  +bnorm  leaky      | (?, 19, 19, 512)\n",
      " Load  |  Yep!  | conv 3x3p1_1  +bnorm  leaky      | (?, 19, 19, 1024)\n",
      " Load  |  Yep!  | conv 3x3p1_1  +bnorm  leaky      | (?, 19, 19, 1024)\n",
      " Load  |  Yep!  | conv 3x3p1_1  +bnorm  leaky      | (?, 19, 19, 1024)\n",
      " Load  |  Yep!  | concat [16]                      | (?, 38, 38, 512)\n",
      " Load  |  Yep!  | conv 1x1p0_1  +bnorm  leaky      | (?, 38, 38, 64)\n",
      " Load  |  Yep!  | local flatten 2x2                | (?, 19, 19, 256)\n",
      " Load  |  Yep!  | concat [27, 24]                  | (?, 19, 19, 1280)\n",
      " Load  |  Yep!  | conv 3x3p1_1  +bnorm  leaky      | (?, 19, 19, 1024)\n",
      " Load  |  Yep!  | conv 1x1p0_1    linear           | (?, 19, 19, 425)\n",
      "-------+--------+----------------------------------+---------------\n",
      "Running entirely on CPU\n",
      "Finished in 10.556033372879028s\n",
      "\n"
     ]
    }
   ],
   "source": [
    "from darkflow.net.build import TFNet\n",
    "\n",
    "tfnet = TFNet({\"model\": \"yolo/yolo.cfg\", \"load\": \"yolo/yolo.weights\",\n",
    "    'config': 'yolo', \"threshold\": 0.1})"
   ]
  },
  {
   "cell_type": "code",
   "execution_count": 12,
   "metadata": {},
   "outputs": [
    {
     "name": "stdout",
     "output_type": "stream",
     "text": [
      "{'cx': 20, 'h': 20, 'w': 20, 'cy': 30}\n"
     ]
    }
   ],
   "source": [
    "import numpy as np\n",
    "\n",
    "def xy1xy2_to_cwh(x1, y1, x2, y2):\n",
    "    '''Transform (x1, y1, x2, y2) to (x_center, y_center, width, height).'''\n",
    "    return {'cx': int(x1/2 + x2/2), 'cy': int(y1/2 + y2/2), 'w': x2 - x1, 'h': y2 - y1}\n",
    "print(xy1xy2_to_cwh(10, 20, 30, 40))\n",
    "\n",
    "def yolo_detector(i):\n",
    "    return [Rec({\n",
    "        'reg': Rec({\n",
    "            'i': i,\n",
    "            **xy1xy2_to_cwh(o['topleft']['x'], o['topleft']['y'], o['bottomright']['x'], o['bottomright']['y']),\n",
    "        }),\n",
    "        'pfun': Fun('v', Ind, PType(Pred(o['label'], [Ind]), ['v'])),\n",
    "    }) for o in tfnet.return_predict(np.array(i))] # @todo RBG/BGR?"
   ]
  },
  {
   "cell_type": "code",
   "execution_count": 13,
   "metadata": {},
   "outputs": [
    {
     "name": "stdout",
     "output_type": "stream",
     "text": [
      "True\n",
      "True\n",
      "True\n",
      "True\n",
      "[{reg = {cx = 138, h = 809, w = 276, i = <PIL.JpegImagePlugin.JpegImageFile image mode=RGB size=1080x1080 at 0x7FB257391DD8>, cy = 654}, pfun = lambda v:Ind . person(v)}, {reg = {cx = 714, h = 796, w = 706, i = <PIL.JpegImagePlugin.JpegImageFile image mode=RGB size=1080x1080 at 0x7FB257391DD8>, cy = 657}, pfun = lambda v:Ind . person(v)}, {reg = {cx = 194, h = 381, w = 380, i = <PIL.JpegImagePlugin.JpegImageFile image mode=RGB size=1080x1080 at 0x7FB257391DD8>, cy = 888}, pfun = lambda v:Ind . person(v)}, {reg = {cx = 490, h = 979, w = 774, i = <PIL.JpegImagePlugin.JpegImageFile image mode=RGB size=1080x1080 at 0x7FB257391DD8>, cy = 589}, pfun = lambda v:Ind . car(v)}, {reg = {cx = 704, h = 718, w = 687, i = <PIL.JpegImagePlugin.JpegImageFile image mode=RGB size=1080x1080 at 0x7FB257391DD8>, cy = 714}, pfun = lambda v:Ind . dog(v)}, {reg = {cx = 757, h = 210, w = 219, i = <PIL.JpegImagePlugin.JpegImageFile image mode=RGB size=1080x1080 at 0x7FB257391DD8>, cy = 541}, pfun = lambda v:Ind . chair(v)}, {reg = {cx = 547, h = 783, w = 778, i = <PIL.JpegImagePlugin.JpegImageFile image mode=RGB size=1080x1080 at 0x7FB257391DD8>, cy = 687}, pfun = lambda v:Ind . chair(v)}, {reg = {cx = 486, h = 803, w = 957, i = <PIL.JpegImagePlugin.JpegImageFile image mode=RGB size=1080x1080 at 0x7FB257391DD8>, cy = 677}, pfun = lambda v:Ind . sofa(v)}, {reg = {cx = 93, h = 423, w = 187, i = <PIL.JpegImagePlugin.JpegImageFile image mode=RGB size=1080x1080 at 0x7FB257391DD8>, cy = 588}, pfun = lambda v:Ind . cell phone(v)}, {reg = {cx = 44, h = 107, w = 71, i = <PIL.JpegImagePlugin.JpegImageFile image mode=RGB size=1080x1080 at 0x7FB257391DD8>, cy = 544}, pfun = lambda v:Ind . clock(v)}]\n"
     ]
    }
   ],
   "source": [
    "image_detections = yolo_detector(img)\n",
    "\n",
    "print(ImageDetections.query(image_detections))\n",
    "print(ImageDetection.query(image_detections[0]))\n",
    "print(Ppty.query(image_detections[0].pathvalue('pfun')))\n",
    "print(ImgPart.query(image_detections[0].pathvalue('reg')))\n",
    "\n",
    "print(show(image_detections))"
   ]
  },
  {
   "cell_type": "markdown",
   "metadata": {},
   "source": [
    "### Individuation function\n",
    "\n",
    "According to lspc.ipynb, this cannot be implemented entirely within PyTTR, we need a Python function to do it (with PyTTR input & output)."
   ]
  },
  {
   "cell_type": "code",
   "execution_count": 26,
   "metadata": {},
   "outputs": [
    {
     "name": "stdout",
     "output_type": "stream",
     "text": [
      "{loc : (lambda v:Ind . location(v, {cx = 138, h = 809, w = 276, i = <PIL.JpegImagePlugin.JpegImageFile image mode=RGB size=1080x1080 at 0x7FB257391DD8>, cy = 654}), [a]), c : (lambda v:Ind . person(v), [a]), a : Ind}\n"
     ]
    }
   ],
   "source": [
    "pred_location = Pred('location', [Ind, ImageDetection])\n",
    "def ind_fun(r):\n",
    "    if not ImageDetection.query(r):\n",
    "        return None\n",
    "    return RecType({\n",
    "        'a': Ind,\n",
    "        'loc': (Fun('v', Ind, PType(pred_location, ['v', r.reg])), ['a']),\n",
    "        'c': (r.pfun, ['a']),\n",
    "        # Why is property (function?) application represented with\n",
    "        # just a <fun, arg> tuple? How does that help us?\n",
    "    })\n",
    "\n",
    "print(show(ind_fun(image_detections[0])))"
   ]
  },
  {
   "cell_type": "markdown",
   "metadata": {},
   "source": [
    "## Sketching on spatial relations"
   ]
  },
  {
   "cell_type": "code",
   "execution_count": 19,
   "metadata": {},
   "outputs": [
    {
     "name": "stdout",
     "output_type": "stream",
     "text": [
      "True\n",
      "False\n"
     ]
    }
   ],
   "source": [
    "def is_left_of(imgpart_s, imgpart_o):\n",
    "    return imgpart_s.pathvalue('cx') < imgpart_o.pathvalue('cx')\n",
    "\n",
    "print(is_left_of(image_detections[0].pathvalue('reg'), image_detections[1].pathvalue('reg')))\n",
    "print(is_left_of(image_detections[1].pathvalue('reg'), image_detections[2].pathvalue('reg')))"
   ]
  },
  {
   "cell_type": "code",
   "execution_count": null,
   "metadata": {},
   "outputs": [],
   "source": [
    "left_of_detector()"
   ]
  }
 ],
 "metadata": {
  "kernelspec": {
   "display_name": "Python 3",
   "language": "python",
   "name": "python3"
  },
  "language_info": {
   "codemirror_mode": {
    "name": "ipython",
    "version": 3
   },
   "file_extension": ".py",
   "mimetype": "text/x-python",
   "name": "python",
   "nbconvert_exporter": "python",
   "pygments_lexer": "ipython3",
   "version": "3.5.2"
  }
 },
 "nbformat": 4,
 "nbformat_minor": 2
}

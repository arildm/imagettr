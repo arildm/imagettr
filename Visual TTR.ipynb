{
 "cells": [
  {
   "cell_type": "markdown",
   "metadata": {},
   "source": [
    "# Image recognition with TTR\n"
   ]
  },
  {
   "cell_type": "markdown",
   "metadata": {},
   "source": [
    "## Bridging between perceptual and conceptual domains\n",
    "\n",
    "Let's apply the object detection representation proposed in Dobnik & Cooper's *Interfacing language, spatial perception and cognition in TTR* to image recognition.\n",
    "\n",
    "![Fig 8](fig/lspc-fig8.png)\n",
    "\n",
    "Here, we use `Image` instead of `PointMap` for the whole, but instead of `reg:PointMap` we use yet another type (and rename it), `seg:Segment`. In Cooper's case the same type can be used to represent both the region and the whole, because a `PointMap` is a set of absolute positions. With `Image`, positions are relative to an origin, which needs to be specified when cropping.\n",
    "\n",
    "I guess in the general case, the domain of an `ObjectDetector` function need not be the same as the `reg` fields in the output elements."
   ]
  },
  {
   "cell_type": "code",
   "execution_count": 2,
   "metadata": {},
   "outputs": [
    {
     "name": "stdout",
     "output_type": "stream",
     "text": [
      "True\n",
      "True\n",
      "True\n"
     ]
    },
    {
     "data": {
      "text/plain": [
       "'<PIL.JpegImagePlugin.JpegImageFile image mode=RGB size=1080x1080 at 0x7F0B981042E8>'"
      ]
     },
     "execution_count": 2,
     "metadata": {},
     "output_type": "execute_result"
    }
   ],
   "source": [
    "import sys\n",
    "sys.path.append('pyttr')\n",
    "from pyttr.ttrtypes import *\n",
    "from pyttr.utils import *\n",
    "import PIL.Image\n",
    "\n",
    "ttrace()\n",
    "\n",
    "# Basic types.\n",
    "\n",
    "Ind = BType('Ind')\n",
    "\n",
    "Int = BType('Int')\n",
    "Int.learn_witness_condition(lambda x: isinstance(x, int))\n",
    "print(Int.query(365))\n",
    "\n",
    "Image = BType('Image')\n",
    "Image.learn_witness_condition(lambda x: isinstance(x, PIL.Image.Image))\n",
    "img = PIL.Image.open('res/dogcar.jpg')\n",
    "print(Image.query(img))\n",
    "\n",
    "# Segment type: a rectangular area of a given image.\n",
    "\n",
    "Segment = RecType({#'i': Image,\n",
    "    'cx': Int, 'cy': Int, 'w': Int, 'h': Int})\n",
    "print(Segment.query(Rec({#'i': img,\n",
    "    'cx': 100, 'cy': 150, 'w': 40, 'h': 20})))\n",
    "\n",
    "# Redefine Image.show() to work with Rec.show().\n",
    "def image_show(self):\n",
    "    return str(self)\n",
    "PIL.Image.Image.show = image_show\n",
    "show(img)"
   ]
  },
  {
   "cell_type": "code",
   "execution_count": 3,
   "metadata": {},
   "outputs": [],
   "source": [
    "def latex(*objs):\n",
    "    texcode = '\\n\\n'.join(to_ipython_latex(obj) for obj in objs)\n",
    "    print(texcode)\n",
    "    return Latex(texcode)"
   ]
  },
  {
   "cell_type": "code",
   "execution_count": 4,
   "metadata": {},
   "outputs": [
    {
     "name": "stdout",
     "output_type": "stream",
     "text": [
      "\\begin{equation}\\left[\\begin{array}{rcl}\n",
      "\\text{w} &:& Int\\\\\n",
      "\\text{h} &:& Int\\\\\n",
      "\\text{cy} &:& Int\\\\\n",
      "\\text{cx} &:& Int\n",
      "\\end{array}\\right]\\end{equation}\n"
     ]
    },
    {
     "data": {
      "text/latex": [
       "\\begin{equation}\\left[\\begin{array}{rcl}\n",
       "\\text{w} &:& Int\\\\\n",
       "\\text{h} &:& Int\\\\\n",
       "\\text{cy} &:& Int\\\\\n",
       "\\text{cx} &:& Int\n",
       "\\end{array}\\right]\\end{equation}"
      ],
      "text/plain": [
       "<IPython.core.display.Latex object>"
      ]
     },
     "execution_count": 4,
     "metadata": {},
     "output_type": "execute_result"
    }
   ],
   "source": [
    "latex(Segment)"
   ]
  },
  {
   "cell_type": "code",
   "execution_count": 5,
   "metadata": {},
   "outputs": [
    {
     "name": "stdout",
     "output_type": "stream",
     "text": [
      "\\begin{equation}\\left(\\begin{array}{rcl}\n",
      "Ind\\rightarrow Ty\n",
      "\\end{array}\\right)\\end{equation}\n",
      "\n",
      "\\begin{equation}\\left(\\begin{array}{rcl}\n",
      "Image\\rightarrow \\left[\\begin{array}{rcl}\n",
      "\\left[\\begin{array}{rcl}\n",
      "\\text{x} &:& Ind\\\\\n",
      "\\text{pfun} &:& \\left(\\begin{array}{rcl}\n",
      "Ind\\rightarrow Ty\n",
      "\\end{array}\\right)\\\\\n",
      "\\text{seg} &:& \\left[\\begin{array}{rcl}\n",
      "\\text{w} &:& Int\\\\\n",
      "\\text{h} &:& Int\\\\\n",
      "\\text{cy} &:& Int\\\\\n",
      "\\text{cx} &:& Int\n",
      "\\end{array}\\right]\n",
      "\\end{array}\\right]\n",
      "\\end{array}\\right]\n",
      "\\end{array}\\right)\\end{equation}\n"
     ]
    },
    {
     "data": {
      "text/latex": [
       "\\begin{equation}\\left(\\begin{array}{rcl}\n",
       "Ind\\rightarrow Ty\n",
       "\\end{array}\\right)\\end{equation}\n",
       "\n",
       "\\begin{equation}\\left(\\begin{array}{rcl}\n",
       "Image\\rightarrow \\left[\\begin{array}{rcl}\n",
       "\\left[\\begin{array}{rcl}\n",
       "\\text{x} &:& Ind\\\\\n",
       "\\text{pfun} &:& \\left(\\begin{array}{rcl}\n",
       "Ind\\rightarrow Ty\n",
       "\\end{array}\\right)\\\\\n",
       "\\text{seg} &:& \\left[\\begin{array}{rcl}\n",
       "\\text{w} &:& Int\\\\\n",
       "\\text{h} &:& Int\\\\\n",
       "\\text{cy} &:& Int\\\\\n",
       "\\text{cx} &:& Int\n",
       "\\end{array}\\right]\n",
       "\\end{array}\\right]\n",
       "\\end{array}\\right]\n",
       "\\end{array}\\right)\\end{equation}"
      ],
      "text/plain": [
       "<IPython.core.display.Latex object>"
      ]
     },
     "execution_count": 5,
     "metadata": {},
     "output_type": "execute_result"
    }
   ],
   "source": [
    "Ppty = FunType(Ind, Ty)\n",
    "ImageDetection = RecType({'x': Ind, 'seg': Segment, 'pfun': Ppty})\n",
    "ImageDetections = ListType(ImageDetection)\n",
    "ObjectDetector = FunType(Image, ImageDetections)\n",
    "\n",
    "latex(Ppty, ObjectDetector)"
   ]
  },
  {
   "cell_type": "markdown",
   "metadata": {},
   "source": [
    "## Object detection model YOLO\n",
    "\n",
    "Requires OpenCV and [Darkflow](https://github.com/thtrieu/darkflow). `yolo.weights` is from [Yolo](https://pjreddie.com/darknet/yolo/)."
   ]
  },
  {
   "cell_type": "code",
   "execution_count": 6,
   "metadata": {
    "scrolled": true
   },
   "outputs": [
    {
     "name": "stdout",
     "output_type": "stream",
     "text": [
      "Parsing yolo/yolo.cfg\n",
      "Loading yolo/yolo.weights ...\n",
      "Successfully identified 203934260 bytes\n",
      "Finished in 0.040488481521606445s\n",
      "Model has a coco model name, loading coco labels.\n",
      "\n",
      "Building net ...\n",
      "Source | Train? | Layer description                | Output size\n",
      "-------+--------+----------------------------------+---------------\n",
      "       |        | input                            | (?, 608, 608, 3)\n",
      " Load  |  Yep!  | conv 3x3p1_1  +bnorm  leaky      | (?, 608, 608, 32)\n",
      " Load  |  Yep!  | maxp 2x2p0_2                     | (?, 304, 304, 32)\n",
      " Load  |  Yep!  | conv 3x3p1_1  +bnorm  leaky      | (?, 304, 304, 64)\n",
      " Load  |  Yep!  | maxp 2x2p0_2                     | (?, 152, 152, 64)\n",
      " Load  |  Yep!  | conv 3x3p1_1  +bnorm  leaky      | (?, 152, 152, 128)\n",
      " Load  |  Yep!  | conv 1x1p0_1  +bnorm  leaky      | (?, 152, 152, 64)\n",
      " Load  |  Yep!  | conv 3x3p1_1  +bnorm  leaky      | (?, 152, 152, 128)\n",
      " Load  |  Yep!  | maxp 2x2p0_2                     | (?, 76, 76, 128)\n",
      " Load  |  Yep!  | conv 3x3p1_1  +bnorm  leaky      | (?, 76, 76, 256)\n",
      " Load  |  Yep!  | conv 1x1p0_1  +bnorm  leaky      | (?, 76, 76, 128)\n",
      " Load  |  Yep!  | conv 3x3p1_1  +bnorm  leaky      | (?, 76, 76, 256)\n",
      " Load  |  Yep!  | maxp 2x2p0_2                     | (?, 38, 38, 256)\n",
      " Load  |  Yep!  | conv 3x3p1_1  +bnorm  leaky      | (?, 38, 38, 512)\n",
      " Load  |  Yep!  | conv 1x1p0_1  +bnorm  leaky      | (?, 38, 38, 256)\n",
      " Load  |  Yep!  | conv 3x3p1_1  +bnorm  leaky      | (?, 38, 38, 512)\n",
      " Load  |  Yep!  | conv 1x1p0_1  +bnorm  leaky      | (?, 38, 38, 256)\n",
      " Load  |  Yep!  | conv 3x3p1_1  +bnorm  leaky      | (?, 38, 38, 512)\n",
      " Load  |  Yep!  | maxp 2x2p0_2                     | (?, 19, 19, 512)\n",
      " Load  |  Yep!  | conv 3x3p1_1  +bnorm  leaky      | (?, 19, 19, 1024)\n",
      " Load  |  Yep!  | conv 1x1p0_1  +bnorm  leaky      | (?, 19, 19, 512)\n",
      " Load  |  Yep!  | conv 3x3p1_1  +bnorm  leaky      | (?, 19, 19, 1024)\n",
      " Load  |  Yep!  | conv 1x1p0_1  +bnorm  leaky      | (?, 19, 19, 512)\n",
      " Load  |  Yep!  | conv 3x3p1_1  +bnorm  leaky      | (?, 19, 19, 1024)\n",
      " Load  |  Yep!  | conv 3x3p1_1  +bnorm  leaky      | (?, 19, 19, 1024)\n",
      " Load  |  Yep!  | conv 3x3p1_1  +bnorm  leaky      | (?, 19, 19, 1024)\n",
      " Load  |  Yep!  | concat [16]                      | (?, 38, 38, 512)\n",
      " Load  |  Yep!  | conv 1x1p0_1  +bnorm  leaky      | (?, 38, 38, 64)\n",
      " Load  |  Yep!  | local flatten 2x2                | (?, 19, 19, 256)\n",
      " Load  |  Yep!  | concat [27, 24]                  | (?, 19, 19, 1280)\n",
      " Load  |  Yep!  | conv 3x3p1_1  +bnorm  leaky      | (?, 19, 19, 1024)\n",
      " Load  |  Yep!  | conv 1x1p0_1    linear           | (?, 19, 19, 425)\n",
      "-------+--------+----------------------------------+---------------\n",
      "Running entirely on CPU\n",
      "Finished in 6.892631769180298s\n",
      "\n"
     ]
    }
   ],
   "source": [
    "from darkflow.net.build import TFNet\n",
    "import numpy as np\n",
    "\n",
    "tfnet = TFNet({\"model\": \"yolo/yolo.cfg\", \"load\": \"yolo/yolo.weights\",\n",
    "    'config': 'yolo', \"threshold\": 0.1})\n",
    "yolo_out = dict()\n",
    "def yolo(img):\n",
    "    if str(img) not in yolo_out:\n",
    "        yolo_out[str(img)] = tfnet.return_predict(np.array(img))\n",
    "    return yolo_out[str(img)]"
   ]
  },
  {
   "cell_type": "code",
   "execution_count": 7,
   "metadata": {},
   "outputs": [
    {
     "name": "stdout",
     "output_type": "stream",
     "text": [
      "True\n"
     ]
    }
   ],
   "source": [
    "# Make preds and ptypes identifiable by their predicate names.\n",
    "# From now on, use mktype().\n",
    "ptypes = dict()\n",
    "def mkptype(sym, types=[Ind], vars=['v']):\n",
    "    id = '/'.join([sym, ','.join(show(type) for type in types), ','.join(vars)])\n",
    "    if id not in ptypes:\n",
    "        ptypes[id] = PType(Pred(sym, types), vars)\n",
    "    return ptypes[id]\n",
    "\n",
    "print(show(mkptype('rabbit') is mkptype('rabbit')))"
   ]
  },
  {
   "cell_type": "code",
   "execution_count": 8,
   "metadata": {},
   "outputs": [],
   "source": [
    "def xy1xy2_to_cwh(x1, y1, x2, y2):\n",
    "    '''Transform to center, width and height.'''\n",
    "    return {'cx': int(x1/2 + x2/2), 'cy': int(y1/2 + y2/2), 'w': x2 - x1, 'h': y2 - y1}"
   ]
  },
  {
   "cell_type": "code",
   "execution_count": 12,
   "metadata": {},
   "outputs": [
    {
     "name": "stdout",
     "output_type": "stream",
     "text": [
      "True\n",
      "True\n",
      "True\n",
      "True\n",
      "\\begin{equation}\\left[\\begin{array}{rcl}\n",
      "\\text{seg} &=& \\left[\\begin{array}{rcl}\n",
      "\\text{h} &=& 107\\\\\n",
      "\\text{w} &=& 71\\\\\n",
      "\\text{cy} &=& 544\\\\\n",
      "\\text{cx} &=& 44\n",
      "\\end{array}\\right]\\\\\n",
      "\\text{x} &=& a_{19}\\\\\n",
      "\\text{pfun} &=& \\lambda v:Ind\\ .\\ \\text{clock}(v)\n",
      "\\end{array}\\right]\\end{equation}\n"
     ]
    },
    {
     "data": {
      "text/latex": [
       "\\begin{equation}\\left[\\begin{array}{rcl}\n",
       "\\text{seg} &=& \\left[\\begin{array}{rcl}\n",
       "\\text{h} &=& 107\\\\\n",
       "\\text{w} &=& 71\\\\\n",
       "\\text{cy} &=& 544\\\\\n",
       "\\text{cx} &=& 44\n",
       "\\end{array}\\right]\\\\\n",
       "\\text{x} &=& a_{19}\\\\\n",
       "\\text{pfun} &=& \\lambda v:Ind\\ .\\ \\text{clock}(v)\n",
       "\\end{array}\\right]\\end{equation}"
      ],
      "text/plain": [
       "<IPython.core.display.Latex object>"
      ]
     },
     "execution_count": 12,
     "metadata": {},
     "output_type": "execute_result"
    }
   ],
   "source": [
    "def yolo_detector(i):\n",
    "    return [Rec({\n",
    "        'x': Ind.create(),\n",
    "        'seg': Rec({\n",
    "            #'i': i,\n",
    "            **xy1xy2_to_cwh(o['topleft']['x'], o['topleft']['y'], o['bottomright']['x'], o['bottomright']['y']),\n",
    "        }),\n",
    "        'pfun': Fun('v', Ind, mkptype(o['label'].replace(' ', '_'))),\n",
    "    }) for o in yolo(i)] # @todo RBG/BGR?\n",
    "\n",
    "image_detections = yolo_detector(img)\n",
    "\n",
    "print(ImageDetections.query(image_detections))\n",
    "print(ImageDetection.query(image_detections[0]))\n",
    "print(Ppty.query(image_detections[0].pfun))\n",
    "print(Segment.query(image_detections[0].seg))\n",
    "\n",
    "latex(image_detections[-1])"
   ]
  },
  {
   "cell_type": "code",
   "execution_count": 18,
   "metadata": {},
   "outputs": [
    {
     "name": "stdout",
     "output_type": "stream",
     "text": [
      "\\begin{equation}\\left[\\begin{array}{rcl}\n",
      "\\text{c} &:& \\langle \\lambda v:Ind\\ .\\ \\text{person}(v), [ x]\\rangle\\\\\n",
      "\\text{x} &:& Ind_{a_{10}}\n",
      "\\end{array}\\right]\\end{equation}\n"
     ]
    },
    {
     "data": {
      "text/latex": [
       "\\begin{equation}\\left[\\begin{array}{rcl}\n",
       "\\text{c} &:& \\langle \\lambda v:Ind\\ .\\ \\text{person}(v), [ x]\\rangle\\\\\n",
       "\\text{x} &:& Ind_{a_{10}}\n",
       "\\end{array}\\right]\\end{equation}"
      ],
      "text/plain": [
       "<IPython.core.display.Latex object>"
      ]
     },
     "execution_count": 18,
     "metadata": {},
     "output_type": "execute_result"
    }
   ],
   "source": [
    "def sit_prop(r):\n",
    "    return RecType({\n",
    "        'x': SingletonType(Ind, r.x),\n",
    "        'c': (r.pfun, ['x'])\n",
    "    })\n",
    "latex(sit_prop(image_detections[0]))"
   ]
  },
  {
   "cell_type": "code",
   "execution_count": 19,
   "metadata": {},
   "outputs": [
    {
     "name": "stdout",
     "output_type": "stream",
     "text": [
      "\\begin{equation}\\left[\\begin{array}{rcl}\n",
      "\\text{c} &:& \\langle \\lambda v_1:Ind\\ .\\ \\lambda v_2:\\left[\\begin{array}{rcl}\n",
      "\\text{w} &:& Int\\\\\n",
      "\\text{h} &:& Int\\\\\n",
      "\\text{cy} &:& Int\\\\\n",
      "\\text{cx} &:& Int\n",
      "\\end{array}\\right]\\ .\\ \\text{location}(v_1, v_2), [ x, \\left[\\begin{array}{rcl}\n",
      "\\text{h} &=& 809\\\\\n",
      "\\text{w} &=& 276\\\\\n",
      "\\text{cy} &=& 654\\\\\n",
      "\\text{cx} &=& 138\n",
      "\\end{array}\\right]]\\rangle\\\\\n",
      "\\text{x} &:& Ind_{a_{10}}\n",
      "\\end{array}\\right]\\end{equation}\n"
     ]
    },
    {
     "data": {
      "text/latex": [
       "\\begin{equation}\\left[\\begin{array}{rcl}\n",
       "\\text{c} &:& \\langle \\lambda v_1:Ind\\ .\\ \\lambda v_2:\\left[\\begin{array}{rcl}\n",
       "\\text{w} &:& Int\\\\\n",
       "\\text{h} &:& Int\\\\\n",
       "\\text{cy} &:& Int\\\\\n",
       "\\text{cx} &:& Int\n",
       "\\end{array}\\right]\\ .\\ \\text{location}(v_1, v_2), [ x, \\left[\\begin{array}{rcl}\n",
       "\\text{h} &=& 809\\\\\n",
       "\\text{w} &=& 276\\\\\n",
       "\\text{cy} &=& 654\\\\\n",
       "\\text{cx} &=& 138\n",
       "\\end{array}\\right]]\\rangle\\\\\n",
       "\\text{x} &:& Ind_{a_{10}}\n",
       "\\end{array}\\right]\\end{equation}"
      ],
      "text/plain": [
       "<IPython.core.display.Latex object>"
      ]
     },
     "execution_count": 19,
     "metadata": {},
     "output_type": "execute_result"
    }
   ],
   "source": [
    "Loc = mkptype('location', [Ind, Segment], ['v_1', 'v_2'])\n",
    "LocFun = Fun('v_1', Ind, Fun('v_2', Segment, Loc))\n",
    "\n",
    "def sit_loc(r):\n",
    "    return RecType({\n",
    "        'x': SingletonType(Ind, r.x),\n",
    "        'c': (LocFun, ['x', r.seg]),\n",
    "    })\n",
    "latex(sit_loc(image_detections[0]))"
   ]
  },
  {
   "cell_type": "markdown",
   "metadata": {},
   "source": [
    "## Spatial relations"
   ]
  },
  {
   "cell_type": "code",
   "execution_count": 25,
   "metadata": {},
   "outputs": [
    {
     "name": "stdout",
     "output_type": "stream",
     "text": [
      "left(a, b)\n",
      "True\n",
      "False\n"
     ]
    }
   ],
   "source": [
    "# An index of IndDetection by Ind.\n",
    "ind_dets = dict((r.x, r) for r in image_detections)\n",
    "\n",
    "Left = mkptype('left', [Ind, Ind], ['a', 'b'])\n",
    "Left.learn_witness_condition(lambda ab: ind_dets[ab[0]].seg.cx < ind_dets[ab[1]].seg.cx)\n",
    "print(show(Left))\n",
    "\n",
    "print(Left.query((image_detections[0].x, image_detections[1].x)))\n",
    "print(Left.query((image_detections[1].x, image_detections[2].x)))"
   ]
  },
  {
   "cell_type": "code",
   "execution_count": 32,
   "metadata": {},
   "outputs": [
    {
     "name": "stdout",
     "output_type": "stream",
     "text": [
      "\\begin{equation}[ \\left[\\begin{array}{rcl}\n",
      "\\text{x} &:& Ind_{a_{10}}\\\\\n",
      "\\text{y} &:& Ind_{a_{11}}\\\\\n",
      "\\text{c} &:& \\langle \\text{left}(a, b), [ x, y]\\rangle\n",
      "\\end{array}\\right]]\\end{equation}\n",
      "\n",
      "\\begin{equation}[ ]\\end{equation}\n"
     ]
    },
    {
     "data": {
      "text/latex": [
       "\\begin{equation}[ \\left[\\begin{array}{rcl}\n",
       "\\text{x} &:& Ind_{a_{10}}\\\\\n",
       "\\text{y} &:& Ind_{a_{11}}\\\\\n",
       "\\text{c} &:& \\langle \\text{left}(a, b), [ x, y]\\rangle\n",
       "\\end{array}\\right]]\\end{equation}\n",
       "\n",
       "\\begin{equation}[ ]\\end{equation}"
      ],
      "text/plain": [
       "<IPython.core.display.Latex object>"
      ]
     },
     "execution_count": 32,
     "metadata": {},
     "output_type": "execute_result"
    }
   ],
   "source": [
    "binary_relations = [Left]\n",
    "\n",
    "def sit_rel(r, s):\n",
    "    for rel in binary_relations:\n",
    "        if rel.query((r.x, s.x)):\n",
    "            yield RecType({\n",
    "                'x': SingletonType(Ind, r.x),\n",
    "                'y': SingletonType(Ind, s.x),\n",
    "                'c': (rel, ['x', 'y']),\n",
    "            })\n",
    "        \n",
    "latex(list(sit_rel(image_detections[0], image_detections[1])),\n",
    "      list(sit_rel(image_detections[1], image_detections[0])))"
   ]
  },
  {
   "cell_type": "markdown",
   "metadata": {},
   "source": [
    "## Combining commitments"
   ]
  },
  {
   "cell_type": "code",
   "execution_count": 36,
   "metadata": {},
   "outputs": [
    {
     "name": "stdout",
     "output_type": "stream",
     "text": [
      "\\begin{equation}\\left[\\begin{array}{rcl}\n",
      "\\text{prev} &:& \\left[\\begin{array}{rcl}\n",
      "\\text{a} &:& A\n",
      "\\end{array}\\right]\\\\\n",
      "\\text{b} &:& B\n",
      "\\end{array}\\right]\\end{equation}\n"
     ]
    },
    {
     "data": {
      "text/latex": [
       "\\begin{equation}\\left[\\begin{array}{rcl}\n",
       "\\text{prev} &:& \\left[\\begin{array}{rcl}\n",
       "\\text{a} &:& A\n",
       "\\end{array}\\right]\\\\\n",
       "\\text{b} &:& B\n",
       "\\end{array}\\right]\\end{equation}"
      ],
      "text/plain": [
       "<IPython.core.display.Latex object>"
      ]
     },
     "execution_count": 36,
     "metadata": {},
     "output_type": "execute_result"
    }
   ],
   "source": [
    "from functools import reduce\n",
    "def combine_prev(*ts):\n",
    "    return reduce(lambda t1, t2: RecType({'prev': t1}).merge(t2) if t2 else t1, ts)\n",
    "latex(combine_prev(RecType({'a': 'A'}), RecType({'b': 'B'})))"
   ]
  },
  {
   "cell_type": "code",
   "execution_count": 42,
   "metadata": {},
   "outputs": [
    {
     "name": "stdout",
     "output_type": "stream",
     "text": [
      "\\begin{equation}\\left[\\begin{array}{rcl}\n",
      "\\text{prev} &:& \\left[\\begin{array}{rcl}\n",
      "\\text{prev} &:& \\left[\\begin{array}{rcl}\n",
      "\\text{prev} &:& \\left[\\begin{array}{rcl}\n",
      "\\text{prev} &:& \\left[\\begin{array}{rcl}\n",
      "\\text{prev} &:& \\left[\\begin{array}{rcl}\n",
      "\\text{prev} &:& \\left[\\begin{array}{rcl}\n",
      "\\text{prev} &:& \\left[\\begin{array}{rcl}\n",
      "\\text{prev} &:& \\left[\\begin{array}{rcl}\n",
      "\\text{c} &:& \\langle \\lambda v:Ind\\ .\\ \\text{sofa}(v), [ x]\\rangle\\\\\n",
      "\\text{x} &:& Ind_{a_{17}}\n",
      "\\end{array}\\right]\\\\\n",
      "\\text{c} &:& \\langle \\lambda v:Ind\\ .\\ \\text{cell_phone}(v), [ x]\\rangle\\\\\n",
      "\\text{x} &:& Ind_{a_{18}}\n",
      "\\end{array}\\right]\\\\\n",
      "\\text{c} &:& \\langle \\lambda v:Ind\\ .\\ \\text{clock}(v), [ x]\\rangle\\\\\n",
      "\\text{x} &:& Ind_{a_{19}}\n",
      "\\end{array}\\right]\\\\\n",
      "\\text{c} &:& \\langle \\lambda v_1:Ind\\ .\\ \\lambda v_2:\\left[\\begin{array}{rcl}\n",
      "\\text{w} &:& Int\\\\\n",
      "\\text{h} &:& Int\\\\\n",
      "\\text{cy} &:& Int\\\\\n",
      "\\text{cx} &:& Int\n",
      "\\end{array}\\right]\\ .\\ \\text{location}(v_1, v_2), [ x, \\left[\\begin{array}{rcl}\n",
      "\\text{h} &=& 803\\\\\n",
      "\\text{w} &=& 957\\\\\n",
      "\\text{cy} &=& 677\\\\\n",
      "\\text{cx} &=& 486\n",
      "\\end{array}\\right]]\\rangle\\\\\n",
      "\\text{x} &:& Ind_{a_{17}}\n",
      "\\end{array}\\right]\\\\\n",
      "\\text{c} &:& \\langle \\lambda v_1:Ind\\ .\\ \\lambda v_2:\\left[\\begin{array}{rcl}\n",
      "\\text{w} &:& Int\\\\\n",
      "\\text{h} &:& Int\\\\\n",
      "\\text{cy} &:& Int\\\\\n",
      "\\text{cx} &:& Int\n",
      "\\end{array}\\right]\\ .\\ \\text{location}(v_1, v_2), [ x, \\left[\\begin{array}{rcl}\n",
      "\\text{h} &=& 423\\\\\n",
      "\\text{w} &=& 187\\\\\n",
      "\\text{cy} &=& 588\\\\\n",
      "\\text{cx} &=& 93\n",
      "\\end{array}\\right]]\\rangle\\\\\n",
      "\\text{x} &:& Ind_{a_{18}}\n",
      "\\end{array}\\right]\\\\\n",
      "\\text{c} &:& \\langle \\lambda v_1:Ind\\ .\\ \\lambda v_2:\\left[\\begin{array}{rcl}\n",
      "\\text{w} &:& Int\\\\\n",
      "\\text{h} &:& Int\\\\\n",
      "\\text{cy} &:& Int\\\\\n",
      "\\text{cx} &:& Int\n",
      "\\end{array}\\right]\\ .\\ \\text{location}(v_1, v_2), [ x, \\left[\\begin{array}{rcl}\n",
      "\\text{h} &=& 107\\\\\n",
      "\\text{w} &=& 71\\\\\n",
      "\\text{cy} &=& 544\\\\\n",
      "\\text{cx} &=& 44\n",
      "\\end{array}\\right]]\\rangle\\\\\n",
      "\\text{x} &:& Ind_{a_{19}}\n",
      "\\end{array}\\right]\\\\\n",
      "\\text{y} &:& Ind_{a_{17}}\\\\\n",
      "\\text{x} &:& Ind_{a_{18}}\\\\\n",
      "\\text{c} &:& \\langle \\text{left}(a, b), [ x, y]\\rangle\n",
      "\\end{array}\\right]\\\\\n",
      "\\text{y} &:& Ind_{a_{17}}\\\\\n",
      "\\text{x} &:& Ind_{a_{19}}\\\\\n",
      "\\text{c} &:& \\langle \\text{left}(a, b), [ x, y]\\rangle\n",
      "\\end{array}\\right]\\\\\n",
      "\\text{y} &:& Ind_{a_{18}}\\\\\n",
      "\\text{x} &:& Ind_{a_{19}}\\\\\n",
      "\\text{c} &:& \\langle \\text{left}(a, b), [ x, y]\\rangle\n",
      "\\end{array}\\right]\\end{equation}\n"
     ]
    },
    {
     "data": {
      "text/latex": [
       "\\begin{equation}\\left[\\begin{array}{rcl}\n",
       "\\text{prev} &:& \\left[\\begin{array}{rcl}\n",
       "\\text{prev} &:& \\left[\\begin{array}{rcl}\n",
       "\\text{prev} &:& \\left[\\begin{array}{rcl}\n",
       "\\text{prev} &:& \\left[\\begin{array}{rcl}\n",
       "\\text{prev} &:& \\left[\\begin{array}{rcl}\n",
       "\\text{prev} &:& \\left[\\begin{array}{rcl}\n",
       "\\text{prev} &:& \\left[\\begin{array}{rcl}\n",
       "\\text{prev} &:& \\left[\\begin{array}{rcl}\n",
       "\\text{c} &:& \\langle \\lambda v:Ind\\ .\\ \\text{sofa}(v), [ x]\\rangle\\\\\n",
       "\\text{x} &:& Ind_{a_{17}}\n",
       "\\end{array}\\right]\\\\\n",
       "\\text{c} &:& \\langle \\lambda v:Ind\\ .\\ \\text{cell_phone}(v), [ x]\\rangle\\\\\n",
       "\\text{x} &:& Ind_{a_{18}}\n",
       "\\end{array}\\right]\\\\\n",
       "\\text{c} &:& \\langle \\lambda v:Ind\\ .\\ \\text{clock}(v), [ x]\\rangle\\\\\n",
       "\\text{x} &:& Ind_{a_{19}}\n",
       "\\end{array}\\right]\\\\\n",
       "\\text{c} &:& \\langle \\lambda v_1:Ind\\ .\\ \\lambda v_2:\\left[\\begin{array}{rcl}\n",
       "\\text{w} &:& Int\\\\\n",
       "\\text{h} &:& Int\\\\\n",
       "\\text{cy} &:& Int\\\\\n",
       "\\text{cx} &:& Int\n",
       "\\end{array}\\right]\\ .\\ \\text{location}(v_1, v_2), [ x, \\left[\\begin{array}{rcl}\n",
       "\\text{h} &=& 803\\\\\n",
       "\\text{w} &=& 957\\\\\n",
       "\\text{cy} &=& 677\\\\\n",
       "\\text{cx} &=& 486\n",
       "\\end{array}\\right]]\\rangle\\\\\n",
       "\\text{x} &:& Ind_{a_{17}}\n",
       "\\end{array}\\right]\\\\\n",
       "\\text{c} &:& \\langle \\lambda v_1:Ind\\ .\\ \\lambda v_2:\\left[\\begin{array}{rcl}\n",
       "\\text{w} &:& Int\\\\\n",
       "\\text{h} &:& Int\\\\\n",
       "\\text{cy} &:& Int\\\\\n",
       "\\text{cx} &:& Int\n",
       "\\end{array}\\right]\\ .\\ \\text{location}(v_1, v_2), [ x, \\left[\\begin{array}{rcl}\n",
       "\\text{h} &=& 423\\\\\n",
       "\\text{w} &=& 187\\\\\n",
       "\\text{cy} &=& 588\\\\\n",
       "\\text{cx} &=& 93\n",
       "\\end{array}\\right]]\\rangle\\\\\n",
       "\\text{x} &:& Ind_{a_{18}}\n",
       "\\end{array}\\right]\\\\\n",
       "\\text{c} &:& \\langle \\lambda v_1:Ind\\ .\\ \\lambda v_2:\\left[\\begin{array}{rcl}\n",
       "\\text{w} &:& Int\\\\\n",
       "\\text{h} &:& Int\\\\\n",
       "\\text{cy} &:& Int\\\\\n",
       "\\text{cx} &:& Int\n",
       "\\end{array}\\right]\\ .\\ \\text{location}(v_1, v_2), [ x, \\left[\\begin{array}{rcl}\n",
       "\\text{h} &=& 107\\\\\n",
       "\\text{w} &=& 71\\\\\n",
       "\\text{cy} &=& 544\\\\\n",
       "\\text{cx} &=& 44\n",
       "\\end{array}\\right]]\\rangle\\\\\n",
       "\\text{x} &:& Ind_{a_{19}}\n",
       "\\end{array}\\right]\\\\\n",
       "\\text{y} &:& Ind_{a_{17}}\\\\\n",
       "\\text{x} &:& Ind_{a_{18}}\\\\\n",
       "\\text{c} &:& \\langle \\text{left}(a, b), [ x, y]\\rangle\n",
       "\\end{array}\\right]\\\\\n",
       "\\text{y} &:& Ind_{a_{17}}\\\\\n",
       "\\text{x} &:& Ind_{a_{19}}\\\\\n",
       "\\text{c} &:& \\langle \\text{left}(a, b), [ x, y]\\rangle\n",
       "\\end{array}\\right]\\\\\n",
       "\\text{y} &:& Ind_{a_{18}}\\\\\n",
       "\\text{x} &:& Ind_{a_{19}}\\\\\n",
       "\\text{c} &:& \\langle \\text{left}(a, b), [ x, y]\\rangle\n",
       "\\end{array}\\right]\\end{equation}"
      ],
      "text/plain": [
       "<IPython.core.display.Latex object>"
      ]
     },
     "execution_count": 42,
     "metadata": {},
     "output_type": "execute_result"
    }
   ],
   "source": [
    "from itertools import product\n",
    "\n",
    "image_detections_few = image_detections[-3:]\n",
    "situations = [sit_prop(r) for r in image_detections_few] \\\n",
    "    + [sit_loc(r) for r in image_detections_few] \\\n",
    "    + sum((list(sit_rel(r, s)) for (r, s) in product(image_detections_few, image_detections_few)), [])\n",
    "comb = combine_prev(*situations)\n",
    "latex(comb)"
   ]
  },
  {
   "cell_type": "code",
   "execution_count": 43,
   "metadata": {},
   "outputs": [
    {
     "name": "stdout",
     "output_type": "stream",
     "text": [
      "\\begin{equation}\\left[\\begin{array}{rcl}\n",
      "\\text{prev.prev.prev.prev.c} &:& \\langle \\lambda v_1:Ind\\ .\\ \\lambda v_2:\\left[\\begin{array}{rcl}\n",
      "\\text{h} &:& Int\\\\\n",
      "\\text{cy} &:& Int\\\\\n",
      "\\text{w} &:& Int\\\\\n",
      "\\text{cx} &:& Int\n",
      "\\end{array}\\right]\\ .\\ \\text{location}(v_1, v_2), [ prev.prev.prev.prev.x, \\left[\\begin{array}{rcl}\n",
      "\\text{h} &=& 423\\\\\n",
      "\\text{cy} &=& 588\\\\\n",
      "\\text{w} &=& 187\\\\\n",
      "\\text{cx} &=& 93\n",
      "\\end{array}\\right]]\\rangle\\\\\n",
      "\\text{prev.prev.prev.prev.prev.prev.prev.prev.c} &:& \\langle \\lambda v:Ind\\ .\\ \\text{sofa}(v), [ prev.prev.prev.prev.prev.prev.prev.prev.x]\\rangle\\\\\n",
      "\\text{prev.prev.prev.x} &:& Ind_{a_{19}}\\\\\n",
      "\\text{x} &:& Ind_{a_{19}}\\\\\n",
      "\\text{prev.prev.prev.c} &:& \\langle \\lambda v_1:Ind\\ .\\ \\lambda v_2:\\left[\\begin{array}{rcl}\n",
      "\\text{h} &:& Int\\\\\n",
      "\\text{cy} &:& Int\\\\\n",
      "\\text{w} &:& Int\\\\\n",
      "\\text{cx} &:& Int\n",
      "\\end{array}\\right]\\ .\\ \\text{location}(v_1, v_2), [ prev.prev.prev.x, \\left[\\begin{array}{rcl}\n",
      "\\text{h} &=& 107\\\\\n",
      "\\text{cy} &=& 544\\\\\n",
      "\\text{w} &=& 71\\\\\n",
      "\\text{cx} &=& 44\n",
      "\\end{array}\\right]]\\rangle\\\\\n",
      "\\text{c} &:& \\langle \\text{left}(a, b), [ x, y]\\rangle\\\\\n",
      "\\text{prev.prev.prev.prev.prev.prev.prev.c} &:& \\langle \\lambda v:Ind\\ .\\ \\text{cell_phone}(v), [ prev.prev.prev.prev.prev.prev.prev.x]\\rangle\\\\\n",
      "\\text{prev.prev.prev.prev.prev.prev.prev.x} &:& Ind_{a_{18}}\\\\\n",
      "\\text{prev.prev.c} &:& \\langle \\text{left}(a, b), [ prev.prev.x, prev.prev.y]\\rangle\\\\\n",
      "\\text{prev.prev.x} &:& Ind_{a_{18}}\\\\\n",
      "\\text{prev.prev.y} &:& Ind_{a_{17}}\\\\\n",
      "\\text{prev.x} &:& Ind_{a_{19}}\\\\\n",
      "\\text{prev.prev.prev.prev.prev.prev.x} &:& Ind_{a_{19}}\\\\\n",
      "\\text{prev.prev.prev.prev.prev.c} &:& \\langle \\lambda v_1:Ind\\ .\\ \\lambda v_2:\\left[\\begin{array}{rcl}\n",
      "\\text{h} &:& Int\\\\\n",
      "\\text{cy} &:& Int\\\\\n",
      "\\text{w} &:& Int\\\\\n",
      "\\text{cx} &:& Int\n",
      "\\end{array}\\right]\\ .\\ \\text{location}(v_1, v_2), [ prev.prev.prev.prev.prev.x, \\left[\\begin{array}{rcl}\n",
      "\\text{h} &=& 803\\\\\n",
      "\\text{cy} &=& 677\\\\\n",
      "\\text{w} &=& 957\\\\\n",
      "\\text{cx} &=& 486\n",
      "\\end{array}\\right]]\\rangle\\\\\n",
      "\\text{prev.prev.prev.prev.x} &:& Ind_{a_{18}}\\\\\n",
      "\\text{prev.prev.prev.prev.prev.prev.c} &:& \\langle \\lambda v:Ind\\ .\\ \\text{clock}(v), [ prev.prev.prev.prev.prev.prev.x]\\rangle\\\\\n",
      "\\text{prev.prev.prev.prev.prev.x} &:& Ind_{a_{17}}\\\\\n",
      "\\text{prev.prev.prev.prev.prev.prev.prev.prev.x} &:& Ind_{a_{17}}\\\\\n",
      "\\text{prev.c} &:& \\langle \\text{left}(a, b), [ prev.x, prev.y]\\rangle\\\\\n",
      "\\text{y} &:& Ind_{a_{18}}\\\\\n",
      "\\text{prev.y} &:& Ind_{a_{17}}\n",
      "\\end{array}\\right]\\end{equation}\n"
     ]
    },
    {
     "data": {
      "text/latex": [
       "\\begin{equation}\\left[\\begin{array}{rcl}\n",
       "\\text{prev.prev.prev.prev.c} &:& \\langle \\lambda v_1:Ind\\ .\\ \\lambda v_2:\\left[\\begin{array}{rcl}\n",
       "\\text{h} &:& Int\\\\\n",
       "\\text{cy} &:& Int\\\\\n",
       "\\text{w} &:& Int\\\\\n",
       "\\text{cx} &:& Int\n",
       "\\end{array}\\right]\\ .\\ \\text{location}(v_1, v_2), [ prev.prev.prev.prev.x, \\left[\\begin{array}{rcl}\n",
       "\\text{h} &=& 423\\\\\n",
       "\\text{cy} &=& 588\\\\\n",
       "\\text{w} &=& 187\\\\\n",
       "\\text{cx} &=& 93\n",
       "\\end{array}\\right]]\\rangle\\\\\n",
       "\\text{prev.prev.prev.prev.prev.prev.prev.prev.c} &:& \\langle \\lambda v:Ind\\ .\\ \\text{sofa}(v), [ prev.prev.prev.prev.prev.prev.prev.prev.x]\\rangle\\\\\n",
       "\\text{prev.prev.prev.x} &:& Ind_{a_{19}}\\\\\n",
       "\\text{x} &:& Ind_{a_{19}}\\\\\n",
       "\\text{prev.prev.prev.c} &:& \\langle \\lambda v_1:Ind\\ .\\ \\lambda v_2:\\left[\\begin{array}{rcl}\n",
       "\\text{h} &:& Int\\\\\n",
       "\\text{cy} &:& Int\\\\\n",
       "\\text{w} &:& Int\\\\\n",
       "\\text{cx} &:& Int\n",
       "\\end{array}\\right]\\ .\\ \\text{location}(v_1, v_2), [ prev.prev.prev.x, \\left[\\begin{array}{rcl}\n",
       "\\text{h} &=& 107\\\\\n",
       "\\text{cy} &=& 544\\\\\n",
       "\\text{w} &=& 71\\\\\n",
       "\\text{cx} &=& 44\n",
       "\\end{array}\\right]]\\rangle\\\\\n",
       "\\text{c} &:& \\langle \\text{left}(a, b), [ x, y]\\rangle\\\\\n",
       "\\text{prev.prev.prev.prev.prev.prev.prev.c} &:& \\langle \\lambda v:Ind\\ .\\ \\text{cell_phone}(v), [ prev.prev.prev.prev.prev.prev.prev.x]\\rangle\\\\\n",
       "\\text{prev.prev.prev.prev.prev.prev.prev.x} &:& Ind_{a_{18}}\\\\\n",
       "\\text{prev.prev.c} &:& \\langle \\text{left}(a, b), [ prev.prev.x, prev.prev.y]\\rangle\\\\\n",
       "\\text{prev.prev.x} &:& Ind_{a_{18}}\\\\\n",
       "\\text{prev.prev.y} &:& Ind_{a_{17}}\\\\\n",
       "\\text{prev.x} &:& Ind_{a_{19}}\\\\\n",
       "\\text{prev.prev.prev.prev.prev.prev.x} &:& Ind_{a_{19}}\\\\\n",
       "\\text{prev.prev.prev.prev.prev.c} &:& \\langle \\lambda v_1:Ind\\ .\\ \\lambda v_2:\\left[\\begin{array}{rcl}\n",
       "\\text{h} &:& Int\\\\\n",
       "\\text{cy} &:& Int\\\\\n",
       "\\text{w} &:& Int\\\\\n",
       "\\text{cx} &:& Int\n",
       "\\end{array}\\right]\\ .\\ \\text{location}(v_1, v_2), [ prev.prev.prev.prev.prev.x, \\left[\\begin{array}{rcl}\n",
       "\\text{h} &=& 803\\\\\n",
       "\\text{cy} &=& 677\\\\\n",
       "\\text{w} &=& 957\\\\\n",
       "\\text{cx} &=& 486\n",
       "\\end{array}\\right]]\\rangle\\\\\n",
       "\\text{prev.prev.prev.prev.x} &:& Ind_{a_{18}}\\\\\n",
       "\\text{prev.prev.prev.prev.prev.prev.c} &:& \\langle \\lambda v:Ind\\ .\\ \\text{clock}(v), [ prev.prev.prev.prev.prev.prev.x]\\rangle\\\\\n",
       "\\text{prev.prev.prev.prev.prev.x} &:& Ind_{a_{17}}\\\\\n",
       "\\text{prev.prev.prev.prev.prev.prev.prev.prev.x} &:& Ind_{a_{17}}\\\\\n",
       "\\text{prev.c} &:& \\langle \\text{left}(a, b), [ prev.x, prev.y]\\rangle\\\\\n",
       "\\text{y} &:& Ind_{a_{18}}\\\\\n",
       "\\text{prev.y} &:& Ind_{a_{17}}\n",
       "\\end{array}\\right]\\end{equation}"
      ],
      "text/plain": [
       "<IPython.core.display.Latex object>"
      ]
     },
     "execution_count": 43,
     "metadata": {},
     "output_type": "execute_result"
    }
   ],
   "source": [
    "combflat = comb.flatten()\n",
    "latex(combflat)"
   ]
  },
  {
   "cell_type": "markdown",
   "metadata": {},
   "source": [
    "## Text parsing"
   ]
  },
  {
   "cell_type": "code",
   "execution_count": 17,
   "metadata": {
    "collapsed": true
   },
   "outputs": [
    {
     "name": "stdout",
     "output_type": "stream",
     "text": [
      "A dog is to the left of a car\n",
      "\\begin{equation}\\left[\\begin{array}{rcl}\n",
      "\\text{c}_\\text{dog} &:& \\langle \\lambda v:Ind\\ .\\ \\text{dog}(v), [a_1]\\rangle\\\\\n",
      "\\text{c}_\\text{car} &:& \\langle \\lambda v:Ind\\ .\\ \\text{car}(v), [a_2]\\rangle\\\\\n",
      "\\text{a}_\\text{1} &:& Ind\\\\\n",
      "\\text{c}_\\text{left} &:& \\langle \\lambda a:Ind\\ .\\ \\lambda b:Ind\\ .\\ \\text{left}(a, b), [a_1, a_2]\\rangle\\\\\n",
      "\\text{a}_\\text{2} &:& Ind\n",
      "\\end{array}\\right]\\end{equation}\n"
     ]
    },
    {
     "data": {
      "text/latex": [
       "\\begin{equation}\\left[\\begin{array}{rcl}\n",
       "\\text{c}_\\text{dog} &:& \\langle \\lambda v:Ind\\ .\\ \\text{dog}(v), [a_1]\\rangle\\\\\n",
       "\\text{c}_\\text{car} &:& \\langle \\lambda v:Ind\\ .\\ \\text{car}(v), [a_2]\\rangle\\\\\n",
       "\\text{a}_\\text{1} &:& Ind\\\\\n",
       "\\text{c}_\\text{left} &:& \\langle \\lambda a:Ind\\ .\\ \\lambda b:Ind\\ .\\ \\text{left}(a, b), [a_1, a_2]\\rangle\\\\\n",
       "\\text{a}_\\text{2} &:& Ind\n",
       "\\end{array}\\right]\\end{equation}"
      ],
      "text/plain": [
       "<IPython.core.display.Latex object>"
      ]
     },
     "execution_count": 17,
     "metadata": {},
     "output_type": "execute_result"
    }
   ],
   "source": [
    "def create_abc(prop_a, prop_b, rel):\n",
    "    '''Creates a record type describing two individuals and a relation between them.'''\n",
    "    return RecType({\n",
    "        'a_1': Ind,\n",
    "        'a_2': Ind,\n",
    "        'c_{' + prop_a + '}': (Fun('v', Ind, mkptype(prop_a)), ['a_1']),\n",
    "        'c_{' + prop_b + '}': (Fun('v', Ind, mkptype(prop_b)), ['a_2']),\n",
    "        'c_{' + rel + '}': (Fun('a', Ind, Fun('b', Ind, mkptype(rel, [Ind, Ind], ['a', 'b']))), ['a_1', 'a_2'])\n",
    "    })\n",
    "\n",
    "print(\"A dog is to the left of a car\")\n",
    "question = create_abc('dog', 'car', 'left')\n",
    "latex(question)"
   ]
  },
  {
   "cell_type": "code",
   "execution_count": 18,
   "metadata": {
    "collapsed": true
   },
   "outputs": [
    {
     "name": "stdout",
     "output_type": "stream",
     "text": [
      "{c_{dog} : (lambda v:Ind . dog(v), [a_1]), c_{car} : (lambda v:Ind . car(v), [a_2]), a_1 : Ind, c_{left} : (lambda a:Ind . lambda b:Ind . left(a, b), [a_1, a_2]), a_2 : Ind}\n"
     ]
    },
    {
     "data": {
      "text/latex": [
       "\\begin{equation}\\left[\\begin{array}{rcl}\n",
       "\\text{c}_\\text{dog} &:& \\langle \\lambda v:Ind\\ .\\ \\text{dog}(v), [a_1]\\rangle\\\\\n",
       "\\text{c}_\\text{car} &:& \\langle \\lambda v:Ind\\ .\\ \\text{car}(v), [a_2]\\rangle\\\\\n",
       "\\text{a}_\\text{1} &:& Ind\\\\\n",
       "\\text{c}_\\text{left} &:& \\langle \\lambda a:Ind\\ .\\ \\lambda b:Ind\\ .\\ \\text{left}(a, b), [a_1, a_2]\\rangle\\\\\n",
       "\\text{a}_\\text{2} &:& Ind\n",
       "\\end{array}\\right]\\end{equation}"
      ],
      "text/plain": [
       "<IPython.core.display.Latex object>"
      ]
     },
     "execution_count": 18,
     "metadata": {},
     "output_type": "execute_result"
    }
   ],
   "source": [
    "import nltk\n",
    "\n",
    "grammar = nltk.grammar.FeatureGrammar.fromstring('''\n",
    "%start S\n",
    "S[SEM=(?a, ?b, ?prep)] -> NP[SEM=?a] 'is' Prep[SEM=?prep] NP[SEM=?b]\n",
    "NP[DEF=?def, SEM=?n] -> Det[DEF=?def] N[SEM=?n]\n",
    "N[SEM=<dog>] -> 'dog'\n",
    "N[SEM=<car>] -> 'car'\n",
    "N[SEM=<person>] -> 'person'\n",
    "N[SEM=<chair>] -> 'chair'\n",
    "Det -> 'a' | 'an'\n",
    "Prep[SEM=<left>] -> 'to' 'the' 'left' 'of'\n",
    "Prep[SEM=<right>] -> 'to' 'the' 'right' 'of'\n",
    "Prep[SEM=<above>] -> 'above'\n",
    "Prep[SEM=<under>] -> 'under'\n",
    "''')\n",
    "parser = nltk.FeatureChartParser(grammar)\n",
    "\n",
    "texts = [\n",
    "    'A dog is to the left of a car',\n",
    "#     'There is a dog to the left of a car',\n",
    "#     'Is the dog to the left of the car',\n",
    "#     'Is there a dog to the left of the car',\n",
    "]\n",
    "\n",
    "def parse_abc(text):\n",
    "    trees = parser.parse(text.lower().split())\n",
    "    tree = list(trees)[0]\n",
    "    sem = nltk.sem.root_semrep(tree)\n",
    "    return create_abc(*(str(s) for s in sem))\n",
    "\n",
    "for text in texts:\n",
    "    print(text)\n",
    "    r = parse_abc(text)\n",
    "    print(show(r))\n",
    "\n",
    "latex(r)"
   ]
  },
  {
   "cell_type": "code",
   "execution_count": null,
   "metadata": {
    "collapsed": true
   },
   "outputs": [],
   "source": []
  }
 ],
 "metadata": {
  "kernelspec": {
   "display_name": "Python 3",
   "language": "python",
   "name": "python3"
  },
  "language_info": {
   "codemirror_mode": {
    "name": "ipython",
    "version": 3
   },
   "file_extension": ".py",
   "mimetype": "text/x-python",
   "name": "python",
   "nbconvert_exporter": "python",
   "pygments_lexer": "ipython3",
   "version": "3.5.2"
  }
 },
 "nbformat": 4,
 "nbformat_minor": 2
}

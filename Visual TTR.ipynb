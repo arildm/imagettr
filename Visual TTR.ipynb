{
 "cells": [
  {
   "cell_type": "markdown",
   "metadata": {},
   "source": [
    "# Image recognition with TTR\n"
   ]
  },
  {
   "cell_type": "markdown",
   "metadata": {},
   "source": [
    "## Bridging between perceptual and conceptual domains\n",
    "\n",
    "Let's apply the object detection representation proposed in Dobnik & Cooper's *Interfacing language, spatial perception and cognition in TTR* to image recognition.\n",
    "\n",
    "![Fig 8](fig/lspc-fig8.png)\n",
    "\n",
    "Here, we use `Image` instead of `PointMap` for the whole, but instead of `reg:PointMap` we use yet another type (and rename it), `seg:Segment`. In Cooper's case the same type can be used to represent both the region and the whole, because a `PointMap` is a set of absolute positions. With `Image`, positions are relative to an origin, which needs to be specified when cropping.\n",
    "\n",
    "I guess in the general case, the domain of an `ObjectDetector` function need not be the same as the `reg` fields in the output elements."
   ]
  },
  {
   "cell_type": "code",
   "execution_count": 2,
   "metadata": {},
   "outputs": [
    {
     "name": "stdout",
     "output_type": "stream",
     "text": [
      "True\n",
      "True\n",
      "True\n"
     ]
    },
    {
     "data": {
      "text/plain": [
       "'<PIL.JpegImagePlugin.JpegImageFile image mode=RGB size=1080x1080 at 0x7F0B981042E8>'"
      ]
     },
     "execution_count": 2,
     "metadata": {},
     "output_type": "execute_result"
    }
   ],
   "source": [
    "import sys\n",
    "sys.path.append('pyttr')\n",
    "from pyttr.ttrtypes import *\n",
    "from pyttr.utils import *\n",
    "import PIL.Image\n",
    "\n",
    "ttrace()\n",
    "\n",
    "# Basic types.\n",
    "\n",
    "Ind = BType('Ind')\n",
    "\n",
    "Int = BType('Int')\n",
    "Int.learn_witness_condition(lambda x: isinstance(x, int))\n",
    "print(Int.query(365))\n",
    "\n",
    "Image = BType('Image')\n",
    "Image.learn_witness_condition(lambda x: isinstance(x, PIL.Image.Image))\n",
    "img = PIL.Image.open('res/dogcar.jpg')\n",
    "print(Image.query(img))\n",
    "\n",
    "# Segment type: a rectangular area of a given image.\n",
    "\n",
    "Segment = RecType({#'i': Image,\n",
    "    'cx': Int, 'cy': Int, 'w': Int, 'h': Int})\n",
    "print(Segment.query(Rec({#'i': img,\n",
    "    'cx': 100, 'cy': 150, 'w': 40, 'h': 20})))\n",
    "\n",
    "# Redefine Image.show() to work with Rec.show().\n",
    "def image_show(self):\n",
    "    return str(self)\n",
    "PIL.Image.Image.show = image_show\n",
    "show(img)"
   ]
  },
  {
   "cell_type": "code",
   "execution_count": 292,
   "metadata": {},
   "outputs": [],
   "source": [
    "def latex(*objs):\n",
    "    texcode = '\\n\\n'.join(to_ipython_latex(obj) for obj in objs)\n",
    "    #print(texcode)\n",
    "    return Latex(texcode)"
   ]
  },
  {
   "cell_type": "code",
   "execution_count": 293,
   "metadata": {},
   "outputs": [
    {
     "data": {
      "text/latex": [
       "\\begin{equation}\\left[\\begin{array}{rcl}\n",
       "\\text{w} &:& Int\\\\\n",
       "\\text{h} &:& Int\\\\\n",
       "\\text{cy} &:& Int\\\\\n",
       "\\text{cx} &:& Int\n",
       "\\end{array}\\right]\\end{equation}"
      ],
      "text/plain": [
       "<IPython.core.display.Latex object>"
      ]
     },
     "execution_count": 293,
     "metadata": {},
     "output_type": "execute_result"
    }
   ],
   "source": [
    "latex(Segment)"
   ]
  },
  {
   "cell_type": "markdown",
   "metadata": {},
   "source": [
    "$Ind$ and $Image$ are basic types.\n",
    "\n",
    "$Segment = \\left[\\begin{array}{rcl}\n",
    "\\text{cx} &:& Int\\\\\n",
    "\\text{cy} &:& Int\\\\\n",
    "\\text{w} &:& Int\\\\\n",
    "\\text{h} &:& Int\\\\\n",
    "\\end{array}\\right]$\n",
    "\n",
    "$Ppty = (Ind \\rightarrow Type)$\n",
    "\n",
    "$Object = \\left[ \\begin{array}{rcl}\n",
    "    \\text{pfun} &:& Ppty \\\\\n",
    "    \\text{seg} &:& Segment \\\\\n",
    "\\end{array} \\right]$\n",
    "\n",
    "$ObjectDetector = ( Image \\rightarrow [Object] )$"
   ]
  },
  {
   "cell_type": "code",
   "execution_count": 356,
   "metadata": {},
   "outputs": [
    {
     "data": {
      "text/latex": [
       "\\begin{equation}\\left(\\begin{array}{rcl}\n",
       "Ind\\rightarrow Ty\n",
       "\\end{array}\\right)\\end{equation}\n",
       "\n",
       "\\begin{equation}\\left(\\begin{array}{rcl}\n",
       "Image\\rightarrow \\left[\\begin{array}{rcl}\n",
       "\\left[\\begin{array}{rcl}\n",
       "\\text{seg} &:& \\left[\\begin{array}{rcl}\n",
       "\\text{w} &:& Int\\\\\n",
       "\\text{h} &:& Int\\\\\n",
       "\\text{cy} &:& Int\\\\\n",
       "\\text{cx} &:& Int\n",
       "\\end{array}\\right]\\\\\n",
       "\\text{pfun} &:& \\left(\\begin{array}{rcl}\n",
       "Ind\\rightarrow Ty\n",
       "\\end{array}\\right)\n",
       "\\end{array}\\right]\n",
       "\\end{array}\\right]\n",
       "\\end{array}\\right)\\end{equation}"
      ],
      "text/plain": [
       "<IPython.core.display.Latex object>"
      ]
     },
     "execution_count": 356,
     "metadata": {},
     "output_type": "execute_result"
    }
   ],
   "source": [
    "Ppty = FunType(Ind, Ty)\n",
    "Object = RecType({'seg': Segment, 'pfun': Ppty})\n",
    "Objects = ListType(Object)\n",
    "ObjectDetector = FunType(Image, Objects)\n",
    "\n",
    "latex(Ppty, ObjectDetector)"
   ]
  },
  {
   "cell_type": "markdown",
   "metadata": {},
   "source": [
    "## Object detection model YOLO\n",
    "\n",
    "We use an object detection model to detect and recognize objects in an image. The output is modeled as a set of TTR records.\n",
    "\n",
    "Requires OpenCV and [Darkflow](https://github.com/thtrieu/darkflow). `yolo.weights` is from [Yolo](https://pjreddie.com/darknet/yolo/)."
   ]
  },
  {
   "cell_type": "code",
   "execution_count": 6,
   "metadata": {
    "scrolled": true
   },
   "outputs": [
    {
     "name": "stdout",
     "output_type": "stream",
     "text": [
      "Parsing yolo/yolo.cfg\n",
      "Loading yolo/yolo.weights ...\n",
      "Successfully identified 203934260 bytes\n",
      "Finished in 0.040488481521606445s\n",
      "Model has a coco model name, loading coco labels.\n",
      "\n",
      "Building net ...\n",
      "Source | Train? | Layer description                | Output size\n",
      "-------+--------+----------------------------------+---------------\n",
      "       |        | input                            | (?, 608, 608, 3)\n",
      " Load  |  Yep!  | conv 3x3p1_1  +bnorm  leaky      | (?, 608, 608, 32)\n",
      " Load  |  Yep!  | maxp 2x2p0_2                     | (?, 304, 304, 32)\n",
      " Load  |  Yep!  | conv 3x3p1_1  +bnorm  leaky      | (?, 304, 304, 64)\n",
      " Load  |  Yep!  | maxp 2x2p0_2                     | (?, 152, 152, 64)\n",
      " Load  |  Yep!  | conv 3x3p1_1  +bnorm  leaky      | (?, 152, 152, 128)\n",
      " Load  |  Yep!  | conv 1x1p0_1  +bnorm  leaky      | (?, 152, 152, 64)\n",
      " Load  |  Yep!  | conv 3x3p1_1  +bnorm  leaky      | (?, 152, 152, 128)\n",
      " Load  |  Yep!  | maxp 2x2p0_2                     | (?, 76, 76, 128)\n",
      " Load  |  Yep!  | conv 3x3p1_1  +bnorm  leaky      | (?, 76, 76, 256)\n",
      " Load  |  Yep!  | conv 1x1p0_1  +bnorm  leaky      | (?, 76, 76, 128)\n",
      " Load  |  Yep!  | conv 3x3p1_1  +bnorm  leaky      | (?, 76, 76, 256)\n",
      " Load  |  Yep!  | maxp 2x2p0_2                     | (?, 38, 38, 256)\n",
      " Load  |  Yep!  | conv 3x3p1_1  +bnorm  leaky      | (?, 38, 38, 512)\n",
      " Load  |  Yep!  | conv 1x1p0_1  +bnorm  leaky      | (?, 38, 38, 256)\n",
      " Load  |  Yep!  | conv 3x3p1_1  +bnorm  leaky      | (?, 38, 38, 512)\n",
      " Load  |  Yep!  | conv 1x1p0_1  +bnorm  leaky      | (?, 38, 38, 256)\n",
      " Load  |  Yep!  | conv 3x3p1_1  +bnorm  leaky      | (?, 38, 38, 512)\n",
      " Load  |  Yep!  | maxp 2x2p0_2                     | (?, 19, 19, 512)\n",
      " Load  |  Yep!  | conv 3x3p1_1  +bnorm  leaky      | (?, 19, 19, 1024)\n",
      " Load  |  Yep!  | conv 1x1p0_1  +bnorm  leaky      | (?, 19, 19, 512)\n",
      " Load  |  Yep!  | conv 3x3p1_1  +bnorm  leaky      | (?, 19, 19, 1024)\n",
      " Load  |  Yep!  | conv 1x1p0_1  +bnorm  leaky      | (?, 19, 19, 512)\n",
      " Load  |  Yep!  | conv 3x3p1_1  +bnorm  leaky      | (?, 19, 19, 1024)\n",
      " Load  |  Yep!  | conv 3x3p1_1  +bnorm  leaky      | (?, 19, 19, 1024)\n",
      " Load  |  Yep!  | conv 3x3p1_1  +bnorm  leaky      | (?, 19, 19, 1024)\n",
      " Load  |  Yep!  | concat [16]                      | (?, 38, 38, 512)\n",
      " Load  |  Yep!  | conv 1x1p0_1  +bnorm  leaky      | (?, 38, 38, 64)\n",
      " Load  |  Yep!  | local flatten 2x2                | (?, 19, 19, 256)\n",
      " Load  |  Yep!  | concat [27, 24]                  | (?, 19, 19, 1280)\n",
      " Load  |  Yep!  | conv 3x3p1_1  +bnorm  leaky      | (?, 19, 19, 1024)\n",
      " Load  |  Yep!  | conv 1x1p0_1    linear           | (?, 19, 19, 425)\n",
      "-------+--------+----------------------------------+---------------\n",
      "Running entirely on CPU\n",
      "Finished in 6.892631769180298s\n",
      "\n"
     ]
    }
   ],
   "source": [
    "from darkflow.net.build import TFNet\n",
    "import numpy as np\n",
    "\n",
    "tfnet = TFNet({\"model\": \"yolo/yolo.cfg\", \"load\": \"yolo/yolo.weights\",\n",
    "    'config': 'yolo', \"threshold\": 0.1})\n",
    "yolo_out = dict()\n",
    "def yolo(img):\n",
    "    if str(img) not in yolo_out:\n",
    "        yolo_out[str(img)] = tfnet.return_predict(np.array(img))\n",
    "    return yolo_out[str(img)]"
   ]
  },
  {
   "cell_type": "code",
   "execution_count": 295,
   "metadata": {},
   "outputs": [
    {
     "name": "stdout",
     "output_type": "stream",
     "text": [
      "True\n"
     ]
    }
   ],
   "source": [
    "# Make preds and ptypes identifiable by their predicate names.\n",
    "# From now on, use mktype().\n",
    "ptypes = dict()\n",
    "def mkptype(sym, types=[Ind], vars=['v']):\n",
    "    id = '/'.join([sym, ','.join(show(type) for type in types), ','.join(vars)])\n",
    "    if id not in ptypes:\n",
    "        ptypes[id] = PType(Pred(sym, types), vars)\n",
    "    return ptypes[id]\n",
    "\n",
    "print(show(mkptype('rabbit') is mkptype('rabbit')))"
   ]
  },
  {
   "cell_type": "code",
   "execution_count": 296,
   "metadata": {},
   "outputs": [],
   "source": [
    "def xy1xy2_to_cwh(x1, y1, x2, y2):\n",
    "    '''Transform to center, width and height.'''\n",
    "    return {'cx': int(x1/2 + x2/2), 'cy': int(y1/2 + y2/2), 'w': x2 - x1, 'h': y2 - y1}"
   ]
  },
  {
   "cell_type": "code",
   "execution_count": 357,
   "metadata": {},
   "outputs": [
    {
     "name": "stdout",
     "output_type": "stream",
     "text": [
      "True\n",
      "True\n",
      "True\n",
      "True\n"
     ]
    },
    {
     "data": {
      "text/latex": [
       "\\begin{equation}\\left[\\begin{array}{rcl}\n",
       "\\text{seg} &=& \\left[\\begin{array}{rcl}\n",
       "\\text{h} &=& 107\\\\\n",
       "\\text{w} &=& 71\\\\\n",
       "\\text{cy} &=& 544\\\\\n",
       "\\text{cx} &=& 44\n",
       "\\end{array}\\right]\\\\\n",
       "\\text{pfun} &=& \\lambda v:Ind\\ .\\ \\text{clock}(v)\n",
       "\\end{array}\\right]\\end{equation}"
      ],
      "text/plain": [
       "<IPython.core.display.Latex object>"
      ]
     },
     "execution_count": 357,
     "metadata": {},
     "output_type": "execute_result"
    }
   ],
   "source": [
    "def yolo_detector(i):\n",
    "    return [Rec({\n",
    "        'seg': Rec({\n",
    "            #'i': i,\n",
    "            **xy1xy2_to_cwh(o['topleft']['x'], o['topleft']['y'], o['bottomright']['x'], o['bottomright']['y']),\n",
    "        }),\n",
    "        'pfun': Fun('v', Ind, mkptype(o['label'].replace(' ', '_'))),\n",
    "        \n",
    "    }) for o in yolo(i)] # @todo RBG/BGR?\n",
    "\n",
    "objs = yolo_detector(img)\n",
    "\n",
    "print(Objects.query(objs))\n",
    "print(Object.query(objs[0]))\n",
    "print(Ppty.query(objs[0].pfun))\n",
    "print(Segment.query(objs[0].seg))\n",
    "\n",
    "latex(objs[-1])"
   ]
  },
  {
   "cell_type": "markdown",
   "metadata": {},
   "source": [
    "## Individualization function\n",
    "\n",
    "The object detection model gave us evidence that certain segments contain something that present certain properties/classes.\n",
    "\n",
    "Now let's recognize that there are individuals which are located at those segments and having those properties.\n",
    "\n",
    "**Is the domain of $Individualize$ really objects *of type* $IndObj$? Can a record type be *of* another record type?**\n",
    "\n",
    "$IndObj = \\left[\\begin{array}{rcl}\n",
    "\\text{x} &:& Ind\\\\\n",
    "\\text{c}_{prop} &:& Type\\\\\n",
    "\\text{c}_{loc} &:& Type\\\\\n",
    "\\end{array}\\right]$\n",
    "\n",
    "$Individualize : (Object \\rightarrow IndObj)$\n",
    "\n",
    "$Individualize = \\lambda r : Object\\ . \\left[\\begin{array}{rcl}\n",
    "    \\text{x} &:& Ind \\\\\n",
    "    \\text{c}_{prop} &:& r.\\text{pfun}(\\text{x}) \\\\\n",
    "    \\text{c}_{loc} &:& \\text{location}(\\text{x}, r.\\text{seg}) \\\\\n",
    "\\end{array}\\right]$"
   ]
  },
  {
   "cell_type": "code",
   "execution_count": 363,
   "metadata": {},
   "outputs": [
    {
     "data": {
      "text/latex": [
       "\\begin{equation}[ \\left[\\begin{array}{rcl}\n",
       "\\text{c}_\\text{prop} &:& \\text{person}(x)\\\\\n",
       "\\text{x} &:& Ind\\\\\n",
       "\\text{c}_\\text{loc} &:& \\text{location}(x, \\left[\\begin{array}{rcl}\n",
       "\\text{h} &=& 809\\\\\n",
       "\\text{w} &=& 276\\\\\n",
       "\\text{cy} &=& 654\\\\\n",
       "\\text{cx} &=& 138\n",
       "\\end{array}\\right])\n",
       "\\end{array}\\right], \\left[\\begin{array}{rcl}\n",
       "\\text{c}_\\text{prop} &:& \\text{person}(x)\\\\\n",
       "\\text{x} &:& Ind\\\\\n",
       "\\text{c}_\\text{loc} &:& \\text{location}(x, \\left[\\begin{array}{rcl}\n",
       "\\text{h} &=& 796\\\\\n",
       "\\text{w} &=& 706\\\\\n",
       "\\text{cy} &=& 657\\\\\n",
       "\\text{cx} &=& 714\n",
       "\\end{array}\\right])\n",
       "\\end{array}\\right], \\left[\\begin{array}{rcl}\n",
       "\\text{c}_\\text{prop} &:& \\text{person}(x)\\\\\n",
       "\\text{x} &:& Ind\\\\\n",
       "\\text{c}_\\text{loc} &:& \\text{location}(x, \\left[\\begin{array}{rcl}\n",
       "\\text{h} &=& 381\\\\\n",
       "\\text{w} &=& 380\\\\\n",
       "\\text{cy} &=& 888\\\\\n",
       "\\text{cx} &=& 194\n",
       "\\end{array}\\right])\n",
       "\\end{array}\\right], \\left[\\begin{array}{rcl}\n",
       "\\text{c}_\\text{prop} &:& \\text{car}(x)\\\\\n",
       "\\text{x} &:& Ind\\\\\n",
       "\\text{c}_\\text{loc} &:& \\text{location}(x, \\left[\\begin{array}{rcl}\n",
       "\\text{h} &=& 979\\\\\n",
       "\\text{w} &=& 774\\\\\n",
       "\\text{cy} &=& 589\\\\\n",
       "\\text{cx} &=& 490\n",
       "\\end{array}\\right])\n",
       "\\end{array}\\right], \\left[\\begin{array}{rcl}\n",
       "\\text{c}_\\text{prop} &:& \\text{dog}(x)\\\\\n",
       "\\text{x} &:& Ind\\\\\n",
       "\\text{c}_\\text{loc} &:& \\text{location}(x, \\left[\\begin{array}{rcl}\n",
       "\\text{h} &=& 718\\\\\n",
       "\\text{w} &=& 687\\\\\n",
       "\\text{cy} &=& 714\\\\\n",
       "\\text{cx} &=& 704\n",
       "\\end{array}\\right])\n",
       "\\end{array}\\right], \\left[\\begin{array}{rcl}\n",
       "\\text{c}_\\text{prop} &:& \\text{chair}(x)\\\\\n",
       "\\text{x} &:& Ind\\\\\n",
       "\\text{c}_\\text{loc} &:& \\text{location}(x, \\left[\\begin{array}{rcl}\n",
       "\\text{h} &=& 210\\\\\n",
       "\\text{w} &=& 219\\\\\n",
       "\\text{cy} &=& 541\\\\\n",
       "\\text{cx} &=& 757\n",
       "\\end{array}\\right])\n",
       "\\end{array}\\right], \\left[\\begin{array}{rcl}\n",
       "\\text{c}_\\text{prop} &:& \\text{chair}(x)\\\\\n",
       "\\text{x} &:& Ind\\\\\n",
       "\\text{c}_\\text{loc} &:& \\text{location}(x, \\left[\\begin{array}{rcl}\n",
       "\\text{h} &=& 783\\\\\n",
       "\\text{w} &=& 778\\\\\n",
       "\\text{cy} &=& 687\\\\\n",
       "\\text{cx} &=& 547\n",
       "\\end{array}\\right])\n",
       "\\end{array}\\right], \\left[\\begin{array}{rcl}\n",
       "\\text{c}_\\text{prop} &:& \\text{sofa}(x)\\\\\n",
       "\\text{x} &:& Ind\\\\\n",
       "\\text{c}_\\text{loc} &:& \\text{location}(x, \\left[\\begin{array}{rcl}\n",
       "\\text{h} &=& 803\\\\\n",
       "\\text{w} &=& 957\\\\\n",
       "\\text{cy} &=& 677\\\\\n",
       "\\text{cx} &=& 486\n",
       "\\end{array}\\right])\n",
       "\\end{array}\\right], \\left[\\begin{array}{rcl}\n",
       "\\text{c}_\\text{prop} &:& \\text{cell_phone}(x)\\\\\n",
       "\\text{x} &:& Ind\\\\\n",
       "\\text{c}_\\text{loc} &:& \\text{location}(x, \\left[\\begin{array}{rcl}\n",
       "\\text{h} &=& 423\\\\\n",
       "\\text{w} &=& 187\\\\\n",
       "\\text{cy} &=& 588\\\\\n",
       "\\text{cx} &=& 93\n",
       "\\end{array}\\right])\n",
       "\\end{array}\\right], \\left[\\begin{array}{rcl}\n",
       "\\text{c}_\\text{prop} &:& \\text{clock}(x)\\\\\n",
       "\\text{x} &:& Ind\\\\\n",
       "\\text{c}_\\text{loc} &:& \\text{location}(x, \\left[\\begin{array}{rcl}\n",
       "\\text{h} &=& 107\\\\\n",
       "\\text{w} &=& 71\\\\\n",
       "\\text{cy} &=& 544\\\\\n",
       "\\text{cx} &=& 44\n",
       "\\end{array}\\right])\n",
       "\\end{array}\\right]]\\end{equation}"
      ],
      "text/plain": [
       "<IPython.core.display.Latex object>"
      ]
     },
     "execution_count": 363,
     "metadata": {},
     "output_type": "execute_result"
    }
   ],
   "source": [
    "Loc = mkptype('location', [Ind, Segment], ['v_1', 'v_2'])\n",
    "LocFun = Fun('v_1', Ind, Fun('v_2', Segment, Loc))\n",
    "\n",
    "def individualize(r):\n",
    "    return RecType({\n",
    "        'x': Ind,\n",
    "        'c_{prop}': r.pfun.app('x'),\n",
    "        'c_{loc}': LocFun.app('x').app(r.seg),\n",
    "    })\n",
    "latex(list(individualize(r) for r in objs))"
   ]
  },
  {
   "cell_type": "markdown",
   "metadata": {},
   "source": [
    "## Combining commitments\n",
    "\n",
    "All observed situations are combined into one, so they can be considered simultaneously.\n",
    "\n",
    "To begin with, the function $Update$ adds two record types.\n",
    "\n",
    "$Update = \\lambda r : RecType \\ .\\ \\lambda s : RecType \\ .\\ \\left[ s \\cdot\\wedge [\\text{prev}: r ] \\right]$\n",
    "\n",
    "Then, $Combine$ applies $Update$ recursively through a list.\n",
    "\n",
    "$Combine : ([RecType] \\rightarrow RecType)$\n",
    "\n",
    "$Combine = \\lambda s_{0...i} : [RecType]\\ . \\begin{cases}\n",
    "    s_0 & \\text{if } i = 0, \\\\\n",
    "    Update(Combine(s_{0...i-1}), s_i) & \\text{otherwise} \\\\\n",
    "\\end{cases}$\n",
    "\n",
    "The result is a deep structure which is *flattened* and concisely *relabeled*. In the latter step we also eliminate duplicates of the singleton $Ind$ fields.\n",
    "\n",
    "All the operations described in this section are implemented in Python (rather than PyTTR)."
   ]
  },
  {
   "cell_type": "code",
   "execution_count": 364,
   "metadata": {},
   "outputs": [
    {
     "data": {
      "text/latex": [
       "\\begin{equation}\\left[\\begin{array}{rcl}\n",
       "\\text{prev} &:& \\left[\\begin{array}{rcl}\n",
       "\\text{a} &:& A\n",
       "\\end{array}\\right]\\\\\n",
       "\\text{b} &:& B\n",
       "\\end{array}\\right]\\end{equation}"
      ],
      "text/plain": [
       "<IPython.core.display.Latex object>"
      ]
     },
     "execution_count": 364,
     "metadata": {},
     "output_type": "execute_result"
    }
   ],
   "source": [
    "from functools import reduce\n",
    "def combine_prev(*ts):\n",
    "    return reduce(lambda t1, t2: RecType({'prev': t1}).merge(t2) if t2 else t1, ts)\n",
    "latex(combine_prev(RecType({'a': 'A'}), RecType({'b': 'B'})))"
   ]
  },
  {
   "cell_type": "code",
   "execution_count": 365,
   "metadata": {},
   "outputs": [
    {
     "data": {
      "text/latex": [
       "\\begin{equation}\\left[\\begin{array}{rcl}\n",
       "\\text{c}_\\text{prop} &:& \\text{dog}(x)\\\\\n",
       "\\text{prev} &:& \\left[\\begin{array}{rcl}\n",
       "\\text{c}_\\text{prop} &:& \\text{car}(x)\\\\\n",
       "\\text{prev} &:& \\left[\\begin{array}{rcl}\n",
       "\\text{c}_\\text{prop} &:& \\text{person}(x)\\\\\n",
       "\\text{x} &:& Ind\\\\\n",
       "\\text{c}_\\text{loc} &:& \\text{location}(x, \\left[\\begin{array}{rcl}\n",
       "\\text{h} &=& 381\\\\\n",
       "\\text{w} &=& 380\\\\\n",
       "\\text{cy} &=& 888\\\\\n",
       "\\text{cx} &=& 194\n",
       "\\end{array}\\right])\n",
       "\\end{array}\\right]\\\\\n",
       "\\text{x} &:& Ind\\\\\n",
       "\\text{c}_\\text{loc} &:& \\text{location}(x, \\left[\\begin{array}{rcl}\n",
       "\\text{h} &=& 979\\\\\n",
       "\\text{w} &=& 774\\\\\n",
       "\\text{cy} &=& 589\\\\\n",
       "\\text{cx} &=& 490\n",
       "\\end{array}\\right])\n",
       "\\end{array}\\right]\\\\\n",
       "\\text{x} &:& Ind\\\\\n",
       "\\text{c}_\\text{loc} &:& \\text{location}(x, \\left[\\begin{array}{rcl}\n",
       "\\text{h} &=& 718\\\\\n",
       "\\text{w} &=& 687\\\\\n",
       "\\text{cy} &=& 714\\\\\n",
       "\\text{cx} &=& 704\n",
       "\\end{array}\\right])\n",
       "\\end{array}\\right]\\end{equation}"
      ],
      "text/plain": [
       "<IPython.core.display.Latex object>"
      ]
     },
     "execution_count": 365,
     "metadata": {},
     "output_type": "execute_result"
    }
   ],
   "source": [
    "from itertools import product\n",
    "\n",
    "objs_few = objs[2:5]\n",
    "situations = [individualize(r) for r in objs_few]\n",
    "comb = combine_prev(*situations)\n",
    "latex(comb)"
   ]
  },
  {
   "cell_type": "code",
   "execution_count": 366,
   "metadata": {},
   "outputs": [
    {
     "data": {
      "text/latex": [
       "\\begin{equation}\\left[\\begin{array}{rcl}\n",
       "\\text{prev.x} &:& Ind\\\\\n",
       "\\text{c}_\\text{prop} &:& \\text{dog}(x)\\\\\n",
       "\\text{x} &:& Ind\\\\\n",
       "\\text{prev.c}_\\text{loc} &:& \\text{location}(prev.x, \\left[\\begin{array}{rcl}\n",
       "\\text{h} &=& 979\\\\\n",
       "\\text{w} &=& 774\\\\\n",
       "\\text{cy} &=& 589\\\\\n",
       "\\text{cx} &=& 490\n",
       "\\end{array}\\right])\\\\\n",
       "\\text{prev.prev.x} &:& Ind\\\\\n",
       "\\text{prev.prev.c}_\\text{prop} &:& \\text{person}(prev.prev.x)\\\\\n",
       "\\text{prev.prev.c}_\\text{loc} &:& \\text{location}(prev.prev.x, \\left[\\begin{array}{rcl}\n",
       "\\text{h} &=& 381\\\\\n",
       "\\text{cy} &=& 888\\\\\n",
       "\\text{w} &=& 380\\\\\n",
       "\\text{cx} &=& 194\n",
       "\\end{array}\\right])\\\\\n",
       "\\text{prev.c}_\\text{prop} &:& \\text{car}(prev.x)\\\\\n",
       "\\text{c}_\\text{loc} &:& \\text{location}(x, \\left[\\begin{array}{rcl}\n",
       "\\text{h} &=& 718\\\\\n",
       "\\text{w} &=& 687\\\\\n",
       "\\text{cy} &=& 714\\\\\n",
       "\\text{cx} &=& 704\n",
       "\\end{array}\\right])\n",
       "\\end{array}\\right]\\end{equation}"
      ],
      "text/plain": [
       "<IPython.core.display.Latex object>"
      ]
     },
     "execution_count": 366,
     "metadata": {},
     "output_type": "execute_result"
    }
   ],
   "source": [
    "combflat = comb.flatten()\n",
    "latex(combflat)"
   ]
  },
  {
   "cell_type": "code",
   "execution_count": 367,
   "metadata": {},
   "outputs": [
    {
     "data": {
      "text/latex": [
       "\\begin{equation}\\left[\\begin{array}{rcl}\n",
       "\\text{c}_\\text{4} &:& \\text{location}(c_{1}, \\left[\\begin{array}{rcl}\n",
       "\\text{h} &=& 979\\\\\n",
       "\\text{cy} &=& 589\\\\\n",
       "\\text{w} &=& 774\\\\\n",
       "\\text{cx} &=& 490\n",
       "\\end{array}\\right])\\\\\n",
       "\\text{c}_\\text{5} &:& Ind\\\\\n",
       "\\text{c}_\\text{6} &:& \\text{person}(c_{5})\\\\\n",
       "\\text{c}_\\text{2} &:& \\text{dog}(c_{3})\\\\\n",
       "\\text{c}_\\text{7} &:& \\text{location}(c_{5}, \\left[\\begin{array}{rcl}\n",
       "\\text{h} &=& 381\\\\\n",
       "\\text{w} &=& 380\\\\\n",
       "\\text{cy} &=& 888\\\\\n",
       "\\text{cx} &=& 194\n",
       "\\end{array}\\right])\\\\\n",
       "\\text{c}_\\text{3} &:& Ind\\\\\n",
       "\\text{c}_\\text{8} &:& \\text{car}(c_{1})\\\\\n",
       "\\text{c}_\\text{1} &:& Ind\\\\\n",
       "\\text{c}_\\text{9} &:& \\text{location}(c_{3}, \\left[\\begin{array}{rcl}\n",
       "\\text{h} &=& 718\\\\\n",
       "\\text{cy} &=& 714\\\\\n",
       "\\text{w} &=& 687\\\\\n",
       "\\text{cx} &=& 704\n",
       "\\end{array}\\right])\n",
       "\\end{array}\\right]\\end{equation}"
      ],
      "text/plain": [
       "<IPython.core.display.Latex object>"
      ]
     },
     "execution_count": 367,
     "metadata": {},
     "output_type": "execute_result"
    }
   ],
   "source": [
    "# My own copy of gensym(), just so I can reset it...\n",
    "my_gennum = dict()\n",
    "def my_gensym(x):\n",
    "    if x not in my_gennum:\n",
    "        my_gennum[x] = count(1) \n",
    "    return x+'_{'+str(my_gennum[x].__next__())+'}'\n",
    "\n",
    "def simplify_rectype(T):\n",
    "    # Copy\n",
    "    R = RecType()\n",
    "    for k, v in T.comps.__dict__.items():\n",
    "        R.addfield(k, v)\n",
    "\n",
    "    # Squash inds\n",
    "    ind_types = dict((show(t), t) for t in R.comps.__dict__.values() if isinstance(t, SingletonType)).values()\n",
    "    for t in ind_types:\n",
    "        l = my_gensym('x')\n",
    "        for k, v in R.comps.__dict__.items():\n",
    "            if equal(t, v):\n",
    "                R.Relabel(k, l)\n",
    "                \n",
    "    # Prettify other labels\n",
    "    for k, v in R.comps.__dict__.items():\n",
    "        if not isinstance(v, SingletonType):\n",
    "            l = my_gensym('c')\n",
    "            R.Relabel(k, l)\n",
    "    \n",
    "    return R\n",
    "            \n",
    "simp = simplify_rectype(combflat)\n",
    "latex(simp)"
   ]
  },
  {
   "cell_type": "markdown",
   "metadata": {},
   "source": [
    "## Spatial relations"
   ]
  },
  {
   "cell_type": "code",
   "execution_count": 369,
   "metadata": {},
   "outputs": [
    {
     "ename": "AttributeError",
     "evalue": "'Rec' object has no attribute 'x'",
     "output_type": "error",
     "traceback": [
      "\u001b[0;31m---------------------------------------------------------------------------\u001b[0m",
      "\u001b[0;31mAttributeError\u001b[0m                            Traceback (most recent call last)",
      "\u001b[0;32m<ipython-input-369-e66e4865dca4>\u001b[0m in \u001b[0;36m<module>\u001b[0;34m()\u001b[0m\n\u001b[1;32m      1\u001b[0m \u001b[0;31m# An index of Objects by Ind.\u001b[0m\u001b[0;34m\u001b[0m\u001b[0;34m\u001b[0m\u001b[0m\n\u001b[0;32m----> 2\u001b[0;31m \u001b[0mind_objs\u001b[0m \u001b[0;34m=\u001b[0m \u001b[0mdict\u001b[0m\u001b[0;34m(\u001b[0m\u001b[0;34m(\u001b[0m\u001b[0mr\u001b[0m\u001b[0;34m.\u001b[0m\u001b[0mx\u001b[0m\u001b[0;34m,\u001b[0m \u001b[0mr\u001b[0m\u001b[0;34m)\u001b[0m \u001b[0;32mfor\u001b[0m \u001b[0mr\u001b[0m \u001b[0;32min\u001b[0m \u001b[0mobjs\u001b[0m\u001b[0;34m)\u001b[0m\u001b[0;34m\u001b[0m\u001b[0m\n\u001b[0m\u001b[1;32m      3\u001b[0m \u001b[0;34m\u001b[0m\u001b[0m\n\u001b[1;32m      4\u001b[0m \u001b[0mLeft\u001b[0m \u001b[0;34m=\u001b[0m \u001b[0mmkptype\u001b[0m\u001b[0;34m(\u001b[0m\u001b[0;34m'left'\u001b[0m\u001b[0;34m,\u001b[0m \u001b[0;34m[\u001b[0m\u001b[0mInd\u001b[0m\u001b[0;34m,\u001b[0m \u001b[0mInd\u001b[0m\u001b[0;34m]\u001b[0m\u001b[0;34m,\u001b[0m \u001b[0;34m[\u001b[0m\u001b[0;34m'a'\u001b[0m\u001b[0;34m,\u001b[0m \u001b[0;34m'b'\u001b[0m\u001b[0;34m]\u001b[0m\u001b[0;34m)\u001b[0m\u001b[0;34m\u001b[0m\u001b[0m\n\u001b[1;32m      5\u001b[0m \u001b[0mLeft\u001b[0m\u001b[0;34m.\u001b[0m\u001b[0mlearn_witness_condition\u001b[0m\u001b[0;34m(\u001b[0m\u001b[0;32mlambda\u001b[0m \u001b[0mab\u001b[0m\u001b[0;34m:\u001b[0m \u001b[0mind_objs\u001b[0m\u001b[0;34m[\u001b[0m\u001b[0mab\u001b[0m\u001b[0;34m[\u001b[0m\u001b[0;36m0\u001b[0m\u001b[0;34m]\u001b[0m\u001b[0;34m]\u001b[0m\u001b[0;34m.\u001b[0m\u001b[0mseg\u001b[0m\u001b[0;34m.\u001b[0m\u001b[0mcx\u001b[0m \u001b[0;34m<\u001b[0m \u001b[0mind_objs\u001b[0m\u001b[0;34m[\u001b[0m\u001b[0mab\u001b[0m\u001b[0;34m[\u001b[0m\u001b[0;36m1\u001b[0m\u001b[0;34m]\u001b[0m\u001b[0;34m]\u001b[0m\u001b[0;34m.\u001b[0m\u001b[0mseg\u001b[0m\u001b[0;34m.\u001b[0m\u001b[0mcx\u001b[0m\u001b[0;34m)\u001b[0m\u001b[0;34m\u001b[0m\u001b[0m\n",
      "\u001b[0;32m<ipython-input-369-e66e4865dca4>\u001b[0m in \u001b[0;36m<genexpr>\u001b[0;34m(.0)\u001b[0m\n\u001b[1;32m      1\u001b[0m \u001b[0;31m# An index of Objects by Ind.\u001b[0m\u001b[0;34m\u001b[0m\u001b[0;34m\u001b[0m\u001b[0m\n\u001b[0;32m----> 2\u001b[0;31m \u001b[0mind_objs\u001b[0m \u001b[0;34m=\u001b[0m \u001b[0mdict\u001b[0m\u001b[0;34m(\u001b[0m\u001b[0;34m(\u001b[0m\u001b[0mr\u001b[0m\u001b[0;34m.\u001b[0m\u001b[0mx\u001b[0m\u001b[0;34m,\u001b[0m \u001b[0mr\u001b[0m\u001b[0;34m)\u001b[0m \u001b[0;32mfor\u001b[0m \u001b[0mr\u001b[0m \u001b[0;32min\u001b[0m \u001b[0mobjs\u001b[0m\u001b[0;34m)\u001b[0m\u001b[0;34m\u001b[0m\u001b[0m\n\u001b[0m\u001b[1;32m      3\u001b[0m \u001b[0;34m\u001b[0m\u001b[0m\n\u001b[1;32m      4\u001b[0m \u001b[0mLeft\u001b[0m \u001b[0;34m=\u001b[0m \u001b[0mmkptype\u001b[0m\u001b[0;34m(\u001b[0m\u001b[0;34m'left'\u001b[0m\u001b[0;34m,\u001b[0m \u001b[0;34m[\u001b[0m\u001b[0mInd\u001b[0m\u001b[0;34m,\u001b[0m \u001b[0mInd\u001b[0m\u001b[0;34m]\u001b[0m\u001b[0;34m,\u001b[0m \u001b[0;34m[\u001b[0m\u001b[0;34m'a'\u001b[0m\u001b[0;34m,\u001b[0m \u001b[0;34m'b'\u001b[0m\u001b[0;34m]\u001b[0m\u001b[0;34m)\u001b[0m\u001b[0;34m\u001b[0m\u001b[0m\n\u001b[1;32m      5\u001b[0m \u001b[0mLeft\u001b[0m\u001b[0;34m.\u001b[0m\u001b[0mlearn_witness_condition\u001b[0m\u001b[0;34m(\u001b[0m\u001b[0;32mlambda\u001b[0m \u001b[0mab\u001b[0m\u001b[0;34m:\u001b[0m \u001b[0mind_objs\u001b[0m\u001b[0;34m[\u001b[0m\u001b[0mab\u001b[0m\u001b[0;34m[\u001b[0m\u001b[0;36m0\u001b[0m\u001b[0;34m]\u001b[0m\u001b[0;34m]\u001b[0m\u001b[0;34m.\u001b[0m\u001b[0mseg\u001b[0m\u001b[0;34m.\u001b[0m\u001b[0mcx\u001b[0m \u001b[0;34m<\u001b[0m \u001b[0mind_objs\u001b[0m\u001b[0;34m[\u001b[0m\u001b[0mab\u001b[0m\u001b[0;34m[\u001b[0m\u001b[0;36m1\u001b[0m\u001b[0;34m]\u001b[0m\u001b[0;34m]\u001b[0m\u001b[0;34m.\u001b[0m\u001b[0mseg\u001b[0m\u001b[0;34m.\u001b[0m\u001b[0mcx\u001b[0m\u001b[0;34m)\u001b[0m\u001b[0;34m\u001b[0m\u001b[0m\n",
      "\u001b[0;31mAttributeError\u001b[0m: 'Rec' object has no attribute 'x'"
     ]
    }
   ],
   "source": [
    "# An index of Objects by Ind.\n",
    "ind_objs = dict((r.x, r) for r in objs)\n",
    "\n",
    "Left = mkptype('left', [Ind, Ind], ['a', 'b'])\n",
    "Left.learn_witness_condition(lambda ab: ind_objs[ab[0]].seg.cx < ind_objs[ab[1]].seg.cx)\n",
    "print(show(Left))\n",
    "\n",
    "print(Left.query((objs[0].x, objs[1].x)))\n",
    "print(Left.query((objs[1].x, objs[2].x)))"
   ]
  },
  {
   "cell_type": "code",
   "execution_count": 370,
   "metadata": {},
   "outputs": [
    {
     "ename": "AttributeError",
     "evalue": "'Rec' object has no attribute 'x'",
     "output_type": "error",
     "traceback": [
      "\u001b[0;31m---------------------------------------------------------------------------\u001b[0m",
      "\u001b[0;31mAttributeError\u001b[0m                            Traceback (most recent call last)",
      "\u001b[0;32m<ipython-input-370-8254c581f424>\u001b[0m in \u001b[0;36m<module>\u001b[0;34m()\u001b[0m\n\u001b[1;32m     11\u001b[0m             })\n\u001b[1;32m     12\u001b[0m \u001b[0;34m\u001b[0m\u001b[0m\n\u001b[0;32m---> 13\u001b[0;31m latex(list(sit_rel(objs[0], objs[1])),\n\u001b[0m\u001b[1;32m     14\u001b[0m       list(sit_rel(objs[1], objs[0])))\n",
      "\u001b[0;32m<ipython-input-370-8254c581f424>\u001b[0m in \u001b[0;36msit_rel\u001b[0;34m(r, s)\u001b[0m\n\u001b[1;32m      3\u001b[0m \u001b[0;32mdef\u001b[0m \u001b[0msit_rel\u001b[0m\u001b[0;34m(\u001b[0m\u001b[0mr\u001b[0m\u001b[0;34m,\u001b[0m \u001b[0ms\u001b[0m\u001b[0;34m)\u001b[0m\u001b[0;34m:\u001b[0m\u001b[0;34m\u001b[0m\u001b[0m\n\u001b[1;32m      4\u001b[0m     \u001b[0;32mfor\u001b[0m \u001b[0mRel\u001b[0m \u001b[0;32min\u001b[0m \u001b[0mRels\u001b[0m\u001b[0;34m:\u001b[0m\u001b[0;34m\u001b[0m\u001b[0m\n\u001b[0;32m----> 5\u001b[0;31m         \u001b[0;32mif\u001b[0m \u001b[0mRel\u001b[0m\u001b[0;34m.\u001b[0m\u001b[0mquery\u001b[0m\u001b[0;34m(\u001b[0m\u001b[0;34m(\u001b[0m\u001b[0mr\u001b[0m\u001b[0;34m.\u001b[0m\u001b[0mx\u001b[0m\u001b[0;34m,\u001b[0m \u001b[0ms\u001b[0m\u001b[0;34m.\u001b[0m\u001b[0mx\u001b[0m\u001b[0;34m)\u001b[0m\u001b[0;34m)\u001b[0m\u001b[0;34m:\u001b[0m\u001b[0;34m\u001b[0m\u001b[0m\n\u001b[0m\u001b[1;32m      6\u001b[0m             \u001b[0mRelFun\u001b[0m \u001b[0;34m=\u001b[0m \u001b[0mFun\u001b[0m\u001b[0;34m(\u001b[0m\u001b[0;34m'a'\u001b[0m\u001b[0;34m,\u001b[0m \u001b[0mInd\u001b[0m\u001b[0;34m,\u001b[0m \u001b[0mFun\u001b[0m\u001b[0;34m(\u001b[0m\u001b[0;34m'b'\u001b[0m\u001b[0;34m,\u001b[0m \u001b[0mInd\u001b[0m\u001b[0;34m,\u001b[0m \u001b[0mRel\u001b[0m\u001b[0;34m)\u001b[0m\u001b[0;34m)\u001b[0m\u001b[0;34m\u001b[0m\u001b[0m\n\u001b[1;32m      7\u001b[0m             yield RecType({\n",
      "\u001b[0;31mAttributeError\u001b[0m: 'Rec' object has no attribute 'x'"
     ]
    }
   ],
   "source": [
    "Rels = [Left]\n",
    "\n",
    "def sit_rel(r, s):\n",
    "    for Rel in Rels:\n",
    "        if Rel.query((r.x, s.x)):\n",
    "            RelFun = Fun('a', Ind, Fun('b', Ind, Rel))\n",
    "            yield RecType({\n",
    "                'x': SingletonType(Ind, r.x),\n",
    "                'y': SingletonType(Ind, s.x),\n",
    "                'c': RelFun.app('x').app('y'),\n",
    "            })\n",
    "        \n",
    "latex(list(sit_rel(objs[0], objs[1])),\n",
    "      list(sit_rel(objs[1], objs[0])))"
   ]
  },
  {
   "cell_type": "markdown",
   "metadata": {},
   "source": [
    "## Text parsing"
   ]
  },
  {
   "cell_type": "code",
   "execution_count": 371,
   "metadata": {},
   "outputs": [
    {
     "name": "stdout",
     "output_type": "stream",
     "text": [
      "A dog is to the left of a car\n"
     ]
    },
    {
     "data": {
      "text/latex": [
       "\\begin{equation}\\left[\\begin{array}{rcl}\n",
       "\\text{c}_\\text{dog} &:& \\text{dog}(x)\\\\\n",
       "\\text{c}_\\text{left} &:& \\text{left}(x, y)\\\\\n",
       "\\text{c}_\\text{car} &:& \\text{car}(y)\\\\\n",
       "\\text{x} &:& Ind\\\\\n",
       "\\text{y} &:& Ind\n",
       "\\end{array}\\right]\\end{equation}"
      ],
      "text/plain": [
       "<IPython.core.display.Latex object>"
      ]
     },
     "execution_count": 371,
     "metadata": {},
     "output_type": "execute_result"
    }
   ],
   "source": [
    "def create_abc(prop_a, prop_b, rel):\n",
    "    '''Creates a record type describing two individuals and a relation between them.'''\n",
    "    return RecType({\n",
    "        'x': Ind,\n",
    "        'y': Ind,\n",
    "        'c_{' + prop_a + '}': Fun('v', Ind, mkptype(prop_a)).app('x'),\n",
    "        'c_{' + prop_b + '}': Fun('v', Ind, mkptype(prop_b)).app('y'),\n",
    "        'c_{' + rel + '}': Fun('a', Ind, Fun('b', Ind, mkptype(rel, [Ind, Ind], ['a', 'b']))).app('x').app('y')\n",
    "    })\n",
    "\n",
    "print(\"A dog is to the left of a car\")\n",
    "question = create_abc('dog', 'car', 'left')\n",
    "latex(question)"
   ]
  },
  {
   "cell_type": "code",
   "execution_count": 372,
   "metadata": {},
   "outputs": [
    {
     "name": "stdout",
     "output_type": "stream",
     "text": [
      "A dog is to the left of a car\n",
      "{c_{dog} : dog(x), c_{left} : left(x, y), c_{car} : car(y), x : Ind, y : Ind}\n",
      "A car is to the left of a dog\n",
      "{c_{car} : car(x), c_{left} : left(x, y), c_{dog} : dog(y), x : Ind, y : Ind}\n"
     ]
    },
    {
     "data": {
      "text/latex": [
       "\\begin{equation}\\left[\\begin{array}{rcl}\n",
       "\\text{c}_\\text{car} &:& \\text{car}(x)\\\\\n",
       "\\text{c}_\\text{left} &:& \\text{left}(x, y)\\\\\n",
       "\\text{c}_\\text{dog} &:& \\text{dog}(y)\\\\\n",
       "\\text{x} &:& Ind\\\\\n",
       "\\text{y} &:& Ind\n",
       "\\end{array}\\right]\\end{equation}"
      ],
      "text/plain": [
       "<IPython.core.display.Latex object>"
      ]
     },
     "execution_count": 372,
     "metadata": {},
     "output_type": "execute_result"
    }
   ],
   "source": [
    "import nltk\n",
    "\n",
    "grammar = nltk.grammar.FeatureGrammar.fromstring('''\n",
    "%start S\n",
    "S[SEM=(?a, ?b, ?prep)] -> NP[SEM=?a] 'is' Prep[SEM=?prep] NP[SEM=?b]\n",
    "NP[DEF=?def, SEM=?n] -> Det[DEF=?def] N[SEM=?n]\n",
    "N[SEM=<dog>] -> 'dog'\n",
    "N[SEM=<car>] -> 'car'\n",
    "N[SEM=<person>] -> 'person'\n",
    "N[SEM=<chair>] -> 'chair'\n",
    "Det -> 'a' | 'an'\n",
    "Prep[SEM=<left>] -> 'to' 'the' 'left' 'of'\n",
    "Prep[SEM=<right>] -> 'to' 'the' 'right' 'of'\n",
    "Prep[SEM=<above>] -> 'above'\n",
    "Prep[SEM=<under>] -> 'under'\n",
    "''')\n",
    "parser = nltk.FeatureChartParser(grammar)\n",
    "\n",
    "texts = [\n",
    "    'A dog is to the left of a car',\n",
    "    'A car is to the left of a dog',\n",
    "#     'There is a dog to the left of a car',\n",
    "#     'Is the dog to the left of the car',\n",
    "#     'Is there a dog to the left of the car',\n",
    "]\n",
    "\n",
    "def parse_abc(text):\n",
    "    trees = parser.parse(text.lower().split())\n",
    "    tree = list(trees)[0]\n",
    "    sem = nltk.sem.root_semrep(tree)\n",
    "    return create_abc(*(str(s) for s in sem))\n",
    "\n",
    "for text in texts:\n",
    "    print(text)\n",
    "    r = parse_abc(text)\n",
    "    print(show(r))\n",
    "\n",
    "latex(r)"
   ]
  },
  {
   "cell_type": "markdown",
   "metadata": {
    "collapsed": true
   },
   "source": [
    "## Checking text against image\n",
    "\n",
    "Essentially, we would like to check if the situation observed is a subtype of the situation described by the text/question, whether $Q \\sqsupseteq A$. A new problem here is that field labels do not match, even if the field values (the types) match. We thus need to consider all (?) relabelings of Q:\n",
    "\n",
    "A record type $T_1$ is a *relabel-subtype* of $T_2$ if there is a relabeling of $T_1$, $T_{1_{rlb}}$ where $T_{1_{rlb}} \\sqsubseteq T_2$.\n",
    "\n",
    "Could we forget field labels and just look at the two sets of field values? Not really, because we have dependent types, so $\\text{dog}(x_1) ≠ \\text{dog}(x_2)$. We need to carry out each candidate *relabeling* and check subtypeness. In practice, and in this case, relabeling the basic-type ($Ind$) fields is enough, because those are the only ones whose labels appear in dependent fields. For each basic-field relabeling, we can then kind of forget labels and just find subtypeness of field values."
   ]
  },
  {
   "cell_type": "code",
   "execution_count": 373,
   "metadata": {},
   "outputs": [
    {
     "name": "stdout",
     "output_type": "stream",
     "text": [
      "None\n"
     ]
    },
    {
     "ename": "AttributeError",
     "evalue": "'NoneType' object has no attribute 'items'",
     "output_type": "error",
     "traceback": [
      "\u001b[0;31m---------------------------------------------------------------------------\u001b[0m",
      "\u001b[0;31mAttributeError\u001b[0m                            Traceback (most recent call last)",
      "\u001b[0;32m<ipython-input-373-66f586dfc4c5>\u001b[0m in \u001b[0;36m<module>\u001b[0;34m()\u001b[0m\n\u001b[1;32m     47\u001b[0m \u001b[0mprint\u001b[0m\u001b[0;34m(\u001b[0m\u001b[0mfind_subtype_relabeling\u001b[0m\u001b[0;34m(\u001b[0m\u001b[0msimp\u001b[0m\u001b[0;34m,\u001b[0m \u001b[0mr\u001b[0m\u001b[0;34m)\u001b[0m\u001b[0;34m)\u001b[0m\u001b[0;34m\u001b[0m\u001b[0m\n\u001b[1;32m     48\u001b[0m \u001b[0mr2\u001b[0m \u001b[0;34m=\u001b[0m \u001b[0mcopy_rectype\u001b[0m\u001b[0;34m(\u001b[0m\u001b[0mr\u001b[0m\u001b[0;34m)\u001b[0m\u001b[0;34m\u001b[0m\u001b[0m\n\u001b[0;32m---> 49\u001b[0;31m \u001b[0;32mfor\u001b[0m \u001b[0mk1\u001b[0m\u001b[0;34m,\u001b[0m \u001b[0mk2\u001b[0m \u001b[0;32min\u001b[0m \u001b[0mfind_subtype_relabeling\u001b[0m\u001b[0;34m(\u001b[0m\u001b[0msimp\u001b[0m\u001b[0;34m,\u001b[0m \u001b[0mr\u001b[0m\u001b[0;34m)\u001b[0m\u001b[0;34m.\u001b[0m\u001b[0mitems\u001b[0m\u001b[0;34m(\u001b[0m\u001b[0;34m)\u001b[0m\u001b[0;34m:\u001b[0m\u001b[0;34m\u001b[0m\u001b[0m\n\u001b[0m\u001b[1;32m     50\u001b[0m     \u001b[0mr2\u001b[0m\u001b[0;34m.\u001b[0m\u001b[0mRelabel\u001b[0m\u001b[0;34m(\u001b[0m\u001b[0mk1\u001b[0m\u001b[0;34m,\u001b[0m \u001b[0mk2\u001b[0m\u001b[0;34m)\u001b[0m\u001b[0;34m\u001b[0m\u001b[0m\n\u001b[1;32m     51\u001b[0m \u001b[0mprint\u001b[0m\u001b[0;34m(\u001b[0m\u001b[0msimp\u001b[0m\u001b[0;34m.\u001b[0m\u001b[0msubtype_of\u001b[0m\u001b[0;34m(\u001b[0m\u001b[0mr2\u001b[0m\u001b[0;34m)\u001b[0m\u001b[0;34m)\u001b[0m\u001b[0;34m\u001b[0m\u001b[0m\n",
      "\u001b[0;31mAttributeError\u001b[0m: 'NoneType' object has no attribute 'items'"
     ]
    }
   ],
   "source": [
    "from itertools import permutations, combinations\n",
    "\n",
    "def copy_rectype(T):\n",
    "    R = RecType()\n",
    "    for k, v in T.comps.__dict__.items():\n",
    "        R.addfield(k, v)\n",
    "    return R\n",
    "\n",
    "def is_basic_type(T):\n",
    "    tn = lambda T: type(T).__name__\n",
    "    return (tn(T) == 'BType') if tn(T) != 'SingletonType' else is_basic_type(T.comps.base_type)\n",
    "\n",
    "def basic_fields(T, neg=False):\n",
    "    return [k for k, v in T.comps.__dict__.items() if is_basic_type(v)]\n",
    "\n",
    "def nonbasic_fields(T, neg=False):\n",
    "    return [k for k, v in T.comps.__dict__.items() if not is_basic_type(v)]\n",
    "\n",
    "def find_subtype_relabeling(T, U):\n",
    "    '''Could record type T be a sub type of record type U if relabeling in T is allowed?'''\n",
    "    # Find possible relabelings for basic-type fields\n",
    "    basic_label_permutations = set(ps[:len(basic_fields(U))] for ps in permutations(basic_fields(T)))\n",
    "    \n",
    "    for tks in basic_label_permutations:\n",
    "        # Copy U and try a basic-fields relabeling\n",
    "        U2 = copy_rectype(U)\n",
    "        rlb = list(zip(basic_fields(U), tks))\n",
    "        for uk, tk in rlb:\n",
    "            U2.Relabel(uk, tk)\n",
    "        \n",
    "        # For each U field, find a T field that is a subtype\n",
    "        match = dict()\n",
    "        for uk in nonbasic_fields(U2):\n",
    "            for tk in nonbasic_fields(T):\n",
    "                if T.comps.__dict__[tk].subtype_of(U2.comps.__dict__[uk]):\n",
    "                    match[uk] = tk\n",
    "                    break\n",
    "            if uk not in match:\n",
    "                break\n",
    "\n",
    "        # Successful if all non-basic fields match.\n",
    "        if len(match) == len(nonbasic_fields(U2)):\n",
    "            return dict(list(rlb) + list(match.items()))\n",
    "    return None\n",
    "\n",
    "r = parse_abc(texts[1])\n",
    "print(find_subtype_relabeling(simp, r))\n",
    "r2 = copy_rectype(r)\n",
    "for k1, k2 in find_subtype_relabeling(simp, r).items():\n",
    "    r2.Relabel(k1, k2)\n",
    "print(simp.subtype_of(r2))\n",
    "latex(r2)"
   ]
  },
  {
   "cell_type": "code",
   "execution_count": null,
   "metadata": {},
   "outputs": [],
   "source": []
  }
 ],
 "metadata": {
  "kernelspec": {
   "display_name": "Python 3",
   "language": "python",
   "name": "python3"
  },
  "language_info": {
   "codemirror_mode": {
    "name": "ipython",
    "version": 3
   },
   "file_extension": ".py",
   "mimetype": "text/x-python",
   "name": "python",
   "nbconvert_exporter": "python",
   "pygments_lexer": "ipython3",
   "version": "3.5.2"
  }
 },
 "nbformat": 4,
 "nbformat_minor": 2
}

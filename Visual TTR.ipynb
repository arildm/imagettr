{
 "cells": [
  {
   "cell_type": "markdown",
   "metadata": {},
   "source": [
    "# Image recognition with TTR\n"
   ]
  },
  {
   "cell_type": "markdown",
   "metadata": {},
   "source": [
    "## Bridging between perceptual and conceptual domains\n",
    "\n",
    "Let's apply the object detection representation proposed in Dobnik & Cooper's *Interfacing language, spatial perception and cognition in TTR* to image recognition.\n",
    "\n",
    "![Fig 8](fig/lspc-fig8.png)\n",
    "\n",
    "Here, we use `Image` instead of `PointMap` for the whole, but instead of `reg:PointMap` we use yet another type (and rename it), `seg:Segment`. In Cooper's case the same type can be used to represent both the region and the whole, because a `PointMap` is a set of absolute positions. With `Image`, positions are relative to an origin, which needs to be specified when cropping.\n",
    "\n",
    "I guess in the general case, the domain of an `ObjectDetector` function need not be the same as the `reg` fields in the output elements."
   ]
  },
  {
   "cell_type": "code",
   "execution_count": 1,
   "metadata": {},
   "outputs": [
    {
     "name": "stdout",
     "output_type": "stream",
     "text": [
      "True\n",
      "True\n",
      "True\n"
     ]
    },
    {
     "data": {
      "text/plain": [
       "'<PIL.JpegImagePlugin.JpegImageFile image mode=RGB size=1080x1080 at 0x7F5F2C32F0B8>'"
      ]
     },
     "execution_count": 1,
     "metadata": {},
     "output_type": "execute_result"
    }
   ],
   "source": [
    "import sys\n",
    "sys.path.append('pyttr')\n",
    "from pyttr.ttrtypes import *\n",
    "from pyttr.utils import *\n",
    "import PIL.Image\n",
    "\n",
    "ttrace()\n",
    "\n",
    "# Basic types.\n",
    "\n",
    "Ind = BType('Ind')\n",
    "\n",
    "Int = BType('Int')\n",
    "Int.learn_witness_condition(lambda x: isinstance(x, int))\n",
    "print(Int.query(365))\n",
    "\n",
    "Image = BType('Image')\n",
    "Image.learn_witness_condition(lambda x: isinstance(x, PIL.Image.Image))\n",
    "img = PIL.Image.open('res/dogcar.jpg')\n",
    "print(Image.query(img))\n",
    "\n",
    "# Segment type: a rectangular area of a given image.\n",
    "\n",
    "Segment = RecType({#'i': Image,\n",
    "    'cx': Int, 'cy': Int, 'w': Int, 'h': Int})\n",
    "print(Segment.query(Rec({#'i': img,\n",
    "    'cx': 100, 'cy': 150, 'w': 40, 'h': 20})))\n",
    "\n",
    "# Redefine Image.show() to work with Rec.show().\n",
    "def image_show(self):\n",
    "    return str(self)\n",
    "PIL.Image.Image.show = image_show\n",
    "show(img)"
   ]
  },
  {
   "cell_type": "code",
   "execution_count": 2,
   "metadata": {},
   "outputs": [],
   "source": [
    "def latex(*objs):\n",
    "    texcode = '\\n\\n'.join(to_ipython_latex(obj) for obj in objs)\n",
    "    print(texcode)\n",
    "    return Latex(texcode)"
   ]
  },
  {
   "cell_type": "code",
   "execution_count": 3,
   "metadata": {},
   "outputs": [
    {
     "name": "stdout",
     "output_type": "stream",
     "text": [
      "\\begin{equation}\\left[\\begin{array}{rcl}\n",
      "\\text{cy} &:& Int\\\\\n",
      "\\text{h} &:& Int\\\\\n",
      "\\text{cx} &:& Int\\\\\n",
      "\\text{w} &:& Int\n",
      "\\end{array}\\right]\\end{equation}\n"
     ]
    },
    {
     "data": {
      "text/latex": [
       "\\begin{equation}\\left[\\begin{array}{rcl}\n",
       "\\text{cy} &:& Int\\\\\n",
       "\\text{h} &:& Int\\\\\n",
       "\\text{cx} &:& Int\\\\\n",
       "\\text{w} &:& Int\n",
       "\\end{array}\\right]\\end{equation}"
      ],
      "text/plain": [
       "<IPython.core.display.Latex object>"
      ]
     },
     "execution_count": 3,
     "metadata": {},
     "output_type": "execute_result"
    }
   ],
   "source": [
    "latex(Segment)"
   ]
  },
  {
   "cell_type": "code",
   "execution_count": 4,
   "metadata": {},
   "outputs": [
    {
     "name": "stdout",
     "output_type": "stream",
     "text": [
      "\\begin{equation}\\left(\\begin{array}{rcl}\n",
      "Ind\\rightarrow Ty\n",
      "\\end{array}\\right)\\end{equation}\n",
      "\n",
      "\\begin{equation}\\left(\\begin{array}{rcl}\n",
      "Image\\rightarrow \\left[\\begin{array}{rcl}\n",
      "\\left[\\begin{array}{rcl}\n",
      "\\text{seg} &:& \\left[\\begin{array}{rcl}\n",
      "\\text{cy} &:& Int\\\\\n",
      "\\text{h} &:& Int\\\\\n",
      "\\text{cx} &:& Int\\\\\n",
      "\\text{w} &:& Int\n",
      "\\end{array}\\right]\\\\\n",
      "\\text{pfun} &:& \\left(\\begin{array}{rcl}\n",
      "Ind\\rightarrow Ty\n",
      "\\end{array}\\right)\n",
      "\\end{array}\\right]\n",
      "\\end{array}\\right]\n",
      "\\end{array}\\right)\\end{equation}\n"
     ]
    },
    {
     "data": {
      "text/latex": [
       "\\begin{equation}\\left(\\begin{array}{rcl}\n",
       "Ind\\rightarrow Ty\n",
       "\\end{array}\\right)\\end{equation}\n",
       "\n",
       "\\begin{equation}\\left(\\begin{array}{rcl}\n",
       "Image\\rightarrow \\left[\\begin{array}{rcl}\n",
       "\\left[\\begin{array}{rcl}\n",
       "\\text{seg} &:& \\left[\\begin{array}{rcl}\n",
       "\\text{cy} &:& Int\\\\\n",
       "\\text{h} &:& Int\\\\\n",
       "\\text{cx} &:& Int\\\\\n",
       "\\text{w} &:& Int\n",
       "\\end{array}\\right]\\\\\n",
       "\\text{pfun} &:& \\left(\\begin{array}{rcl}\n",
       "Ind\\rightarrow Ty\n",
       "\\end{array}\\right)\n",
       "\\end{array}\\right]\n",
       "\\end{array}\\right]\n",
       "\\end{array}\\right)\\end{equation}"
      ],
      "text/plain": [
       "<IPython.core.display.Latex object>"
      ]
     },
     "execution_count": 4,
     "metadata": {},
     "output_type": "execute_result"
    }
   ],
   "source": [
    "Ppty = FunType(Ind, Ty)\n",
    "ImageDetection = RecType({'seg': Segment, 'pfun': Ppty})\n",
    "ImageDetections = ListType(ImageDetection)\n",
    "ObjectDetector = FunType(Image, ImageDetections)\n",
    "\n",
    "latex(Ppty, ObjectDetector)"
   ]
  },
  {
   "cell_type": "markdown",
   "metadata": {},
   "source": [
    "## Object detection model YOLO\n",
    "\n",
    "Requires OpenCV and [Darkflow](https://github.com/thtrieu/darkflow). `yolo.weights` is from [Yolo](https://pjreddie.com/darknet/yolo/)."
   ]
  },
  {
   "cell_type": "code",
   "execution_count": 5,
   "metadata": {
    "scrolled": true
   },
   "outputs": [
    {
     "name": "stdout",
     "output_type": "stream",
     "text": [
      "Parsing yolo/yolo.cfg\n",
      "Loading yolo/yolo.weights ...\n",
      "Successfully identified 203934260 bytes\n",
      "Finished in 0.030837535858154297s\n",
      "Model has a coco model name, loading coco labels.\n",
      "\n",
      "Building net ...\n",
      "Source | Train? | Layer description                | Output size\n",
      "-------+--------+----------------------------------+---------------\n",
      "       |        | input                            | (?, 608, 608, 3)\n",
      " Load  |  Yep!  | conv 3x3p1_1  +bnorm  leaky      | (?, 608, 608, 32)\n",
      " Load  |  Yep!  | maxp 2x2p0_2                     | (?, 304, 304, 32)\n",
      " Load  |  Yep!  | conv 3x3p1_1  +bnorm  leaky      | (?, 304, 304, 64)\n",
      " Load  |  Yep!  | maxp 2x2p0_2                     | (?, 152, 152, 64)\n",
      " Load  |  Yep!  | conv 3x3p1_1  +bnorm  leaky      | (?, 152, 152, 128)\n",
      " Load  |  Yep!  | conv 1x1p0_1  +bnorm  leaky      | (?, 152, 152, 64)\n",
      " Load  |  Yep!  | conv 3x3p1_1  +bnorm  leaky      | (?, 152, 152, 128)\n",
      " Load  |  Yep!  | maxp 2x2p0_2                     | (?, 76, 76, 128)\n",
      " Load  |  Yep!  | conv 3x3p1_1  +bnorm  leaky      | (?, 76, 76, 256)\n",
      " Load  |  Yep!  | conv 1x1p0_1  +bnorm  leaky      | (?, 76, 76, 128)\n",
      " Load  |  Yep!  | conv 3x3p1_1  +bnorm  leaky      | (?, 76, 76, 256)\n",
      " Load  |  Yep!  | maxp 2x2p0_2                     | (?, 38, 38, 256)\n",
      " Load  |  Yep!  | conv 3x3p1_1  +bnorm  leaky      | (?, 38, 38, 512)\n",
      " Load  |  Yep!  | conv 1x1p0_1  +bnorm  leaky      | (?, 38, 38, 256)\n",
      " Load  |  Yep!  | conv 3x3p1_1  +bnorm  leaky      | (?, 38, 38, 512)\n",
      " Load  |  Yep!  | conv 1x1p0_1  +bnorm  leaky      | (?, 38, 38, 256)\n",
      " Load  |  Yep!  | conv 3x3p1_1  +bnorm  leaky      | (?, 38, 38, 512)\n",
      " Load  |  Yep!  | maxp 2x2p0_2                     | (?, 19, 19, 512)\n",
      " Load  |  Yep!  | conv 3x3p1_1  +bnorm  leaky      | (?, 19, 19, 1024)\n",
      " Load  |  Yep!  | conv 1x1p0_1  +bnorm  leaky      | (?, 19, 19, 512)\n",
      " Load  |  Yep!  | conv 3x3p1_1  +bnorm  leaky      | (?, 19, 19, 1024)\n",
      " Load  |  Yep!  | conv 1x1p0_1  +bnorm  leaky      | (?, 19, 19, 512)\n",
      " Load  |  Yep!  | conv 3x3p1_1  +bnorm  leaky      | (?, 19, 19, 1024)\n",
      " Load  |  Yep!  | conv 3x3p1_1  +bnorm  leaky      | (?, 19, 19, 1024)\n",
      " Load  |  Yep!  | conv 3x3p1_1  +bnorm  leaky      | (?, 19, 19, 1024)\n",
      " Load  |  Yep!  | concat [16]                      | (?, 38, 38, 512)\n",
      " Load  |  Yep!  | conv 1x1p0_1  +bnorm  leaky      | (?, 38, 38, 64)\n",
      " Load  |  Yep!  | local flatten 2x2                | (?, 19, 19, 256)\n",
      " Load  |  Yep!  | concat [27, 24]                  | (?, 19, 19, 1280)\n",
      " Load  |  Yep!  | conv 3x3p1_1  +bnorm  leaky      | (?, 19, 19, 1024)\n",
      " Load  |  Yep!  | conv 1x1p0_1    linear           | (?, 19, 19, 425)\n",
      "-------+--------+----------------------------------+---------------\n",
      "Running entirely on CPU\n",
      "Finished in 5.321762800216675s\n",
      "\n"
     ]
    }
   ],
   "source": [
    "from darkflow.net.build import TFNet\n",
    "import numpy as np\n",
    "\n",
    "tfnet = TFNet({\"model\": \"yolo/yolo.cfg\", \"load\": \"yolo/yolo.weights\",\n",
    "    'config': 'yolo', \"threshold\": 0.1})"
   ]
  },
  {
   "cell_type": "code",
   "execution_count": 6,
   "metadata": {},
   "outputs": [
    {
     "name": "stdout",
     "output_type": "stream",
     "text": [
      "True\n"
     ]
    }
   ],
   "source": [
    "# Make preds and ptypes identifiable by their predicate names.\n",
    "# From now on, use mktype().\n",
    "ptypes = dict()\n",
    "def mkptype(sym, types=[Ind], vars=['v']):\n",
    "    id = '/'.join([sym, ','.join(show(type) for type in types), ','.join(vars)])\n",
    "    if id not in ptypes:\n",
    "        ptypes[id] = PType(Pred(sym, types), vars)\n",
    "    return ptypes[id]\n",
    "\n",
    "print(show(mkptype('rabbit') is mkptype('rabbit')))"
   ]
  },
  {
   "cell_type": "code",
   "execution_count": 7,
   "metadata": {},
   "outputs": [],
   "source": [
    "def xy1xy2_to_cwh(x1, y1, x2, y2):\n",
    "    '''Transform to center, width and height.'''\n",
    "    return {'cx': int(x1/2 + x2/2), 'cy': int(y1/2 + y2/2), 'w': x2 - x1, 'h': y2 - y1}"
   ]
  },
  {
   "cell_type": "code",
   "execution_count": 8,
   "metadata": {},
   "outputs": [
    {
     "name": "stdout",
     "output_type": "stream",
     "text": [
      "True\n",
      "True\n",
      "True\n",
      "True\n",
      "{seg = {cy = 654, h = 809, cx = 138, w = 276}, pfun = lambda v:Ind . person(v)}\n",
      "{seg = {cy = 657, h = 796, cx = 714, w = 706}, pfun = lambda v:Ind . person(v)}\n",
      "{seg = {cy = 888, h = 381, cx = 194, w = 380}, pfun = lambda v:Ind . person(v)}\n",
      "{seg = {cy = 589, h = 979, cx = 490, w = 774}, pfun = lambda v:Ind . car(v)}\n",
      "{seg = {cy = 714, h = 718, cx = 704, w = 687}, pfun = lambda v:Ind . dog(v)}\n",
      "{seg = {cy = 541, h = 210, cx = 757, w = 219}, pfun = lambda v:Ind . chair(v)}\n",
      "{seg = {cy = 687, h = 783, cx = 547, w = 778}, pfun = lambda v:Ind . chair(v)}\n",
      "{seg = {cy = 677, h = 803, cx = 486, w = 957}, pfun = lambda v:Ind . sofa(v)}\n",
      "{seg = {cy = 588, h = 423, cx = 93, w = 187}, pfun = lambda v:Ind . cell phone(v)}\n",
      "{seg = {cy = 544, h = 107, cx = 44, w = 71}, pfun = lambda v:Ind . clock(v)}\n",
      "\\begin{equation}\\left[\\begin{array}{rcl}\n",
      "\\text{seg} &=& \\left[\\begin{array}{rcl}\n",
      "\\text{cy} &=& 654\\\\\n",
      "\\text{h} &=& 809\\\\\n",
      "\\text{cx} &=& 138\\\\\n",
      "\\text{w} &=& 276\n",
      "\\end{array}\\right]\\\\\n",
      "\\text{pfun} &=& \\lambda v:Ind\\ .\\ \\text{person}(v)\n",
      "\\end{array}\\right]\\end{equation}\n"
     ]
    },
    {
     "data": {
      "text/latex": [
       "\\begin{equation}\\left[\\begin{array}{rcl}\n",
       "\\text{seg} &=& \\left[\\begin{array}{rcl}\n",
       "\\text{cy} &=& 654\\\\\n",
       "\\text{h} &=& 809\\\\\n",
       "\\text{cx} &=& 138\\\\\n",
       "\\text{w} &=& 276\n",
       "\\end{array}\\right]\\\\\n",
       "\\text{pfun} &=& \\lambda v:Ind\\ .\\ \\text{person}(v)\n",
       "\\end{array}\\right]\\end{equation}"
      ],
      "text/plain": [
       "<IPython.core.display.Latex object>"
      ]
     },
     "execution_count": 8,
     "metadata": {},
     "output_type": "execute_result"
    }
   ],
   "source": [
    "def yolo_detector(i):\n",
    "    return [Rec({\n",
    "        'seg': Rec({\n",
    "            #'i': i,\n",
    "            **xy1xy2_to_cwh(o['topleft']['x'], o['topleft']['y'], o['bottomright']['x'], o['bottomright']['y']),\n",
    "        }),\n",
    "        'pfun': Fun('v', Ind, mkptype(o['label'], 'v')),\n",
    "    }) for o in tfnet.return_predict(np.array(i))] # @todo RBG/BGR?\n",
    "\n",
    "image_detections = yolo_detector(img)\n",
    "\n",
    "print(ImageDetections.query(image_detections))\n",
    "print(ImageDetection.query(image_detections[0]))\n",
    "print(Ppty.query(image_detections[0].pfun))\n",
    "print(Segment.query(image_detections[0].seg))\n",
    "\n",
    "for image_detection in image_detections:\n",
    "    print(show(image_detection))\n",
    "latex(image_detections[0])"
   ]
  },
  {
   "cell_type": "markdown",
   "metadata": {},
   "source": [
    "Here's a version where individuals are created too."
   ]
  },
  {
   "cell_type": "code",
   "execution_count": 20,
   "metadata": {},
   "outputs": [
    {
     "name": "stdout",
     "output_type": "stream",
     "text": [
      "True\n",
      "\\begin{equation}\\left[\\begin{array}{rcl}\n",
      "\\text{ind} &:& Ind\\\\\n",
      "\\text{seg} &:& \\left[\\begin{array}{rcl}\n",
      "\\text{cy} &:& Int\\\\\n",
      "\\text{h} &:& Int\\\\\n",
      "\\text{cx} &:& Int\\\\\n",
      "\\text{w} &:& Int\n",
      "\\end{array}\\right]\\\\\n",
      "\\text{pfun} &:& \\left(\\begin{array}{rcl}\n",
      "Ind\\rightarrow Ty\n",
      "\\end{array}\\right)\n",
      "\\end{array}\\right]\\end{equation}\n",
      "\n",
      "\\begin{equation}\\left[\\begin{array}{rcl}\n",
      "\\text{ind} &=& a_{10}\\\\\n",
      "\\text{seg} &=& \\left[\\begin{array}{rcl}\n",
      "\\text{cy} &=& 654\\\\\n",
      "\\text{h} &=& 809\\\\\n",
      "\\text{cx} &=& 138\\\\\n",
      "\\text{w} &=& 276\n",
      "\\end{array}\\right]\\\\\n",
      "\\text{pfun} &=& \\lambda v:Ind\\ .\\ \\text{person}(v)\n",
      "\\end{array}\\right]\\end{equation}\n"
     ]
    },
    {
     "data": {
      "text/latex": [
       "\\begin{equation}\\left[\\begin{array}{rcl}\n",
       "\\text{ind} &:& Ind\\\\\n",
       "\\text{seg} &:& \\left[\\begin{array}{rcl}\n",
       "\\text{cy} &:& Int\\\\\n",
       "\\text{h} &:& Int\\\\\n",
       "\\text{cx} &:& Int\\\\\n",
       "\\text{w} &:& Int\n",
       "\\end{array}\\right]\\\\\n",
       "\\text{pfun} &:& \\left(\\begin{array}{rcl}\n",
       "Ind\\rightarrow Ty\n",
       "\\end{array}\\right)\n",
       "\\end{array}\\right]\\end{equation}\n",
       "\n",
       "\\begin{equation}\\left[\\begin{array}{rcl}\n",
       "\\text{ind} &=& a_{10}\\\\\n",
       "\\text{seg} &=& \\left[\\begin{array}{rcl}\n",
       "\\text{cy} &=& 654\\\\\n",
       "\\text{h} &=& 809\\\\\n",
       "\\text{cx} &=& 138\\\\\n",
       "\\text{w} &=& 276\n",
       "\\end{array}\\right]\\\\\n",
       "\\text{pfun} &=& \\lambda v:Ind\\ .\\ \\text{person}(v)\n",
       "\\end{array}\\right]\\end{equation}"
      ],
      "text/plain": [
       "<IPython.core.display.Latex object>"
      ]
     },
     "execution_count": 20,
     "metadata": {},
     "output_type": "execute_result"
    }
   ],
   "source": [
    "DetectedInd = RecType({'seg': Segment, 'pfun': Ppty, 'ind': Ind})\n",
    "DetectedInds = ListType(DetectedInd)\n",
    "\n",
    "def yolo_detector_ind(i):\n",
    "    return [Rec({\n",
    "        'seg': Rec(xy1xy2_to_cwh(o['topleft']['x'], o['topleft']['y'], o['bottomright']['x'], o['bottomright']['y'])),\n",
    "        'pfun': Fun('v', Ind, mkptype(o['label'].replace(' ', '_'), 'v')),\n",
    "        'ind': Ind.create(),\n",
    "    }) for o in tfnet.return_predict(np.array(i))]\n",
    "\n",
    "ind_detections = yolo_detector_ind(img)\n",
    "print(DetectedInds.query(ind_detections))\n",
    "latex(DetectedInd, ind_detections[0])"
   ]
  },
  {
   "cell_type": "markdown",
   "metadata": {},
   "source": [
    "## Spatial relations"
   ]
  },
  {
   "cell_type": "code",
   "execution_count": 10,
   "metadata": {},
   "outputs": [
    {
     "name": "stdout",
     "output_type": "stream",
     "text": [
      "left(a, b)\n",
      "True\n",
      "False\n"
     ]
    }
   ],
   "source": [
    "# An index of IndDetection by Ind.\n",
    "ind_dets = dict((r.ind, r) for r in ind_detections)\n",
    "\n",
    "Left = mkptype('left', [Ind, Ind], ['a', 'b'])\n",
    "Left.learn_witness_condition(lambda ab: ind_dets[ab[0]].seg.cx < ind_dets[ab[1]].seg.cx)\n",
    "print(show(Left))\n",
    "\n",
    "print(Left.query((ind_detections[0].ind, ind_detections[1].ind)))\n",
    "print(Left.query((ind_detections[1].ind, ind_detections[2].ind)))"
   ]
  },
  {
   "cell_type": "code",
   "execution_count": 11,
   "metadata": {},
   "outputs": [
    {
     "name": "stdout",
     "output_type": "stream",
     "text": [
      "True\n",
      "True\n",
      "\\begin{equation}\\left[\\begin{array}{rcl}\n",
      "\\text{ind} &:& Ind\\\\\n",
      "\\text{pfun} &:& \\left(\\begin{array}{rcl}\n",
      "Ind\\rightarrow Ty\n",
      "\\end{array}\\right)\n",
      "\\end{array}\\right]\\end{equation}\n",
      "\n",
      "\\begin{equation}\\left[\\begin{array}{rcl}\n",
      "\\text{ind} &:& Ind\\\\\n",
      "\\text{seg} &:& \\left[\\begin{array}{rcl}\n",
      "\\text{cy} &:& Int\\\\\n",
      "\\text{h} &:& Int\\\\\n",
      "\\text{cx} &:& Int\\\\\n",
      "\\text{w} &:& Int\n",
      "\\end{array}\\right]\n",
      "\\end{array}\\right]\\end{equation}\n"
     ]
    },
    {
     "data": {
      "text/latex": [
       "\\begin{equation}\\left[\\begin{array}{rcl}\n",
       "\\text{ind} &:& Ind\\\\\n",
       "\\text{pfun} &:& \\left(\\begin{array}{rcl}\n",
       "Ind\\rightarrow Ty\n",
       "\\end{array}\\right)\n",
       "\\end{array}\\right]\\end{equation}\n",
       "\n",
       "\\begin{equation}\\left[\\begin{array}{rcl}\n",
       "\\text{ind} &:& Ind\\\\\n",
       "\\text{seg} &:& \\left[\\begin{array}{rcl}\n",
       "\\text{cy} &:& Int\\\\\n",
       "\\text{h} &:& Int\\\\\n",
       "\\text{cx} &:& Int\\\\\n",
       "\\text{w} &:& Int\n",
       "\\end{array}\\right]\n",
       "\\end{array}\\right]\\end{equation}"
      ],
      "text/plain": [
       "<IPython.core.display.Latex object>"
      ]
     },
     "execution_count": 11,
     "metadata": {},
     "output_type": "execute_result"
    }
   ],
   "source": [
    "ClassifiedInd = RecType({'ind': Ind, 'pfun': Ppty})\n",
    "ClassifiedInds = ListType(ClassifiedInd)\n",
    "LocatedInd = RecType({'ind': Ind, 'seg': Segment})\n",
    "LocatedInds = ListType(LocatedInd)\n",
    "print(ClassifiedInds.query(ind_detections))\n",
    "print(LocatedInds.query(ind_detections))\n",
    "latex(ClassifiedInd, LocatedInd)"
   ]
  },
  {
   "cell_type": "markdown",
   "metadata": {},
   "source": [
    "### Combining observed situations"
   ]
  },
  {
   "cell_type": "code",
   "execution_count": 12,
   "metadata": {},
   "outputs": [
    {
     "name": "stdout",
     "output_type": "stream",
     "text": [
      "\\begin{equation}\\lambda r:\\left[\\begin{array}{rcl}\n",
      "\\text{ind} &:& Ind\\\\\n",
      "\\text{seg} &:& \\left[\\begin{array}{rcl}\n",
      "\\text{cy} &:& Int\\\\\n",
      "\\text{h} &:& Int\\\\\n",
      "\\text{cx} &:& Int\\\\\n",
      "\\text{w} &:& Int\n",
      "\\end{array}\\right]\\\\\n",
      "\\text{pfun} &:& \\left(\\begin{array}{rcl}\n",
      "Ind\\rightarrow Ty\n",
      "\\end{array}\\right)\n",
      "\\end{array}\\right]\\ .\\ \\left[\\begin{array}{rcl}\n",
      "\\text{c} &:& \\langle [r, ., pfun], [a]\\rangle\\\\\n",
      "\\text{a} &:& Ind\n",
      "\\end{array}\\right]\\end{equation}\n"
     ]
    },
    {
     "data": {
      "text/latex": [
       "\\begin{equation}\\lambda r:\\left[\\begin{array}{rcl}\n",
       "\\text{ind} &:& Ind\\\\\n",
       "\\text{seg} &:& \\left[\\begin{array}{rcl}\n",
       "\\text{cy} &:& Int\\\\\n",
       "\\text{h} &:& Int\\\\\n",
       "\\text{cx} &:& Int\\\\\n",
       "\\text{w} &:& Int\n",
       "\\end{array}\\right]\\\\\n",
       "\\text{pfun} &:& \\left(\\begin{array}{rcl}\n",
       "Ind\\rightarrow Ty\n",
       "\\end{array}\\right)\n",
       "\\end{array}\\right]\\ .\\ \\left[\\begin{array}{rcl}\n",
       "\\text{c} &:& \\langle [r, ., pfun], [a]\\rangle\\\\\n",
       "\\text{a} &:& Ind\n",
       "\\end{array}\\right]\\end{equation}"
      ],
      "text/plain": [
       "<IPython.core.display.Latex object>"
      ]
     },
     "execution_count": 12,
     "metadata": {},
     "output_type": "execute_result"
    }
   ],
   "source": [
    "WhatIs = Fun('r', DetectedInd, RecType({\n",
    "    'a': Ind,\n",
    "    'c': (LazyObj(['r', '.', 'pfun']), ['a'])\n",
    "}))\n",
    "latex(WhatIs)"
   ]
  },
  {
   "cell_type": "code",
   "execution_count": 21,
   "metadata": {
    "scrolled": true
   },
   "outputs": [
    {
     "name": "stdout",
     "output_type": "stream",
     "text": [
      "\\begin{equation}\\left[\\begin{array}{rcl} \\left[\\begin{array}{rcl}\n",
      "\\text{c} &:& \\langle \\lambda v:Ind\\ .\\ \\text{person}(v), [a]\\rangle\\\\\n",
      "\\text{a} &:& Ind\n",
      "\\end{array}\\right]\\\\\n",
      "\\left[\\begin{array}{rcl}\n",
      "\\text{c} &:& \\langle \\lambda v:Ind\\ .\\ \\text{person}(v), [a]\\rangle\\\\\n",
      "\\text{a} &:& Ind\n",
      "\\end{array}\\right]\\\\\n",
      "\\left[\\begin{array}{rcl}\n",
      "\\text{c} &:& \\langle \\lambda v:Ind\\ .\\ \\text{person}(v), [a]\\rangle\\\\\n",
      "\\text{a} &:& Ind\n",
      "\\end{array}\\right]\\\\\n",
      "\\left[\\begin{array}{rcl}\n",
      "\\text{c} &:& \\langle \\lambda v:Ind\\ .\\ \\text{car}(v), [a]\\rangle\\\\\n",
      "\\text{a} &:& Ind\n",
      "\\end{array}\\right]\\\\\n",
      "\\left[\\begin{array}{rcl}\n",
      "\\text{c} &:& \\langle \\lambda v:Ind\\ .\\ \\text{dog}(v), [a]\\rangle\\\\\n",
      "\\text{a} &:& Ind\n",
      "\\end{array}\\right]\\\\\n",
      "\\left[\\begin{array}{rcl}\n",
      "\\text{c} &:& \\langle \\lambda v:Ind\\ .\\ \\text{chair}(v), [a]\\rangle\\\\\n",
      "\\text{a} &:& Ind\n",
      "\\end{array}\\right]\\\\\n",
      "\\left[\\begin{array}{rcl}\n",
      "\\text{c} &:& \\langle \\lambda v:Ind\\ .\\ \\text{chair}(v), [a]\\rangle\\\\\n",
      "\\text{a} &:& Ind\n",
      "\\end{array}\\right]\\\\\n",
      "\\left[\\begin{array}{rcl}\n",
      "\\text{c} &:& \\langle \\lambda v:Ind\\ .\\ \\text{sofa}(v), [a]\\rangle\\\\\n",
      "\\text{a} &:& Ind\n",
      "\\end{array}\\right]\\\\\n",
      "\\left[\\begin{array}{rcl}\n",
      "\\text{c} &:& \\langle \\lambda v:Ind\\ .\\ \\text{cell_phone}(v), [a]\\rangle\\\\\n",
      "\\text{a} &:& Ind\n",
      "\\end{array}\\right]\\\\\n",
      "\\left[\\begin{array}{rcl}\n",
      "\\text{c} &:& \\langle \\lambda v:Ind\\ .\\ \\text{clock}(v), [a]\\rangle\\\\\n",
      "\\text{a} &:& Ind\n",
      "\\end{array}\\right]\\end{array}\\right]\\end{equation}\n"
     ]
    },
    {
     "data": {
      "text/latex": [
       "\\begin{equation}\\left[\\begin{array}{rcl} \\left[\\begin{array}{rcl}\n",
       "\\text{c} &:& \\langle \\lambda v:Ind\\ .\\ \\text{person}(v), [a]\\rangle\\\\\n",
       "\\text{a} &:& Ind\n",
       "\\end{array}\\right]\\\\\n",
       "\\left[\\begin{array}{rcl}\n",
       "\\text{c} &:& \\langle \\lambda v:Ind\\ .\\ \\text{person}(v), [a]\\rangle\\\\\n",
       "\\text{a} &:& Ind\n",
       "\\end{array}\\right]\\\\\n",
       "\\left[\\begin{array}{rcl}\n",
       "\\text{c} &:& \\langle \\lambda v:Ind\\ .\\ \\text{person}(v), [a]\\rangle\\\\\n",
       "\\text{a} &:& Ind\n",
       "\\end{array}\\right]\\\\\n",
       "\\left[\\begin{array}{rcl}\n",
       "\\text{c} &:& \\langle \\lambda v:Ind\\ .\\ \\text{car}(v), [a]\\rangle\\\\\n",
       "\\text{a} &:& Ind\n",
       "\\end{array}\\right]\\\\\n",
       "\\left[\\begin{array}{rcl}\n",
       "\\text{c} &:& \\langle \\lambda v:Ind\\ .\\ \\text{dog}(v), [a]\\rangle\\\\\n",
       "\\text{a} &:& Ind\n",
       "\\end{array}\\right]\\\\\n",
       "\\left[\\begin{array}{rcl}\n",
       "\\text{c} &:& \\langle \\lambda v:Ind\\ .\\ \\text{chair}(v), [a]\\rangle\\\\\n",
       "\\text{a} &:& Ind\n",
       "\\end{array}\\right]\\\\\n",
       "\\left[\\begin{array}{rcl}\n",
       "\\text{c} &:& \\langle \\lambda v:Ind\\ .\\ \\text{chair}(v), [a]\\rangle\\\\\n",
       "\\text{a} &:& Ind\n",
       "\\end{array}\\right]\\\\\n",
       "\\left[\\begin{array}{rcl}\n",
       "\\text{c} &:& \\langle \\lambda v:Ind\\ .\\ \\text{sofa}(v), [a]\\rangle\\\\\n",
       "\\text{a} &:& Ind\n",
       "\\end{array}\\right]\\\\\n",
       "\\left[\\begin{array}{rcl}\n",
       "\\text{c} &:& \\langle \\lambda v:Ind\\ .\\ \\text{cell_phone}(v), [a]\\rangle\\\\\n",
       "\\text{a} &:& Ind\n",
       "\\end{array}\\right]\\\\\n",
       "\\left[\\begin{array}{rcl}\n",
       "\\text{c} &:& \\langle \\lambda v:Ind\\ .\\ \\text{clock}(v), [a]\\rangle\\\\\n",
       "\\text{a} &:& Ind\n",
       "\\end{array}\\right]\\end{array}\\right]\\end{equation}"
      ],
      "text/plain": [
       "<IPython.core.display.Latex object>"
      ]
     },
     "execution_count": 21,
     "metadata": {},
     "output_type": "execute_result"
    }
   ],
   "source": [
    "whats = [WhatIs.app(r) for r in ind_detections]\n",
    "latex(whats)"
   ]
  },
  {
   "cell_type": "code",
   "execution_count": 14,
   "metadata": {},
   "outputs": [
    {
     "name": "stdout",
     "output_type": "stream",
     "text": [
      "\\begin{equation}\\left[\\begin{array}{rcl}\n",
      "\\text{prev} &:& \\left[\\begin{array}{rcl}\n",
      "\\text{a} &:& A\n",
      "\\end{array}\\right]\\\\\n",
      "\\text{b} &:& B\n",
      "\\end{array}\\right]\\end{equation}\n"
     ]
    },
    {
     "data": {
      "text/latex": [
       "\\begin{equation}\\left[\\begin{array}{rcl}\n",
       "\\text{prev} &:& \\left[\\begin{array}{rcl}\n",
       "\\text{a} &:& A\n",
       "\\end{array}\\right]\\\\\n",
       "\\text{b} &:& B\n",
       "\\end{array}\\right]\\end{equation}"
      ],
      "text/plain": [
       "<IPython.core.display.Latex object>"
      ]
     },
     "execution_count": 14,
     "metadata": {},
     "output_type": "execute_result"
    }
   ],
   "source": [
    "from functools import reduce\n",
    "def combine_prev(*ts):\n",
    "    return reduce(lambda t1, t2: RecType({'prev': t1}).merge(t2) if t2 else t1, ts)\n",
    "latex(combine_prev(RecType({'a': 'A'}), RecType({'b': 'B'})))"
   ]
  },
  {
   "cell_type": "code",
   "execution_count": 28,
   "metadata": {
    "scrolled": true
   },
   "outputs": [
    {
     "name": "stdout",
     "output_type": "stream",
     "text": [
      "\\begin{equation}\\left[\\begin{array}{rcl}\n",
      "\\text{c} &:& \\langle \\lambda v:Ind\\ .\\ \\text{clock}(v), [a]\\rangle\\\\\n",
      "\\text{prev} &:& \\left[\\begin{array}{rcl}\n",
      "\\text{c} &:& \\langle \\lambda v:Ind\\ .\\ \\text{cell_phone}(v), [a]\\rangle\\\\\n",
      "\\text{prev} &:& \\left[\\begin{array}{rcl}\n",
      "\\text{c} &:& \\langle \\lambda v:Ind\\ .\\ \\text{sofa}(v), [a]\\rangle\\\\\n",
      "\\text{prev} &:& \\left[\\begin{array}{rcl}\n",
      "\\text{c} &:& \\langle \\lambda v:Ind\\ .\\ \\text{chair}(v), [a]\\rangle\\\\\n",
      "\\text{prev} &:& \\left[\\begin{array}{rcl}\n",
      "\\text{c} &:& \\langle \\lambda v:Ind\\ .\\ \\text{chair}(v), [a]\\rangle\\\\\n",
      "\\text{prev} &:& \\left[\\begin{array}{rcl}\n",
      "\\text{c} &:& \\langle \\lambda v:Ind\\ .\\ \\text{dog}(v), [a]\\rangle\\\\\n",
      "\\text{prev} &:& \\left[\\begin{array}{rcl}\n",
      "\\text{c} &:& \\langle \\lambda v:Ind\\ .\\ \\text{car}(v), [a]\\rangle\\\\\n",
      "\\text{prev} &:& \\left[\\begin{array}{rcl}\n",
      "\\text{c} &:& \\langle \\lambda v:Ind\\ .\\ \\text{person}(v), [a]\\rangle\\\\\n",
      "\\text{prev} &:& \\left[\\begin{array}{rcl}\n",
      "\\text{c} &:& \\langle \\lambda v:Ind\\ .\\ \\text{person}(v), [a]\\rangle\\\\\n",
      "\\text{prev} &:& \\left[\\begin{array}{rcl}\n",
      "\\text{c} &:& \\langle \\lambda v:Ind\\ .\\ \\text{person}(v), [a]\\rangle\\\\\n",
      "\\text{a} &:& Ind\n",
      "\\end{array}\\right]\\\\\n",
      "\\text{a} &:& Ind\n",
      "\\end{array}\\right]\\\\\n",
      "\\text{a} &:& Ind\n",
      "\\end{array}\\right]\\\\\n",
      "\\text{a} &:& Ind\n",
      "\\end{array}\\right]\\\\\n",
      "\\text{a} &:& Ind\n",
      "\\end{array}\\right]\\\\\n",
      "\\text{a} &:& Ind\n",
      "\\end{array}\\right]\\\\\n",
      "\\text{a} &:& Ind\n",
      "\\end{array}\\right]\\\\\n",
      "\\text{a} &:& Ind\n",
      "\\end{array}\\right]\\\\\n",
      "\\text{a} &:& Ind\n",
      "\\end{array}\\right]\\\\\n",
      "\\text{a} &:& Ind\n",
      "\\end{array}\\right]\\end{equation}\n"
     ]
    },
    {
     "data": {
      "text/latex": [
       "\\begin{equation}\\left[\\begin{array}{rcl}\n",
       "\\text{c} &:& \\langle \\lambda v:Ind\\ .\\ \\text{clock}(v), [a]\\rangle\\\\\n",
       "\\text{prev} &:& \\left[\\begin{array}{rcl}\n",
       "\\text{c} &:& \\langle \\lambda v:Ind\\ .\\ \\text{cell_phone}(v), [a]\\rangle\\\\\n",
       "\\text{prev} &:& \\left[\\begin{array}{rcl}\n",
       "\\text{c} &:& \\langle \\lambda v:Ind\\ .\\ \\text{sofa}(v), [a]\\rangle\\\\\n",
       "\\text{prev} &:& \\left[\\begin{array}{rcl}\n",
       "\\text{c} &:& \\langle \\lambda v:Ind\\ .\\ \\text{chair}(v), [a]\\rangle\\\\\n",
       "\\text{prev} &:& \\left[\\begin{array}{rcl}\n",
       "\\text{c} &:& \\langle \\lambda v:Ind\\ .\\ \\text{chair}(v), [a]\\rangle\\\\\n",
       "\\text{prev} &:& \\left[\\begin{array}{rcl}\n",
       "\\text{c} &:& \\langle \\lambda v:Ind\\ .\\ \\text{dog}(v), [a]\\rangle\\\\\n",
       "\\text{prev} &:& \\left[\\begin{array}{rcl}\n",
       "\\text{c} &:& \\langle \\lambda v:Ind\\ .\\ \\text{car}(v), [a]\\rangle\\\\\n",
       "\\text{prev} &:& \\left[\\begin{array}{rcl}\n",
       "\\text{c} &:& \\langle \\lambda v:Ind\\ .\\ \\text{person}(v), [a]\\rangle\\\\\n",
       "\\text{prev} &:& \\left[\\begin{array}{rcl}\n",
       "\\text{c} &:& \\langle \\lambda v:Ind\\ .\\ \\text{person}(v), [a]\\rangle\\\\\n",
       "\\text{prev} &:& \\left[\\begin{array}{rcl}\n",
       "\\text{c} &:& \\langle \\lambda v:Ind\\ .\\ \\text{person}(v), [a]\\rangle\\\\\n",
       "\\text{a} &:& Ind\n",
       "\\end{array}\\right]\\\\\n",
       "\\text{a} &:& Ind\n",
       "\\end{array}\\right]\\\\\n",
       "\\text{a} &:& Ind\n",
       "\\end{array}\\right]\\\\\n",
       "\\text{a} &:& Ind\n",
       "\\end{array}\\right]\\\\\n",
       "\\text{a} &:& Ind\n",
       "\\end{array}\\right]\\\\\n",
       "\\text{a} &:& Ind\n",
       "\\end{array}\\right]\\\\\n",
       "\\text{a} &:& Ind\n",
       "\\end{array}\\right]\\\\\n",
       "\\text{a} &:& Ind\n",
       "\\end{array}\\right]\\\\\n",
       "\\text{a} &:& Ind\n",
       "\\end{array}\\right]\\\\\n",
       "\\text{a} &:& Ind\n",
       "\\end{array}\\right]\\end{equation}"
      ],
      "text/plain": [
       "<IPython.core.display.Latex object>"
      ]
     },
     "execution_count": 28,
     "metadata": {},
     "output_type": "execute_result"
    }
   ],
   "source": [
    "comb = combine_prev(*whats)\n",
    "latex(comb)"
   ]
  },
  {
   "cell_type": "code",
   "execution_count": 29,
   "metadata": {
    "scrolled": true
   },
   "outputs": [
    {
     "name": "stdout",
     "output_type": "stream",
     "text": [
      "\\begin{equation}\\left[\\begin{array}{rcl}\n",
      "\\text{prev.prev.prev.prev.prev.a} &:& Ind\\\\\n",
      "\\text{prev.a} &:& Ind\\\\\n",
      "\\text{prev.prev.prev.a} &:& Ind\\\\\n",
      "\\text{prev.prev.a} &:& Ind\\\\\n",
      "\\text{prev.prev.prev.prev.prev.prev.prev.prev.prev.a} &:& Ind\\\\\n",
      "\\text{prev.prev.prev.prev.prev.c} &:& \\langle \\lambda v:Ind\\ .\\ \\text{dog}(v), [prev.prev.prev.prev.prev.a]\\rangle\\\\\n",
      "\\text{prev.prev.prev.prev.prev.prev.prev.a} &:& Ind\\\\\n",
      "\\text{prev.prev.c} &:& \\langle \\lambda v:Ind\\ .\\ \\text{sofa}(v), [prev.prev.a]\\rangle\\\\\n",
      "\\text{a} &:& Ind\\\\\n",
      "\\text{prev.prev.prev.prev.prev.prev.prev.prev.prev.c} &:& \\langle \\lambda v:Ind\\ .\\ \\text{person}(v), [prev.prev.prev.prev.prev.prev.prev.prev.prev.a]\\rangle\\\\\n",
      "\\text{prev.prev.prev.prev.prev.prev.a} &:& Ind\\\\\n",
      "\\text{prev.prev.prev.prev.prev.prev.prev.c} &:& \\langle \\lambda v:Ind\\ .\\ \\text{person}(v), [prev.prev.prev.prev.prev.prev.prev.a]\\rangle\\\\\n",
      "\\text{prev.prev.prev.prev.a} &:& Ind\\\\\n",
      "\\text{prev.prev.prev.prev.c} &:& \\langle \\lambda v:Ind\\ .\\ \\text{chair}(v), [prev.prev.prev.prev.a]\\rangle\\\\\n",
      "\\text{c} &:& \\langle \\lambda v:Ind\\ .\\ \\text{clock}(v), [a]\\rangle\\\\\n",
      "\\text{prev.prev.prev.prev.prev.prev.prev.prev.c} &:& \\langle \\lambda v:Ind\\ .\\ \\text{person}(v), [prev.prev.prev.prev.prev.prev.prev.prev.a]\\rangle\\\\\n",
      "\\text{prev.c} &:& \\langle \\lambda v:Ind\\ .\\ \\text{cell_phone}(v), [prev.a]\\rangle\\\\\n",
      "\\text{prev.prev.prev.prev.prev.prev.c} &:& \\langle \\lambda v:Ind\\ .\\ \\text{car}(v), [prev.prev.prev.prev.prev.prev.a]\\rangle\\\\\n",
      "\\text{prev.prev.prev.prev.prev.prev.prev.prev.a} &:& Ind\\\\\n",
      "\\text{prev.prev.prev.c} &:& \\langle \\lambda v:Ind\\ .\\ \\text{chair}(v), [prev.prev.prev.a]\\rangle\n",
      "\\end{array}\\right]\\end{equation}\n"
     ]
    },
    {
     "data": {
      "text/latex": [
       "\\begin{equation}\\left[\\begin{array}{rcl}\n",
       "\\text{prev.prev.prev.prev.prev.a} &:& Ind\\\\\n",
       "\\text{prev.a} &:& Ind\\\\\n",
       "\\text{prev.prev.prev.a} &:& Ind\\\\\n",
       "\\text{prev.prev.a} &:& Ind\\\\\n",
       "\\text{prev.prev.prev.prev.prev.prev.prev.prev.prev.a} &:& Ind\\\\\n",
       "\\text{prev.prev.prev.prev.prev.c} &:& \\langle \\lambda v:Ind\\ .\\ \\text{dog}(v), [prev.prev.prev.prev.prev.a]\\rangle\\\\\n",
       "\\text{prev.prev.prev.prev.prev.prev.prev.a} &:& Ind\\\\\n",
       "\\text{prev.prev.c} &:& \\langle \\lambda v:Ind\\ .\\ \\text{sofa}(v), [prev.prev.a]\\rangle\\\\\n",
       "\\text{a} &:& Ind\\\\\n",
       "\\text{prev.prev.prev.prev.prev.prev.prev.prev.prev.c} &:& \\langle \\lambda v:Ind\\ .\\ \\text{person}(v), [prev.prev.prev.prev.prev.prev.prev.prev.prev.a]\\rangle\\\\\n",
       "\\text{prev.prev.prev.prev.prev.prev.a} &:& Ind\\\\\n",
       "\\text{prev.prev.prev.prev.prev.prev.prev.c} &:& \\langle \\lambda v:Ind\\ .\\ \\text{person}(v), [prev.prev.prev.prev.prev.prev.prev.a]\\rangle\\\\\n",
       "\\text{prev.prev.prev.prev.a} &:& Ind\\\\\n",
       "\\text{prev.prev.prev.prev.c} &:& \\langle \\lambda v:Ind\\ .\\ \\text{chair}(v), [prev.prev.prev.prev.a]\\rangle\\\\\n",
       "\\text{c} &:& \\langle \\lambda v:Ind\\ .\\ \\text{clock}(v), [a]\\rangle\\\\\n",
       "\\text{prev.prev.prev.prev.prev.prev.prev.prev.c} &:& \\langle \\lambda v:Ind\\ .\\ \\text{person}(v), [prev.prev.prev.prev.prev.prev.prev.prev.a]\\rangle\\\\\n",
       "\\text{prev.c} &:& \\langle \\lambda v:Ind\\ .\\ \\text{cell_phone}(v), [prev.a]\\rangle\\\\\n",
       "\\text{prev.prev.prev.prev.prev.prev.c} &:& \\langle \\lambda v:Ind\\ .\\ \\text{car}(v), [prev.prev.prev.prev.prev.prev.a]\\rangle\\\\\n",
       "\\text{prev.prev.prev.prev.prev.prev.prev.prev.a} &:& Ind\\\\\n",
       "\\text{prev.prev.prev.c} &:& \\langle \\lambda v:Ind\\ .\\ \\text{chair}(v), [prev.prev.prev.a]\\rangle\n",
       "\\end{array}\\right]\\end{equation}"
      ],
      "text/plain": [
       "<IPython.core.display.Latex object>"
      ]
     },
     "execution_count": 29,
     "metadata": {},
     "output_type": "execute_result"
    }
   ],
   "source": [
    "combflat = comb.flatten()\n",
    "latex(combflat)"
   ]
  },
  {
   "cell_type": "code",
   "execution_count": 30,
   "metadata": {
    "scrolled": true
   },
   "outputs": [
    {
     "name": "stdout",
     "output_type": "stream",
     "text": [
      "\\begin{equation}\\left[\\begin{array}{rcl}\n",
      "\\text{prev.prev.prev.prev.prev.prev.prev.prev.prev.pfun} &=& \\lambda v:Ind\\ .\\ \\text{person}(v)\\\\\n",
      "\\text{prev.seg.w} &=& 187\\\\\n",
      "\\text{prev.prev.prev.prev.prev.prev.prev.seg.h} &=& 381\\\\\n",
      "\\text{seg.w} &=& 71\\\\\n",
      "\\text{prev.seg.h} &=& 423\\\\\n",
      "\\text{prev.prev.prev.prev.prev.prev.prev.prev.prev.seg.h} &=& 809\\\\\n",
      "\\text{prev.prev.prev.prev.prev.prev.prev.prev.seg.w} &=& 706\\\\\n",
      "\\text{prev.prev.prev.prev.prev.prev.prev.seg.cx} &=& 194\\\\\n",
      "\\text{prev.prev.prev.prev.prev.prev.pfun} &=& \\lambda v:Ind\\ .\\ \\text{car}(v)\\\\\n",
      "\\text{prev.prev.prev.prev.prev.prev.seg.cx} &=& 490\\\\\n",
      "\\text{prev.ind} &=& a_{18}\\\\\n",
      "\\text{prev.prev.prev.prev.prev.prev.prev.ind} &=& a_{12}\\\\\n",
      "\\text{prev.prev.prev.prev.prev.seg.cy} &=& 714\\\\\n",
      "\\text{prev.prev.prev.prev.prev.prev.prev.prev.prev.seg.cx} &=& 138\\\\\n",
      "\\text{prev.seg.cy} &=& 588\\\\\n",
      "\\text{prev.prev.prev.prev.prev.prev.prev.prev.seg.h} &=& 796\\\\\n",
      "\\text{prev.prev.prev.prev.prev.pfun} &=& \\lambda v:Ind\\ .\\ \\text{dog}(v)\\\\\n",
      "\\text{prev.prev.prev.prev.prev.prev.seg.w} &=& 774\\\\\n",
      "\\text{prev.prev.prev.prev.prev.ind} &=& a_{14}\\\\\n",
      "\\text{prev.prev.seg.cy} &=& 677\\\\\n",
      "\\text{prev.prev.ind} &=& a_{17}\\\\\n",
      "\\text{prev.prev.prev.prev.seg.w} &=& 219\\\\\n",
      "\\text{prev.prev.prev.prev.ind} &=& a_{15}\\\\\n",
      "\\text{prev.prev.prev.prev.prev.prev.prev.prev.seg.cy} &=& 657\\\\\n",
      "\\text{prev.prev.prev.seg.w} &=& 778\\\\\n",
      "\\text{prev.prev.seg.cx} &=& 486\\\\\n",
      "\\text{prev.prev.prev.prev.prev.prev.seg.cy} &=& 589\\\\\n",
      "\\text{prev.seg.cx} &=& 93\\\\\n",
      "\\text{prev.prev.prev.prev.prev.prev.prev.prev.ind} &=& a_{11}\\\\\n",
      "\\text{prev.prev.prev.prev.pfun} &=& \\lambda v:Ind\\ .\\ \\text{chair}(v)\\\\\n",
      "\\text{prev.prev.prev.prev.prev.prev.prev.prev.prev.seg.cy} &=& 654\\\\\n",
      "\\text{seg.cy} &=& 544\\\\\n",
      "\\text{prev.prev.prev.prev.prev.prev.prev.prev.pfun} &=& \\lambda v:Ind\\ .\\ \\text{person}(v)\\\\\n",
      "\\text{prev.prev.prev.prev.seg.cy} &=& 541\\\\\n",
      "\\text{prev.prev.prev.prev.seg.cx} &=& 757\\\\\n",
      "\\text{prev.prev.prev.prev.prev.prev.ind} &=& a_{13}\\\\\n",
      "\\text{prev.prev.prev.prev.prev.prev.prev.seg.cy} &=& 888\\\\\n",
      "\\text{prev.prev.prev.prev.prev.prev.prev.prev.prev.seg.w} &=& 276\\\\\n",
      "\\text{prev.prev.prev.prev.prev.seg.cx} &=& 704\\\\\n",
      "\\text{prev.prev.prev.prev.prev.prev.seg.h} &=& 979\\\\\n",
      "\\text{prev.prev.pfun} &=& \\lambda v:Ind\\ .\\ \\text{sofa}(v)\\\\\n",
      "\\text{prev.prev.prev.prev.prev.prev.prev.prev.prev.ind} &=& a_{10}\\\\\n",
      "\\text{prev.prev.prev.pfun} &=& \\lambda v:Ind\\ .\\ \\text{chair}(v)\\\\\n",
      "\\text{pfun} &=& \\lambda v:Ind\\ .\\ \\text{clock}(v)\\\\\n",
      "\\text{prev.prev.prev.prev.prev.seg.h} &=& 718\\\\\n",
      "\\text{prev.prev.prev.ind} &=& a_{16}\\\\\n",
      "\\text{prev.prev.prev.prev.seg.h} &=& 210\\\\\n",
      "\\text{prev.prev.prev.prev.prev.seg.w} &=& 687\\\\\n",
      "\\text{ind} &=& a_{19}\\\\\n",
      "\\text{seg.h} &=& 107\\\\\n",
      "\\text{prev.prev.prev.prev.prev.prev.prev.seg.w} &=& 380\\\\\n",
      "\\text{prev.prev.seg.w} &=& 957\\\\\n",
      "\\text{prev.prev.prev.seg.cx} &=& 547\\\\\n",
      "\\text{prev.pfun} &=& \\lambda v:Ind\\ .\\ \\text{cell_phone}(v)\\\\\n",
      "\\text{seg.cx} &=& 44\\\\\n",
      "\\text{prev.prev.prev.prev.prev.prev.prev.pfun} &=& \\lambda v:Ind\\ .\\ \\text{person}(v)\\\\\n",
      "\\text{prev.prev.prev.prev.prev.prev.prev.prev.seg.cx} &=& 714\\\\\n",
      "\\text{prev.prev.prev.seg.h} &=& 783\\\\\n",
      "\\text{prev.prev.prev.seg.cy} &=& 687\\\\\n",
      "\\text{prev.prev.seg.h} &=& 803\n",
      "\\end{array}\\right]\\end{equation}\n"
     ]
    },
    {
     "data": {
      "text/latex": [
       "\\begin{equation}\\left[\\begin{array}{rcl}\n",
       "\\text{prev.prev.prev.prev.prev.prev.prev.prev.prev.pfun} &=& \\lambda v:Ind\\ .\\ \\text{person}(v)\\\\\n",
       "\\text{prev.seg.w} &=& 187\\\\\n",
       "\\text{prev.prev.prev.prev.prev.prev.prev.seg.h} &=& 381\\\\\n",
       "\\text{seg.w} &=& 71\\\\\n",
       "\\text{prev.seg.h} &=& 423\\\\\n",
       "\\text{prev.prev.prev.prev.prev.prev.prev.prev.prev.seg.h} &=& 809\\\\\n",
       "\\text{prev.prev.prev.prev.prev.prev.prev.prev.seg.w} &=& 706\\\\\n",
       "\\text{prev.prev.prev.prev.prev.prev.prev.seg.cx} &=& 194\\\\\n",
       "\\text{prev.prev.prev.prev.prev.prev.pfun} &=& \\lambda v:Ind\\ .\\ \\text{car}(v)\\\\\n",
       "\\text{prev.prev.prev.prev.prev.prev.seg.cx} &=& 490\\\\\n",
       "\\text{prev.ind} &=& a_{18}\\\\\n",
       "\\text{prev.prev.prev.prev.prev.prev.prev.ind} &=& a_{12}\\\\\n",
       "\\text{prev.prev.prev.prev.prev.seg.cy} &=& 714\\\\\n",
       "\\text{prev.prev.prev.prev.prev.prev.prev.prev.prev.seg.cx} &=& 138\\\\\n",
       "\\text{prev.seg.cy} &=& 588\\\\\n",
       "\\text{prev.prev.prev.prev.prev.prev.prev.prev.seg.h} &=& 796\\\\\n",
       "\\text{prev.prev.prev.prev.prev.pfun} &=& \\lambda v:Ind\\ .\\ \\text{dog}(v)\\\\\n",
       "\\text{prev.prev.prev.prev.prev.prev.seg.w} &=& 774\\\\\n",
       "\\text{prev.prev.prev.prev.prev.ind} &=& a_{14}\\\\\n",
       "\\text{prev.prev.seg.cy} &=& 677\\\\\n",
       "\\text{prev.prev.ind} &=& a_{17}\\\\\n",
       "\\text{prev.prev.prev.prev.seg.w} &=& 219\\\\\n",
       "\\text{prev.prev.prev.prev.ind} &=& a_{15}\\\\\n",
       "\\text{prev.prev.prev.prev.prev.prev.prev.prev.seg.cy} &=& 657\\\\\n",
       "\\text{prev.prev.prev.seg.w} &=& 778\\\\\n",
       "\\text{prev.prev.seg.cx} &=& 486\\\\\n",
       "\\text{prev.prev.prev.prev.prev.prev.seg.cy} &=& 589\\\\\n",
       "\\text{prev.seg.cx} &=& 93\\\\\n",
       "\\text{prev.prev.prev.prev.prev.prev.prev.prev.ind} &=& a_{11}\\\\\n",
       "\\text{prev.prev.prev.prev.pfun} &=& \\lambda v:Ind\\ .\\ \\text{chair}(v)\\\\\n",
       "\\text{prev.prev.prev.prev.prev.prev.prev.prev.prev.seg.cy} &=& 654\\\\\n",
       "\\text{seg.cy} &=& 544\\\\\n",
       "\\text{prev.prev.prev.prev.prev.prev.prev.prev.pfun} &=& \\lambda v:Ind\\ .\\ \\text{person}(v)\\\\\n",
       "\\text{prev.prev.prev.prev.seg.cy} &=& 541\\\\\n",
       "\\text{prev.prev.prev.prev.seg.cx} &=& 757\\\\\n",
       "\\text{prev.prev.prev.prev.prev.prev.ind} &=& a_{13}\\\\\n",
       "\\text{prev.prev.prev.prev.prev.prev.prev.seg.cy} &=& 888\\\\\n",
       "\\text{prev.prev.prev.prev.prev.prev.prev.prev.prev.seg.w} &=& 276\\\\\n",
       "\\text{prev.prev.prev.prev.prev.seg.cx} &=& 704\\\\\n",
       "\\text{prev.prev.prev.prev.prev.prev.seg.h} &=& 979\\\\\n",
       "\\text{prev.prev.pfun} &=& \\lambda v:Ind\\ .\\ \\text{sofa}(v)\\\\\n",
       "\\text{prev.prev.prev.prev.prev.prev.prev.prev.prev.ind} &=& a_{10}\\\\\n",
       "\\text{prev.prev.prev.pfun} &=& \\lambda v:Ind\\ .\\ \\text{chair}(v)\\\\\n",
       "\\text{pfun} &=& \\lambda v:Ind\\ .\\ \\text{clock}(v)\\\\\n",
       "\\text{prev.prev.prev.prev.prev.seg.h} &=& 718\\\\\n",
       "\\text{prev.prev.prev.ind} &=& a_{16}\\\\\n",
       "\\text{prev.prev.prev.prev.seg.h} &=& 210\\\\\n",
       "\\text{prev.prev.prev.prev.prev.seg.w} &=& 687\\\\\n",
       "\\text{ind} &=& a_{19}\\\\\n",
       "\\text{seg.h} &=& 107\\\\\n",
       "\\text{prev.prev.prev.prev.prev.prev.prev.seg.w} &=& 380\\\\\n",
       "\\text{prev.prev.seg.w} &=& 957\\\\\n",
       "\\text{prev.prev.prev.seg.cx} &=& 547\\\\\n",
       "\\text{prev.pfun} &=& \\lambda v:Ind\\ .\\ \\text{cell_phone}(v)\\\\\n",
       "\\text{seg.cx} &=& 44\\\\\n",
       "\\text{prev.prev.prev.prev.prev.prev.prev.pfun} &=& \\lambda v:Ind\\ .\\ \\text{person}(v)\\\\\n",
       "\\text{prev.prev.prev.prev.prev.prev.prev.prev.seg.cx} &=& 714\\\\\n",
       "\\text{prev.prev.prev.seg.h} &=& 783\\\\\n",
       "\\text{prev.prev.prev.seg.cy} &=& 687\\\\\n",
       "\\text{prev.prev.seg.h} &=& 803\n",
       "\\end{array}\\right]\\end{equation}"
      ],
      "text/plain": [
       "<IPython.core.display.Latex object>"
      ]
     },
     "execution_count": 30,
     "metadata": {},
     "output_type": "execute_result"
    }
   ],
   "source": [
    "def rec_merge(r, t):\n",
    "    return Rec(dict(i for i in list(t.__dict__.items()) + list(r.__dict__.items())))\n",
    "def combine_prev_rec(*rs):\n",
    "    return reduce(lambda r1, r2: rec_merge(Rec({'prev': r1}), r2) if r2 else r1, rs)\n",
    "\n",
    "combflat_rec = combine_prev_rec(*ind_detections).flatten()\n",
    "latex(combflat_rec)"
   ]
  },
  {
   "cell_type": "markdown",
   "metadata": {},
   "source": [
    "## Spatial relations"
   ]
  },
  {
   "cell_type": "code",
   "execution_count": 10,
   "metadata": {},
   "outputs": [
    {
     "name": "stdout",
     "output_type": "stream",
     "text": [
      "left(a, b)\n",
      "True\n",
      "False\n"
     ]
    }
   ],
   "source": [
    "# An index of IndDetection by Ind.\n",
    "ind_dets = dict((r.ind, r) for r in ind_detections)\n",
    "\n",
    "Left = mkptype('left', [Ind, Ind], ['a', 'b'])\n",
    "Left.learn_witness_condition(lambda ab: ind_dets[ab[0]].seg.cx < ind_dets[ab[1]].seg.cx)\n",
    "print(show(Left))\n",
    "\n",
    "print(Left.query((ind_detections[0].ind, ind_detections[1].ind)))\n",
    "print(Left.query((ind_detections[1].ind, ind_detections[2].ind)))"
   ]
  },
  {
   "cell_type": "markdown",
   "metadata": {},
   "source": [
    "## Text parsing"
   ]
  },
  {
   "cell_type": "code",
   "execution_count": 17,
   "metadata": {},
   "outputs": [
    {
     "name": "stdout",
     "output_type": "stream",
     "text": [
      "A dog is to the left of a car\n",
      "\\begin{equation}\\left[\\begin{array}{rcl}\n",
      "\\text{c}_\\text{dog} &:& \\langle \\lambda v:Ind\\ .\\ \\text{dog}(v), [a_1]\\rangle\\\\\n",
      "\\text{c}_\\text{car} &:& \\langle \\lambda v:Ind\\ .\\ \\text{car}(v), [a_2]\\rangle\\\\\n",
      "\\text{a}_\\text{1} &:& Ind\\\\\n",
      "\\text{c}_\\text{left} &:& \\langle \\lambda a:Ind\\ .\\ \\lambda b:Ind\\ .\\ \\text{left}(a, b), [a_1, a_2]\\rangle\\\\\n",
      "\\text{a}_\\text{2} &:& Ind\n",
      "\\end{array}\\right]\\end{equation}\n"
     ]
    },
    {
     "data": {
      "text/latex": [
       "\\begin{equation}\\left[\\begin{array}{rcl}\n",
       "\\text{c}_\\text{dog} &:& \\langle \\lambda v:Ind\\ .\\ \\text{dog}(v), [a_1]\\rangle\\\\\n",
       "\\text{c}_\\text{car} &:& \\langle \\lambda v:Ind\\ .\\ \\text{car}(v), [a_2]\\rangle\\\\\n",
       "\\text{a}_\\text{1} &:& Ind\\\\\n",
       "\\text{c}_\\text{left} &:& \\langle \\lambda a:Ind\\ .\\ \\lambda b:Ind\\ .\\ \\text{left}(a, b), [a_1, a_2]\\rangle\\\\\n",
       "\\text{a}_\\text{2} &:& Ind\n",
       "\\end{array}\\right]\\end{equation}"
      ],
      "text/plain": [
       "<IPython.core.display.Latex object>"
      ]
     },
     "execution_count": 17,
     "metadata": {},
     "output_type": "execute_result"
    }
   ],
   "source": [
    "def create_abc(prop_a, prop_b, rel):\n",
    "    '''Creates a record type describing two individuals and a relation between them.'''\n",
    "    return RecType({\n",
    "        'a_1': Ind,\n",
    "        'a_2': Ind,\n",
    "        'c_{' + prop_a + '}': (Fun('v', Ind, mkptype(prop_a)), ['a_1']),\n",
    "        'c_{' + prop_b + '}': (Fun('v', Ind, mkptype(prop_b)), ['a_2']),\n",
    "        'c_{' + rel + '}': (Fun('a', Ind, Fun('b', Ind, mkptype(rel, [Ind, Ind], ['a', 'b']))), ['a_1', 'a_2'])\n",
    "    })\n",
    "\n",
    "print(\"A dog is to the left of a car\")\n",
    "question = create_abc('dog', 'car', 'left')\n",
    "latex(question)"
   ]
  },
  {
   "cell_type": "code",
   "execution_count": 18,
   "metadata": {},
   "outputs": [
    {
     "name": "stdout",
     "output_type": "stream",
     "text": [
      "{c_{dog} : (lambda v:Ind . dog(v), [a_1]), c_{car} : (lambda v:Ind . car(v), [a_2]), a_1 : Ind, c_{left} : (lambda a:Ind . lambda b:Ind . left(a, b), [a_1, a_2]), a_2 : Ind}\n"
     ]
    },
    {
     "data": {
      "text/latex": [
       "\\begin{equation}\\left[\\begin{array}{rcl}\n",
       "\\text{c}_\\text{dog} &:& \\langle \\lambda v:Ind\\ .\\ \\text{dog}(v), [a_1]\\rangle\\\\\n",
       "\\text{c}_\\text{car} &:& \\langle \\lambda v:Ind\\ .\\ \\text{car}(v), [a_2]\\rangle\\\\\n",
       "\\text{a}_\\text{1} &:& Ind\\\\\n",
       "\\text{c}_\\text{left} &:& \\langle \\lambda a:Ind\\ .\\ \\lambda b:Ind\\ .\\ \\text{left}(a, b), [a_1, a_2]\\rangle\\\\\n",
       "\\text{a}_\\text{2} &:& Ind\n",
       "\\end{array}\\right]\\end{equation}"
      ],
      "text/plain": [
       "<IPython.core.display.Latex object>"
      ]
     },
     "execution_count": 18,
     "metadata": {},
     "output_type": "execute_result"
    }
   ],
   "source": [
    "import nltk\n",
    "\n",
    "grammar = nltk.grammar.FeatureGrammar.fromstring('''\n",
    "%start S\n",
    "S[SEM=(?a, ?b, ?prep)] -> NP[SEM=?a] 'is' Prep[SEM=?prep] NP[SEM=?b]\n",
    "NP[DEF=?def, SEM=?n] -> Det[DEF=?def] N[SEM=?n]\n",
    "N[SEM=<dog>] -> 'dog'\n",
    "N[SEM=<car>] -> 'car'\n",
    "N[SEM=<person>] -> 'person'\n",
    "N[SEM=<chair>] -> 'chair'\n",
    "Det -> 'a' | 'an'\n",
    "Prep[SEM=<left>] -> 'to' 'the' 'left' 'of'\n",
    "Prep[SEM=<right>] -> 'to' 'the' 'right' 'of'\n",
    "Prep[SEM=<above>] -> 'above'\n",
    "Prep[SEM=<under>] -> 'under'\n",
    "''')\n",
    "parser = nltk.FeatureChartParser(grammar)\n",
    "\n",
    "texts = [\n",
    "    'A dog is to the left of a car',\n",
    "#     'There is a dog to the left of a car',\n",
    "#     'Is the dog to the left of the car',\n",
    "#     'Is there a dog to the left of the car',\n",
    "]\n",
    "\n",
    "def parse_abc(text):\n",
    "    trees = parser.parse(text.lower().split())\n",
    "    tree = list(trees)[0]\n",
    "    sem = nltk.sem.root_semrep(tree)\n",
    "    return create_abc(*(str(s) for s in sem))\n",
    "\n",
    "for text in texts:\n",
    "    r = parse_abc(text)\n",
    "    print(show(r))\n",
    "\n",
    "Latex(to_ipython_latex(r))"
   ]
  },
  {
   "cell_type": "code",
   "execution_count": 19,
   "metadata": {},
   "outputs": [
    {
     "data": {
      "text/latex": [
       "\\begin{equation}\\left[\\begin{array}{rcl}\n",
       "\\text{c}_\\text{dog} &:& \\langle \\lambda v:Ind\\ .\\ \\text{dog}(v), [a_{dog}]\\rangle\\\\\n",
       "\\text{c}_\\text{car} &:& \\langle \\lambda v:Ind\\ .\\ \\text{car}(v), [a_2]\\rangle\\\\\n",
       "\\text{c}_\\text{left} &:& \\langle \\lambda a:Ind\\ .\\ \\lambda b:Ind\\ .\\ \\text{left}(a, b), [a_{dog}, a_2]\\rangle\\\\\n",
       "\\text{a}_\\text{dog} &:& Ind\\\\\n",
       "\\text{a}_\\text{2} &:& Ind\n",
       "\\end{array}\\right]\\end{equation}"
      ],
      "text/plain": [
       "<IPython.core.display.Latex object>"
      ]
     },
     "execution_count": 19,
     "metadata": {},
     "output_type": "execute_result"
    }
   ],
   "source": [
    "# Testing Relabel() fix.\n",
    "r.Relabel('a_1', 'a_{dog}')\n",
    "Latex(to_ipython_latex(r))"
   ]
  },
  {
   "cell_type": "code",
   "execution_count": null,
   "metadata": {},
   "outputs": [],
   "source": []
  }
 ],
 "metadata": {
  "kernelspec": {
   "display_name": "Python 3",
   "language": "python",
   "name": "python3"
  },
  "language_info": {
   "codemirror_mode": {
    "name": "ipython",
    "version": 3
   },
   "file_extension": ".py",
   "mimetype": "text/x-python",
   "name": "python",
   "nbconvert_exporter": "python",
   "pygments_lexer": "ipython3",
   "version": "3.5.2"
  }
 },
 "nbformat": 4,
 "nbformat_minor": 2
}

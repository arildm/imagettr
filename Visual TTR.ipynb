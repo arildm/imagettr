{
 "cells": [
  {
   "cell_type": "markdown",
   "metadata": {},
   "source": [
    "# Image recognition with TTR\n"
   ]
  },
  {
   "cell_type": "markdown",
   "metadata": {},
   "source": [
    "## Bridging between perceptual and conceptual domains\n",
    "\n",
    "Let's apply the object detection representation proposed in Dobnik & Cooper's *Interfacing language, spatial perception and cognition in TTR* to image recognition.\n",
    "\n",
    "![Fig 8](fig/lspc-fig8.png)\n",
    "\n",
    "Here, we use `Image` instead of `PointMap` for the whole, but instead of `reg:PointMap` we use yet another type (and rename it), `seg:Segment`. In Cooper's case the same type can be used to represent both the region and the whole, because a `PointMap` is a set of absolute positions. With `Image`, positions are relative to an origin, which needs to be specified when cropping.\n",
    "\n",
    "I guess in the general case, the domain of an `ObjectDetector` function need not be the same as the `reg` fields in the output elements."
   ]
  },
  {
   "cell_type": "code",
   "execution_count": 2,
   "metadata": {},
   "outputs": [
    {
     "name": "stdout",
     "output_type": "stream",
     "text": [
      "True\n",
      "True\n",
      "True\n"
     ]
    },
    {
     "data": {
      "text/plain": [
       "'<PIL.JpegImagePlugin.JpegImageFile image mode=RGB size=1080x1080 at 0x7F0B981042E8>'"
      ]
     },
     "execution_count": 2,
     "metadata": {},
     "output_type": "execute_result"
    }
   ],
   "source": [
    "import sys\n",
    "sys.path.append('pyttr')\n",
    "from pyttr.ttrtypes import *\n",
    "from pyttr.utils import *\n",
    "import PIL.Image\n",
    "\n",
    "ttrace()\n",
    "\n",
    "# Basic types.\n",
    "\n",
    "Ind = BType('Ind')\n",
    "\n",
    "Int = BType('Int')\n",
    "Int.learn_witness_condition(lambda x: isinstance(x, int))\n",
    "print(Int.query(365))\n",
    "\n",
    "Image = BType('Image')\n",
    "Image.learn_witness_condition(lambda x: isinstance(x, PIL.Image.Image))\n",
    "img = PIL.Image.open('res/dogcar.jpg')\n",
    "print(Image.query(img))\n",
    "\n",
    "# Segment type: a rectangular area of a given image.\n",
    "\n",
    "Segment = RecType({#'i': Image,\n",
    "    'cx': Int, 'cy': Int, 'w': Int, 'h': Int})\n",
    "print(Segment.query(Rec({#'i': img,\n",
    "    'cx': 100, 'cy': 150, 'w': 40, 'h': 20})))\n",
    "\n",
    "# Redefine Image.show() to work with Rec.show().\n",
    "def image_show(self):\n",
    "    return str(self)\n",
    "PIL.Image.Image.show = image_show\n",
    "show(img)"
   ]
  },
  {
   "cell_type": "code",
   "execution_count": 3,
   "metadata": {},
   "outputs": [],
   "source": [
    "def latex(*objs):\n",
    "    texcode = '\\n\\n'.join(to_ipython_latex(obj) for obj in objs)\n",
    "    print(texcode)\n",
    "    return Latex(texcode)"
   ]
  },
  {
   "cell_type": "code",
   "execution_count": 4,
   "metadata": {},
   "outputs": [
    {
     "name": "stdout",
     "output_type": "stream",
     "text": [
      "\\begin{equation}\\left[\\begin{array}{rcl}\n",
      "\\text{w} &:& Int\\\\\n",
      "\\text{h} &:& Int\\\\\n",
      "\\text{cy} &:& Int\\\\\n",
      "\\text{cx} &:& Int\n",
      "\\end{array}\\right]\\end{equation}\n"
     ]
    },
    {
     "data": {
      "text/latex": [
       "\\begin{equation}\\left[\\begin{array}{rcl}\n",
       "\\text{w} &:& Int\\\\\n",
       "\\text{h} &:& Int\\\\\n",
       "\\text{cy} &:& Int\\\\\n",
       "\\text{cx} &:& Int\n",
       "\\end{array}\\right]\\end{equation}"
      ],
      "text/plain": [
       "<IPython.core.display.Latex object>"
      ]
     },
     "execution_count": 4,
     "metadata": {},
     "output_type": "execute_result"
    }
   ],
   "source": [
    "latex(Segment)"
   ]
  },
  {
   "cell_type": "code",
   "execution_count": 5,
   "metadata": {},
   "outputs": [
    {
     "name": "stdout",
     "output_type": "stream",
     "text": [
      "\\begin{equation}\\left(\\begin{array}{rcl}\n",
      "Ind\\rightarrow Ty\n",
      "\\end{array}\\right)\\end{equation}\n",
      "\n",
      "\\begin{equation}\\left(\\begin{array}{rcl}\n",
      "Image\\rightarrow \\left[\\begin{array}{rcl}\n",
      "\\left[\\begin{array}{rcl}\n",
      "\\text{x} &:& Ind\\\\\n",
      "\\text{pfun} &:& \\left(\\begin{array}{rcl}\n",
      "Ind\\rightarrow Ty\n",
      "\\end{array}\\right)\\\\\n",
      "\\text{seg} &:& \\left[\\begin{array}{rcl}\n",
      "\\text{w} &:& Int\\\\\n",
      "\\text{h} &:& Int\\\\\n",
      "\\text{cy} &:& Int\\\\\n",
      "\\text{cx} &:& Int\n",
      "\\end{array}\\right]\n",
      "\\end{array}\\right]\n",
      "\\end{array}\\right]\n",
      "\\end{array}\\right)\\end{equation}\n"
     ]
    },
    {
     "data": {
      "text/latex": [
       "\\begin{equation}\\left(\\begin{array}{rcl}\n",
       "Ind\\rightarrow Ty\n",
       "\\end{array}\\right)\\end{equation}\n",
       "\n",
       "\\begin{equation}\\left(\\begin{array}{rcl}\n",
       "Image\\rightarrow \\left[\\begin{array}{rcl}\n",
       "\\left[\\begin{array}{rcl}\n",
       "\\text{x} &:& Ind\\\\\n",
       "\\text{pfun} &:& \\left(\\begin{array}{rcl}\n",
       "Ind\\rightarrow Ty\n",
       "\\end{array}\\right)\\\\\n",
       "\\text{seg} &:& \\left[\\begin{array}{rcl}\n",
       "\\text{w} &:& Int\\\\\n",
       "\\text{h} &:& Int\\\\\n",
       "\\text{cy} &:& Int\\\\\n",
       "\\text{cx} &:& Int\n",
       "\\end{array}\\right]\n",
       "\\end{array}\\right]\n",
       "\\end{array}\\right]\n",
       "\\end{array}\\right)\\end{equation}"
      ],
      "text/plain": [
       "<IPython.core.display.Latex object>"
      ]
     },
     "execution_count": 5,
     "metadata": {},
     "output_type": "execute_result"
    }
   ],
   "source": [
    "Ppty = FunType(Ind, Ty)\n",
    "ImageDetection = RecType({'x': Ind, 'seg': Segment, 'pfun': Ppty})\n",
    "ImageDetections = ListType(ImageDetection)\n",
    "ObjectDetector = FunType(Image, ImageDetections)\n",
    "\n",
    "latex(Ppty, ObjectDetector)"
   ]
  },
  {
   "cell_type": "markdown",
   "metadata": {},
   "source": [
    "## Object detection model YOLO\n",
    "\n",
    "Requires OpenCV and [Darkflow](https://github.com/thtrieu/darkflow). `yolo.weights` is from [Yolo](https://pjreddie.com/darknet/yolo/)."
   ]
  },
  {
   "cell_type": "code",
   "execution_count": 6,
   "metadata": {
    "scrolled": true
   },
   "outputs": [
    {
     "name": "stdout",
     "output_type": "stream",
     "text": [
      "Parsing yolo/yolo.cfg\n",
      "Loading yolo/yolo.weights ...\n",
      "Successfully identified 203934260 bytes\n",
      "Finished in 0.040488481521606445s\n",
      "Model has a coco model name, loading coco labels.\n",
      "\n",
      "Building net ...\n",
      "Source | Train? | Layer description                | Output size\n",
      "-------+--------+----------------------------------+---------------\n",
      "       |        | input                            | (?, 608, 608, 3)\n",
      " Load  |  Yep!  | conv 3x3p1_1  +bnorm  leaky      | (?, 608, 608, 32)\n",
      " Load  |  Yep!  | maxp 2x2p0_2                     | (?, 304, 304, 32)\n",
      " Load  |  Yep!  | conv 3x3p1_1  +bnorm  leaky      | (?, 304, 304, 64)\n",
      " Load  |  Yep!  | maxp 2x2p0_2                     | (?, 152, 152, 64)\n",
      " Load  |  Yep!  | conv 3x3p1_1  +bnorm  leaky      | (?, 152, 152, 128)\n",
      " Load  |  Yep!  | conv 1x1p0_1  +bnorm  leaky      | (?, 152, 152, 64)\n",
      " Load  |  Yep!  | conv 3x3p1_1  +bnorm  leaky      | (?, 152, 152, 128)\n",
      " Load  |  Yep!  | maxp 2x2p0_2                     | (?, 76, 76, 128)\n",
      " Load  |  Yep!  | conv 3x3p1_1  +bnorm  leaky      | (?, 76, 76, 256)\n",
      " Load  |  Yep!  | conv 1x1p0_1  +bnorm  leaky      | (?, 76, 76, 128)\n",
      " Load  |  Yep!  | conv 3x3p1_1  +bnorm  leaky      | (?, 76, 76, 256)\n",
      " Load  |  Yep!  | maxp 2x2p0_2                     | (?, 38, 38, 256)\n",
      " Load  |  Yep!  | conv 3x3p1_1  +bnorm  leaky      | (?, 38, 38, 512)\n",
      " Load  |  Yep!  | conv 1x1p0_1  +bnorm  leaky      | (?, 38, 38, 256)\n",
      " Load  |  Yep!  | conv 3x3p1_1  +bnorm  leaky      | (?, 38, 38, 512)\n",
      " Load  |  Yep!  | conv 1x1p0_1  +bnorm  leaky      | (?, 38, 38, 256)\n",
      " Load  |  Yep!  | conv 3x3p1_1  +bnorm  leaky      | (?, 38, 38, 512)\n",
      " Load  |  Yep!  | maxp 2x2p0_2                     | (?, 19, 19, 512)\n",
      " Load  |  Yep!  | conv 3x3p1_1  +bnorm  leaky      | (?, 19, 19, 1024)\n",
      " Load  |  Yep!  | conv 1x1p0_1  +bnorm  leaky      | (?, 19, 19, 512)\n",
      " Load  |  Yep!  | conv 3x3p1_1  +bnorm  leaky      | (?, 19, 19, 1024)\n",
      " Load  |  Yep!  | conv 1x1p0_1  +bnorm  leaky      | (?, 19, 19, 512)\n",
      " Load  |  Yep!  | conv 3x3p1_1  +bnorm  leaky      | (?, 19, 19, 1024)\n",
      " Load  |  Yep!  | conv 3x3p1_1  +bnorm  leaky      | (?, 19, 19, 1024)\n",
      " Load  |  Yep!  | conv 3x3p1_1  +bnorm  leaky      | (?, 19, 19, 1024)\n",
      " Load  |  Yep!  | concat [16]                      | (?, 38, 38, 512)\n",
      " Load  |  Yep!  | conv 1x1p0_1  +bnorm  leaky      | (?, 38, 38, 64)\n",
      " Load  |  Yep!  | local flatten 2x2                | (?, 19, 19, 256)\n",
      " Load  |  Yep!  | concat [27, 24]                  | (?, 19, 19, 1280)\n",
      " Load  |  Yep!  | conv 3x3p1_1  +bnorm  leaky      | (?, 19, 19, 1024)\n",
      " Load  |  Yep!  | conv 1x1p0_1    linear           | (?, 19, 19, 425)\n",
      "-------+--------+----------------------------------+---------------\n",
      "Running entirely on CPU\n",
      "Finished in 6.892631769180298s\n",
      "\n"
     ]
    }
   ],
   "source": [
    "from darkflow.net.build import TFNet\n",
    "import numpy as np\n",
    "\n",
    "tfnet = TFNet({\"model\": \"yolo/yolo.cfg\", \"load\": \"yolo/yolo.weights\",\n",
    "    'config': 'yolo', \"threshold\": 0.1})\n",
    "yolo_out = dict()\n",
    "def yolo(img):\n",
    "    if str(img) not in yolo_out:\n",
    "        yolo_out[str(img)] = tfnet.return_predict(np.array(img))\n",
    "    return yolo_out[str(img)]"
   ]
  },
  {
   "cell_type": "code",
   "execution_count": 7,
   "metadata": {},
   "outputs": [
    {
     "name": "stdout",
     "output_type": "stream",
     "text": [
      "True\n"
     ]
    }
   ],
   "source": [
    "# Make preds and ptypes identifiable by their predicate names.\n",
    "# From now on, use mktype().\n",
    "ptypes = dict()\n",
    "def mkptype(sym, types=[Ind], vars=['v']):\n",
    "    id = '/'.join([sym, ','.join(show(type) for type in types), ','.join(vars)])\n",
    "    if id not in ptypes:\n",
    "        ptypes[id] = PType(Pred(sym, types), vars)\n",
    "    return ptypes[id]\n",
    "\n",
    "print(show(mkptype('rabbit') is mkptype('rabbit')))"
   ]
  },
  {
   "cell_type": "code",
   "execution_count": 8,
   "metadata": {},
   "outputs": [],
   "source": [
    "def xy1xy2_to_cwh(x1, y1, x2, y2):\n",
    "    '''Transform to center, width and height.'''\n",
    "    return {'cx': int(x1/2 + x2/2), 'cy': int(y1/2 + y2/2), 'w': x2 - x1, 'h': y2 - y1}"
   ]
  },
  {
   "cell_type": "code",
   "execution_count": 12,
   "metadata": {},
   "outputs": [
    {
     "name": "stdout",
     "output_type": "stream",
     "text": [
      "True\n",
      "True\n",
      "True\n",
      "True\n",
      "\\begin{equation}\\left[\\begin{array}{rcl}\n",
      "\\text{seg} &=& \\left[\\begin{array}{rcl}\n",
      "\\text{h} &=& 107\\\\\n",
      "\\text{w} &=& 71\\\\\n",
      "\\text{cy} &=& 544\\\\\n",
      "\\text{cx} &=& 44\n",
      "\\end{array}\\right]\\\\\n",
      "\\text{x} &=& a_{19}\\\\\n",
      "\\text{pfun} &=& \\lambda v:Ind\\ .\\ \\text{clock}(v)\n",
      "\\end{array}\\right]\\end{equation}\n"
     ]
    },
    {
     "data": {
      "text/latex": [
       "\\begin{equation}\\left[\\begin{array}{rcl}\n",
       "\\text{seg} &=& \\left[\\begin{array}{rcl}\n",
       "\\text{h} &=& 107\\\\\n",
       "\\text{w} &=& 71\\\\\n",
       "\\text{cy} &=& 544\\\\\n",
       "\\text{cx} &=& 44\n",
       "\\end{array}\\right]\\\\\n",
       "\\text{x} &=& a_{19}\\\\\n",
       "\\text{pfun} &=& \\lambda v:Ind\\ .\\ \\text{clock}(v)\n",
       "\\end{array}\\right]\\end{equation}"
      ],
      "text/plain": [
       "<IPython.core.display.Latex object>"
      ]
     },
     "execution_count": 12,
     "metadata": {},
     "output_type": "execute_result"
    }
   ],
   "source": [
    "def yolo_detector(i):\n",
    "    return [Rec({\n",
    "        'x': Ind.create(),\n",
    "        'seg': Rec({\n",
    "            #'i': i,\n",
    "            **xy1xy2_to_cwh(o['topleft']['x'], o['topleft']['y'], o['bottomright']['x'], o['bottomright']['y']),\n",
    "        }),\n",
    "        'pfun': Fun('v', Ind, mkptype(o['label'].replace(' ', '_'))),\n",
    "    }) for o in yolo(i)] # @todo RBG/BGR?\n",
    "\n",
    "image_detections = yolo_detector(img)\n",
    "\n",
    "print(ImageDetections.query(image_detections))\n",
    "print(ImageDetection.query(image_detections[0]))\n",
    "print(Ppty.query(image_detections[0].pfun))\n",
    "print(Segment.query(image_detections[0].seg))\n",
    "\n",
    "latex(image_detections[-1])"
   ]
  },
  {
   "cell_type": "code",
   "execution_count": 118,
   "metadata": {},
   "outputs": [
    {
     "name": "stdout",
     "output_type": "stream",
     "text": [
      "\\begin{equation}[ \\left[\\begin{array}{rcl}\n",
      "\\text{c} &:& \\text{person}(x)\\\\\n",
      "\\text{x} &:& Ind_{a_{10}}\n",
      "\\end{array}\\right], \\left[\\begin{array}{rcl}\n",
      "\\text{c} &:& \\text{person}(x)\\\\\n",
      "\\text{x} &:& Ind_{a_{11}}\n",
      "\\end{array}\\right], \\left[\\begin{array}{rcl}\n",
      "\\text{c} &:& \\text{person}(x)\\\\\n",
      "\\text{x} &:& Ind_{a_{12}}\n",
      "\\end{array}\\right], \\left[\\begin{array}{rcl}\n",
      "\\text{c} &:& \\text{car}(x)\\\\\n",
      "\\text{x} &:& Ind_{a_{13}}\n",
      "\\end{array}\\right], \\left[\\begin{array}{rcl}\n",
      "\\text{c} &:& \\text{dog}(x)\\\\\n",
      "\\text{x} &:& Ind_{a_{14}}\n",
      "\\end{array}\\right], \\left[\\begin{array}{rcl}\n",
      "\\text{c} &:& \\text{chair}(x)\\\\\n",
      "\\text{x} &:& Ind_{a_{15}}\n",
      "\\end{array}\\right], \\left[\\begin{array}{rcl}\n",
      "\\text{c} &:& \\text{chair}(x)\\\\\n",
      "\\text{x} &:& Ind_{a_{16}}\n",
      "\\end{array}\\right], \\left[\\begin{array}{rcl}\n",
      "\\text{c} &:& \\text{sofa}(x)\\\\\n",
      "\\text{x} &:& Ind_{a_{17}}\n",
      "\\end{array}\\right], \\left[\\begin{array}{rcl}\n",
      "\\text{c} &:& \\text{cell_phone}(x)\\\\\n",
      "\\text{x} &:& Ind_{a_{18}}\n",
      "\\end{array}\\right], \\left[\\begin{array}{rcl}\n",
      "\\text{c} &:& \\text{clock}(x)\\\\\n",
      "\\text{x} &:& Ind_{a_{19}}\n",
      "\\end{array}\\right]]\\end{equation}\n"
     ]
    },
    {
     "data": {
      "text/latex": [
       "\\begin{equation}[ \\left[\\begin{array}{rcl}\n",
       "\\text{c} &:& \\text{person}(x)\\\\\n",
       "\\text{x} &:& Ind_{a_{10}}\n",
       "\\end{array}\\right], \\left[\\begin{array}{rcl}\n",
       "\\text{c} &:& \\text{person}(x)\\\\\n",
       "\\text{x} &:& Ind_{a_{11}}\n",
       "\\end{array}\\right], \\left[\\begin{array}{rcl}\n",
       "\\text{c} &:& \\text{person}(x)\\\\\n",
       "\\text{x} &:& Ind_{a_{12}}\n",
       "\\end{array}\\right], \\left[\\begin{array}{rcl}\n",
       "\\text{c} &:& \\text{car}(x)\\\\\n",
       "\\text{x} &:& Ind_{a_{13}}\n",
       "\\end{array}\\right], \\left[\\begin{array}{rcl}\n",
       "\\text{c} &:& \\text{dog}(x)\\\\\n",
       "\\text{x} &:& Ind_{a_{14}}\n",
       "\\end{array}\\right], \\left[\\begin{array}{rcl}\n",
       "\\text{c} &:& \\text{chair}(x)\\\\\n",
       "\\text{x} &:& Ind_{a_{15}}\n",
       "\\end{array}\\right], \\left[\\begin{array}{rcl}\n",
       "\\text{c} &:& \\text{chair}(x)\\\\\n",
       "\\text{x} &:& Ind_{a_{16}}\n",
       "\\end{array}\\right], \\left[\\begin{array}{rcl}\n",
       "\\text{c} &:& \\text{sofa}(x)\\\\\n",
       "\\text{x} &:& Ind_{a_{17}}\n",
       "\\end{array}\\right], \\left[\\begin{array}{rcl}\n",
       "\\text{c} &:& \\text{cell_phone}(x)\\\\\n",
       "\\text{x} &:& Ind_{a_{18}}\n",
       "\\end{array}\\right], \\left[\\begin{array}{rcl}\n",
       "\\text{c} &:& \\text{clock}(x)\\\\\n",
       "\\text{x} &:& Ind_{a_{19}}\n",
       "\\end{array}\\right]]\\end{equation}"
      ],
      "text/plain": [
       "<IPython.core.display.Latex object>"
      ]
     },
     "execution_count": 118,
     "metadata": {},
     "output_type": "execute_result"
    }
   ],
   "source": [
    "def sit_prop(r):\n",
    "    return RecType({\n",
    "        'x': SingletonType(Ind, r.x),\n",
    "        'c': r.pfun.app('x'),\n",
    "    })\n",
    "latex(list(sit_prop(r) for r in image_detections))"
   ]
  },
  {
   "cell_type": "code",
   "execution_count": 55,
   "metadata": {},
   "outputs": [
    {
     "name": "stdout",
     "output_type": "stream",
     "text": [
      "\\begin{equation}\\left[\\begin{array}{rcl}\n",
      "\\text{c} &:& \\text{location}(x, \\left[\\begin{array}{rcl}\n",
      "\\text{h} &=& 809\\\\\n",
      "\\text{w} &=& 276\\\\\n",
      "\\text{cy} &=& 654\\\\\n",
      "\\text{cx} &=& 138\n",
      "\\end{array}\\right])\\\\\n",
      "\\text{x} &:& Ind_{a_{10}}\n",
      "\\end{array}\\right]\\end{equation}\n"
     ]
    },
    {
     "data": {
      "text/latex": [
       "\\begin{equation}\\left[\\begin{array}{rcl}\n",
       "\\text{c} &:& \\text{location}(x, \\left[\\begin{array}{rcl}\n",
       "\\text{h} &=& 809\\\\\n",
       "\\text{w} &=& 276\\\\\n",
       "\\text{cy} &=& 654\\\\\n",
       "\\text{cx} &=& 138\n",
       "\\end{array}\\right])\\\\\n",
       "\\text{x} &:& Ind_{a_{10}}\n",
       "\\end{array}\\right]\\end{equation}"
      ],
      "text/plain": [
       "<IPython.core.display.Latex object>"
      ]
     },
     "execution_count": 55,
     "metadata": {},
     "output_type": "execute_result"
    }
   ],
   "source": [
    "Loc = mkptype('location', [Ind, Segment], ['v_1', 'v_2'])\n",
    "LocFun = Fun('v_1', Ind, Fun('v_2', Segment, Loc))\n",
    "\n",
    "def sit_loc(r):\n",
    "    return RecType({\n",
    "        'x': SingletonType(Ind, r.x),\n",
    "        'c': LocFun.app('x').app(r.seg),\n",
    "    })\n",
    "latex(sit_loc(image_detections[0]))"
   ]
  },
  {
   "cell_type": "markdown",
   "metadata": {},
   "source": [
    "## Spatial relations"
   ]
  },
  {
   "cell_type": "code",
   "execution_count": 25,
   "metadata": {},
   "outputs": [
    {
     "name": "stdout",
     "output_type": "stream",
     "text": [
      "left(a, b)\n",
      "True\n",
      "False\n"
     ]
    }
   ],
   "source": [
    "# An index of IndDetection by Ind.\n",
    "ind_dets = dict((r.x, r) for r in image_detections)\n",
    "\n",
    "Left = mkptype('left', [Ind, Ind], ['a', 'b'])\n",
    "Left.learn_witness_condition(lambda ab: ind_dets[ab[0]].seg.cx < ind_dets[ab[1]].seg.cx)\n",
    "print(show(Left))\n",
    "\n",
    "print(Left.query((image_detections[0].x, image_detections[1].x)))\n",
    "print(Left.query((image_detections[1].x, image_detections[2].x)))"
   ]
  },
  {
   "cell_type": "code",
   "execution_count": 59,
   "metadata": {},
   "outputs": [
    {
     "name": "stdout",
     "output_type": "stream",
     "text": [
      "\\begin{equation}[ \\left[\\begin{array}{rcl}\n",
      "\\text{x} &:& Ind_{a_{10}}\\\\\n",
      "\\text{y} &:& Ind_{a_{11}}\\\\\n",
      "\\text{c} &:& \\text{left}(x, y)\n",
      "\\end{array}\\right]]\\end{equation}\n",
      "\n",
      "\\begin{equation}[ ]\\end{equation}\n"
     ]
    },
    {
     "data": {
      "text/latex": [
       "\\begin{equation}[ \\left[\\begin{array}{rcl}\n",
       "\\text{x} &:& Ind_{a_{10}}\\\\\n",
       "\\text{y} &:& Ind_{a_{11}}\\\\\n",
       "\\text{c} &:& \\text{left}(x, y)\n",
       "\\end{array}\\right]]\\end{equation}\n",
       "\n",
       "\\begin{equation}[ ]\\end{equation}"
      ],
      "text/plain": [
       "<IPython.core.display.Latex object>"
      ]
     },
     "execution_count": 59,
     "metadata": {},
     "output_type": "execute_result"
    }
   ],
   "source": [
    "Rels = [Left]\n",
    "\n",
    "def sit_rel(r, s):\n",
    "    for Rel in Rels:\n",
    "        if Rel.query((r.x, s.x)):\n",
    "            RelFun = Fun('a', Ind, Fun('b', Ind, Rel))\n",
    "            yield RecType({\n",
    "                'x': SingletonType(Ind, r.x),\n",
    "                'y': SingletonType(Ind, s.x),\n",
    "                'c': RelFun.app('x').app('y'),\n",
    "            })\n",
    "        \n",
    "latex(list(sit_rel(image_detections[0], image_detections[1])),\n",
    "      list(sit_rel(image_detections[1], image_detections[0])))"
   ]
  },
  {
   "cell_type": "markdown",
   "metadata": {},
   "source": [
    "## Combining commitments"
   ]
  },
  {
   "cell_type": "code",
   "execution_count": 36,
   "metadata": {},
   "outputs": [
    {
     "name": "stdout",
     "output_type": "stream",
     "text": [
      "\\begin{equation}\\left[\\begin{array}{rcl}\n",
      "\\text{prev} &:& \\left[\\begin{array}{rcl}\n",
      "\\text{a} &:& A\n",
      "\\end{array}\\right]\\\\\n",
      "\\text{b} &:& B\n",
      "\\end{array}\\right]\\end{equation}\n"
     ]
    },
    {
     "data": {
      "text/latex": [
       "\\begin{equation}\\left[\\begin{array}{rcl}\n",
       "\\text{prev} &:& \\left[\\begin{array}{rcl}\n",
       "\\text{a} &:& A\n",
       "\\end{array}\\right]\\\\\n",
       "\\text{b} &:& B\n",
       "\\end{array}\\right]\\end{equation}"
      ],
      "text/plain": [
       "<IPython.core.display.Latex object>"
      ]
     },
     "execution_count": 36,
     "metadata": {},
     "output_type": "execute_result"
    }
   ],
   "source": [
    "from functools import reduce\n",
    "def combine_prev(*ts):\n",
    "    return reduce(lambda t1, t2: RecType({'prev': t1}).merge(t2) if t2 else t1, ts)\n",
    "latex(combine_prev(RecType({'a': 'A'}), RecType({'b': 'B'})))"
   ]
  },
  {
   "cell_type": "code",
   "execution_count": 119,
   "metadata": {},
   "outputs": [
    {
     "name": "stdout",
     "output_type": "stream",
     "text": [
      "\\begin{equation}\\left[\\begin{array}{rcl}\n",
      "\\text{prev} &:& \\left[\\begin{array}{rcl}\n",
      "\\text{prev} &:& \\left[\\begin{array}{rcl}\n",
      "\\text{prev} &:& \\left[\\begin{array}{rcl}\n",
      "\\text{prev} &:& \\left[\\begin{array}{rcl}\n",
      "\\text{prev} &:& \\left[\\begin{array}{rcl}\n",
      "\\text{prev} &:& \\left[\\begin{array}{rcl}\n",
      "\\text{prev} &:& \\left[\\begin{array}{rcl}\n",
      "\\text{prev} &:& \\left[\\begin{array}{rcl}\n",
      "\\text{c} &:& \\text{person}(x)\\\\\n",
      "\\text{x} &:& Ind_{a_{12}}\n",
      "\\end{array}\\right]\\\\\n",
      "\\text{c} &:& \\text{car}(x)\\\\\n",
      "\\text{x} &:& Ind_{a_{13}}\n",
      "\\end{array}\\right]\\\\\n",
      "\\text{c} &:& \\text{dog}(x)\\\\\n",
      "\\text{x} &:& Ind_{a_{14}}\n",
      "\\end{array}\\right]\\\\\n",
      "\\text{c} &:& \\text{location}(x, \\left[\\begin{array}{rcl}\n",
      "\\text{h} &=& 381\\\\\n",
      "\\text{w} &=& 380\\\\\n",
      "\\text{cy} &=& 888\\\\\n",
      "\\text{cx} &=& 194\n",
      "\\end{array}\\right])\\\\\n",
      "\\text{x} &:& Ind_{a_{12}}\n",
      "\\end{array}\\right]\\\\\n",
      "\\text{c} &:& \\text{location}(x, \\left[\\begin{array}{rcl}\n",
      "\\text{h} &=& 979\\\\\n",
      "\\text{w} &=& 774\\\\\n",
      "\\text{cy} &=& 589\\\\\n",
      "\\text{cx} &=& 490\n",
      "\\end{array}\\right])\\\\\n",
      "\\text{x} &:& Ind_{a_{13}}\n",
      "\\end{array}\\right]\\\\\n",
      "\\text{c} &:& \\text{location}(x, \\left[\\begin{array}{rcl}\n",
      "\\text{h} &=& 718\\\\\n",
      "\\text{w} &=& 687\\\\\n",
      "\\text{cy} &=& 714\\\\\n",
      "\\text{cx} &=& 704\n",
      "\\end{array}\\right])\\\\\n",
      "\\text{x} &:& Ind_{a_{14}}\n",
      "\\end{array}\\right]\\\\\n",
      "\\text{y} &:& Ind_{a_{13}}\\\\\n",
      "\\text{x} &:& Ind_{a_{12}}\\\\\n",
      "\\text{c} &:& \\text{left}(x, y)\n",
      "\\end{array}\\right]\\\\\n",
      "\\text{y} &:& Ind_{a_{14}}\\\\\n",
      "\\text{x} &:& Ind_{a_{12}}\\\\\n",
      "\\text{c} &:& \\text{left}(x, y)\n",
      "\\end{array}\\right]\\\\\n",
      "\\text{y} &:& Ind_{a_{14}}\\\\\n",
      "\\text{x} &:& Ind_{a_{13}}\\\\\n",
      "\\text{c} &:& \\text{left}(x, y)\n",
      "\\end{array}\\right]\\end{equation}\n"
     ]
    },
    {
     "data": {
      "text/latex": [
       "\\begin{equation}\\left[\\begin{array}{rcl}\n",
       "\\text{prev} &:& \\left[\\begin{array}{rcl}\n",
       "\\text{prev} &:& \\left[\\begin{array}{rcl}\n",
       "\\text{prev} &:& \\left[\\begin{array}{rcl}\n",
       "\\text{prev} &:& \\left[\\begin{array}{rcl}\n",
       "\\text{prev} &:& \\left[\\begin{array}{rcl}\n",
       "\\text{prev} &:& \\left[\\begin{array}{rcl}\n",
       "\\text{prev} &:& \\left[\\begin{array}{rcl}\n",
       "\\text{prev} &:& \\left[\\begin{array}{rcl}\n",
       "\\text{c} &:& \\text{person}(x)\\\\\n",
       "\\text{x} &:& Ind_{a_{12}}\n",
       "\\end{array}\\right]\\\\\n",
       "\\text{c} &:& \\text{car}(x)\\\\\n",
       "\\text{x} &:& Ind_{a_{13}}\n",
       "\\end{array}\\right]\\\\\n",
       "\\text{c} &:& \\text{dog}(x)\\\\\n",
       "\\text{x} &:& Ind_{a_{14}}\n",
       "\\end{array}\\right]\\\\\n",
       "\\text{c} &:& \\text{location}(x, \\left[\\begin{array}{rcl}\n",
       "\\text{h} &=& 381\\\\\n",
       "\\text{w} &=& 380\\\\\n",
       "\\text{cy} &=& 888\\\\\n",
       "\\text{cx} &=& 194\n",
       "\\end{array}\\right])\\\\\n",
       "\\text{x} &:& Ind_{a_{12}}\n",
       "\\end{array}\\right]\\\\\n",
       "\\text{c} &:& \\text{location}(x, \\left[\\begin{array}{rcl}\n",
       "\\text{h} &=& 979\\\\\n",
       "\\text{w} &=& 774\\\\\n",
       "\\text{cy} &=& 589\\\\\n",
       "\\text{cx} &=& 490\n",
       "\\end{array}\\right])\\\\\n",
       "\\text{x} &:& Ind_{a_{13}}\n",
       "\\end{array}\\right]\\\\\n",
       "\\text{c} &:& \\text{location}(x, \\left[\\begin{array}{rcl}\n",
       "\\text{h} &=& 718\\\\\n",
       "\\text{w} &=& 687\\\\\n",
       "\\text{cy} &=& 714\\\\\n",
       "\\text{cx} &=& 704\n",
       "\\end{array}\\right])\\\\\n",
       "\\text{x} &:& Ind_{a_{14}}\n",
       "\\end{array}\\right]\\\\\n",
       "\\text{y} &:& Ind_{a_{13}}\\\\\n",
       "\\text{x} &:& Ind_{a_{12}}\\\\\n",
       "\\text{c} &:& \\text{left}(x, y)\n",
       "\\end{array}\\right]\\\\\n",
       "\\text{y} &:& Ind_{a_{14}}\\\\\n",
       "\\text{x} &:& Ind_{a_{12}}\\\\\n",
       "\\text{c} &:& \\text{left}(x, y)\n",
       "\\end{array}\\right]\\\\\n",
       "\\text{y} &:& Ind_{a_{14}}\\\\\n",
       "\\text{x} &:& Ind_{a_{13}}\\\\\n",
       "\\text{c} &:& \\text{left}(x, y)\n",
       "\\end{array}\\right]\\end{equation}"
      ],
      "text/plain": [
       "<IPython.core.display.Latex object>"
      ]
     },
     "execution_count": 119,
     "metadata": {},
     "output_type": "execute_result"
    }
   ],
   "source": [
    "from itertools import product\n",
    "\n",
    "image_detections_few = image_detections[2:5]\n",
    "situations = [sit_prop(r) for r in image_detections_few] \\\n",
    "    + [sit_loc(r) for r in image_detections_few] \\\n",
    "    + sum((list(sit_rel(r, s)) for (r, s) in product(image_detections_few, image_detections_few)), [])\n",
    "comb = combine_prev(*situations)\n",
    "latex(comb)"
   ]
  },
  {
   "cell_type": "code",
   "execution_count": 120,
   "metadata": {},
   "outputs": [
    {
     "name": "stdout",
     "output_type": "stream",
     "text": [
      "\\begin{equation}\\left[\\begin{array}{rcl}\n",
      "\\text{prev.prev.prev.prev.c} &:& \\text{location}(prev.prev.prev.prev.x, \\left[\\begin{array}{rcl}\n",
      "\\text{h} &=& 979\\\\\n",
      "\\text{cy} &=& 589\\\\\n",
      "\\text{w} &=& 774\\\\\n",
      "\\text{cx} &=& 490\n",
      "\\end{array}\\right])\\\\\n",
      "\\text{prev.prev.prev.prev.prev.prev.prev.prev.c} &:& \\text{person}(prev.prev.prev.prev.prev.prev.prev.prev.x)\\\\\n",
      "\\text{prev.prev.prev.x} &:& Ind_{a_{14}}\\\\\n",
      "\\text{x} &:& Ind_{a_{13}}\\\\\n",
      "\\text{prev.prev.prev.c} &:& \\text{location}(prev.prev.prev.x, \\left[\\begin{array}{rcl}\n",
      "\\text{h} &=& 718\\\\\n",
      "\\text{cy} &=& 714\\\\\n",
      "\\text{w} &=& 687\\\\\n",
      "\\text{cx} &=& 704\n",
      "\\end{array}\\right])\\\\\n",
      "\\text{c} &:& \\text{left}(x, y)\\\\\n",
      "\\text{prev.prev.prev.prev.prev.prev.prev.c} &:& \\text{car}(prev.prev.prev.prev.prev.prev.prev.x)\\\\\n",
      "\\text{prev.prev.prev.prev.prev.prev.prev.x} &:& Ind_{a_{13}}\\\\\n",
      "\\text{prev.prev.c} &:& \\text{left}(prev.prev.x, prev.prev.y)\\\\\n",
      "\\text{prev.prev.x} &:& Ind_{a_{12}}\\\\\n",
      "\\text{prev.prev.y} &:& Ind_{a_{13}}\\\\\n",
      "\\text{prev.x} &:& Ind_{a_{12}}\\\\\n",
      "\\text{prev.prev.prev.prev.prev.prev.x} &:& Ind_{a_{14}}\\\\\n",
      "\\text{prev.prev.prev.prev.prev.c} &:& \\text{location}(prev.prev.prev.prev.prev.x, \\left[\\begin{array}{rcl}\n",
      "\\text{h} &=& 381\\\\\n",
      "\\text{cy} &=& 888\\\\\n",
      "\\text{w} &=& 380\\\\\n",
      "\\text{cx} &=& 194\n",
      "\\end{array}\\right])\\\\\n",
      "\\text{prev.prev.prev.prev.x} &:& Ind_{a_{13}}\\\\\n",
      "\\text{prev.prev.prev.prev.prev.prev.c} &:& \\text{dog}(prev.prev.prev.prev.prev.prev.x)\\\\\n",
      "\\text{prev.prev.prev.prev.prev.x} &:& Ind_{a_{12}}\\\\\n",
      "\\text{prev.prev.prev.prev.prev.prev.prev.prev.x} &:& Ind_{a_{12}}\\\\\n",
      "\\text{prev.c} &:& \\text{left}(prev.x, prev.y)\\\\\n",
      "\\text{y} &:& Ind_{a_{14}}\\\\\n",
      "\\text{prev.y} &:& Ind_{a_{14}}\n",
      "\\end{array}\\right]\\end{equation}\n"
     ]
    },
    {
     "data": {
      "text/latex": [
       "\\begin{equation}\\left[\\begin{array}{rcl}\n",
       "\\text{prev.prev.prev.prev.c} &:& \\text{location}(prev.prev.prev.prev.x, \\left[\\begin{array}{rcl}\n",
       "\\text{h} &=& 979\\\\\n",
       "\\text{cy} &=& 589\\\\\n",
       "\\text{w} &=& 774\\\\\n",
       "\\text{cx} &=& 490\n",
       "\\end{array}\\right])\\\\\n",
       "\\text{prev.prev.prev.prev.prev.prev.prev.prev.c} &:& \\text{person}(prev.prev.prev.prev.prev.prev.prev.prev.x)\\\\\n",
       "\\text{prev.prev.prev.x} &:& Ind_{a_{14}}\\\\\n",
       "\\text{x} &:& Ind_{a_{13}}\\\\\n",
       "\\text{prev.prev.prev.c} &:& \\text{location}(prev.prev.prev.x, \\left[\\begin{array}{rcl}\n",
       "\\text{h} &=& 718\\\\\n",
       "\\text{cy} &=& 714\\\\\n",
       "\\text{w} &=& 687\\\\\n",
       "\\text{cx} &=& 704\n",
       "\\end{array}\\right])\\\\\n",
       "\\text{c} &:& \\text{left}(x, y)\\\\\n",
       "\\text{prev.prev.prev.prev.prev.prev.prev.c} &:& \\text{car}(prev.prev.prev.prev.prev.prev.prev.x)\\\\\n",
       "\\text{prev.prev.prev.prev.prev.prev.prev.x} &:& Ind_{a_{13}}\\\\\n",
       "\\text{prev.prev.c} &:& \\text{left}(prev.prev.x, prev.prev.y)\\\\\n",
       "\\text{prev.prev.x} &:& Ind_{a_{12}}\\\\\n",
       "\\text{prev.prev.y} &:& Ind_{a_{13}}\\\\\n",
       "\\text{prev.x} &:& Ind_{a_{12}}\\\\\n",
       "\\text{prev.prev.prev.prev.prev.prev.x} &:& Ind_{a_{14}}\\\\\n",
       "\\text{prev.prev.prev.prev.prev.c} &:& \\text{location}(prev.prev.prev.prev.prev.x, \\left[\\begin{array}{rcl}\n",
       "\\text{h} &=& 381\\\\\n",
       "\\text{cy} &=& 888\\\\\n",
       "\\text{w} &=& 380\\\\\n",
       "\\text{cx} &=& 194\n",
       "\\end{array}\\right])\\\\\n",
       "\\text{prev.prev.prev.prev.x} &:& Ind_{a_{13}}\\\\\n",
       "\\text{prev.prev.prev.prev.prev.prev.c} &:& \\text{dog}(prev.prev.prev.prev.prev.prev.x)\\\\\n",
       "\\text{prev.prev.prev.prev.prev.x} &:& Ind_{a_{12}}\\\\\n",
       "\\text{prev.prev.prev.prev.prev.prev.prev.prev.x} &:& Ind_{a_{12}}\\\\\n",
       "\\text{prev.c} &:& \\text{left}(prev.x, prev.y)\\\\\n",
       "\\text{y} &:& Ind_{a_{14}}\\\\\n",
       "\\text{prev.y} &:& Ind_{a_{14}}\n",
       "\\end{array}\\right]\\end{equation}"
      ],
      "text/plain": [
       "<IPython.core.display.Latex object>"
      ]
     },
     "execution_count": 120,
     "metadata": {},
     "output_type": "execute_result"
    }
   ],
   "source": [
    "combflat = comb.flatten()\n",
    "latex(combflat)"
   ]
  },
  {
   "cell_type": "code",
   "execution_count": 138,
   "metadata": {},
   "outputs": [
    {
     "name": "stdout",
     "output_type": "stream",
     "text": [
      "\\begin{equation}\\left[\\begin{array}{rcl}\n",
      "\\text{c}_\\text{4} &:& \\text{location}(x_{1}, \\left[\\begin{array}{rcl}\n",
      "\\text{h} &=& 718\\\\\n",
      "\\text{w} &=& 687\\\\\n",
      "\\text{cy} &=& 714\\\\\n",
      "\\text{cx} &=& 704\n",
      "\\end{array}\\right])\\\\\n",
      "\\text{x}_\\text{3} &:& Ind_{a_{13}}\\\\\n",
      "\\text{c}_\\text{6} &:& \\text{left}(x_{2}, x_{3})\\\\\n",
      "\\text{c}_\\text{7} &:& \\text{location}(x_{2}, \\left[\\begin{array}{rcl}\n",
      "\\text{h} &=& 381\\\\\n",
      "\\text{w} &=& 380\\\\\n",
      "\\text{cy} &=& 888\\\\\n",
      "\\text{cx} &=& 194\n",
      "\\end{array}\\right])\\\\\n",
      "\\text{c}_\\text{9} &:& \\text{left}(x_{2}, x_{1})\\\\\n",
      "\\text{c}_\\text{3} &:& \\text{left}(x_{3}, x_{1})\\\\\n",
      "\\text{x}_\\text{1} &:& Ind_{a_{14}}\\\\\n",
      "\\text{x}_\\text{2} &:& Ind_{a_{12}}\\\\\n",
      "\\text{c}_\\text{5} &:& \\text{car}(x_{3})\\\\\n",
      "\\text{c}_\\text{2} &:& \\text{person}(x_{2})\\\\\n",
      "\\text{c}_\\text{8} &:& \\text{dog}(x_{1})\\\\\n",
      "\\text{c}_\\text{1} &:& \\text{location}(x_{3}, \\left[\\begin{array}{rcl}\n",
      "\\text{h} &=& 979\\\\\n",
      "\\text{w} &=& 774\\\\\n",
      "\\text{cy} &=& 589\\\\\n",
      "\\text{cx} &=& 490\n",
      "\\end{array}\\right])\n",
      "\\end{array}\\right]\\end{equation}\n"
     ]
    },
    {
     "data": {
      "text/latex": [
       "\\begin{equation}\\left[\\begin{array}{rcl}\n",
       "\\text{c}_\\text{4} &:& \\text{location}(x_{1}, \\left[\\begin{array}{rcl}\n",
       "\\text{h} &=& 718\\\\\n",
       "\\text{w} &=& 687\\\\\n",
       "\\text{cy} &=& 714\\\\\n",
       "\\text{cx} &=& 704\n",
       "\\end{array}\\right])\\\\\n",
       "\\text{x}_\\text{3} &:& Ind_{a_{13}}\\\\\n",
       "\\text{c}_\\text{6} &:& \\text{left}(x_{2}, x_{3})\\\\\n",
       "\\text{c}_\\text{7} &:& \\text{location}(x_{2}, \\left[\\begin{array}{rcl}\n",
       "\\text{h} &=& 381\\\\\n",
       "\\text{w} &=& 380\\\\\n",
       "\\text{cy} &=& 888\\\\\n",
       "\\text{cx} &=& 194\n",
       "\\end{array}\\right])\\\\\n",
       "\\text{c}_\\text{9} &:& \\text{left}(x_{2}, x_{1})\\\\\n",
       "\\text{c}_\\text{3} &:& \\text{left}(x_{3}, x_{1})\\\\\n",
       "\\text{x}_\\text{1} &:& Ind_{a_{14}}\\\\\n",
       "\\text{x}_\\text{2} &:& Ind_{a_{12}}\\\\\n",
       "\\text{c}_\\text{5} &:& \\text{car}(x_{3})\\\\\n",
       "\\text{c}_\\text{2} &:& \\text{person}(x_{2})\\\\\n",
       "\\text{c}_\\text{8} &:& \\text{dog}(x_{1})\\\\\n",
       "\\text{c}_\\text{1} &:& \\text{location}(x_{3}, \\left[\\begin{array}{rcl}\n",
       "\\text{h} &=& 979\\\\\n",
       "\\text{w} &=& 774\\\\\n",
       "\\text{cy} &=& 589\\\\\n",
       "\\text{cx} &=& 490\n",
       "\\end{array}\\right])\n",
       "\\end{array}\\right]\\end{equation}"
      ],
      "text/plain": [
       "<IPython.core.display.Latex object>"
      ]
     },
     "execution_count": 138,
     "metadata": {},
     "output_type": "execute_result"
    }
   ],
   "source": [
    "# My own copy of gensym(), just so I can reset it...\n",
    "my_gennum = dict()\n",
    "def my_gensym(x):\n",
    "    if x not in my_gennum:\n",
    "        my_gennum[x] = count(1) \n",
    "    return x+'_{'+str(my_gennum[x].__next__())+'}'\n",
    "\n",
    "def simplify_rectype(T):\n",
    "    # Copy\n",
    "    R = RecType()\n",
    "    for k, v in T.comps.__dict__.items():\n",
    "        R.addfield(k, v)\n",
    "\n",
    "    # Squash inds\n",
    "    ind_types = dict((show(t), t) for t in R.comps.__dict__.values() if isinstance(t, SingletonType)).values()\n",
    "    for t in ind_types:\n",
    "        l = my_gensym('x')\n",
    "        for k, v in R.comps.__dict__.items():\n",
    "            if equal(t, v):\n",
    "                R.Relabel(k, l)\n",
    "                \n",
    "    # Prettify other labels\n",
    "    for k, v in R.comps.__dict__.items():\n",
    "        if not isinstance(v, SingletonType):\n",
    "            l = my_gensym('c')\n",
    "            R.Relabel(k, l)\n",
    "    \n",
    "    return R\n",
    "            \n",
    "simp = simplify_rectype(combflat)\n",
    "latex(simp)"
   ]
  },
  {
   "cell_type": "markdown",
   "metadata": {},
   "source": [
    "## Text parsing"
   ]
  },
  {
   "cell_type": "code",
   "execution_count": 126,
   "metadata": {},
   "outputs": [
    {
     "name": "stdout",
     "output_type": "stream",
     "text": [
      "A dog is to the left of a car\n",
      "\\begin{equation}\\left[\\begin{array}{rcl}\n",
      "\\text{c}_\\text{dog} &:& \\text{dog}(x)\\\\\n",
      "\\text{c}_\\text{left} &:& \\text{left}(x, y)\\\\\n",
      "\\text{c}_\\text{car} &:& \\text{car}(y)\\\\\n",
      "\\text{x} &:& Ind\\\\\n",
      "\\text{y} &:& Ind\n",
      "\\end{array}\\right]\\end{equation}\n"
     ]
    },
    {
     "data": {
      "text/latex": [
       "\\begin{equation}\\left[\\begin{array}{rcl}\n",
       "\\text{c}_\\text{dog} &:& \\text{dog}(x)\\\\\n",
       "\\text{c}_\\text{left} &:& \\text{left}(x, y)\\\\\n",
       "\\text{c}_\\text{car} &:& \\text{car}(y)\\\\\n",
       "\\text{x} &:& Ind\\\\\n",
       "\\text{y} &:& Ind\n",
       "\\end{array}\\right]\\end{equation}"
      ],
      "text/plain": [
       "<IPython.core.display.Latex object>"
      ]
     },
     "execution_count": 126,
     "metadata": {},
     "output_type": "execute_result"
    }
   ],
   "source": [
    "def create_abc(prop_a, prop_b, rel):\n",
    "    '''Creates a record type describing two individuals and a relation between them.'''\n",
    "    return RecType({\n",
    "        'x': Ind,\n",
    "        'y': Ind,\n",
    "        'c_{' + prop_a + '}': Fun('v', Ind, mkptype(prop_a)).app('x'),\n",
    "        'c_{' + prop_b + '}': Fun('v', Ind, mkptype(prop_b)).app('y'),\n",
    "        'c_{' + rel + '}': Fun('a', Ind, Fun('b', Ind, mkptype(rel, [Ind, Ind], ['a', 'b']))).app('x').app('y')\n",
    "    })\n",
    "\n",
    "print(\"A dog is to the left of a car\")\n",
    "question = create_abc('dog', 'car', 'left')\n",
    "latex(question)"
   ]
  },
  {
   "cell_type": "code",
   "execution_count": 131,
   "metadata": {},
   "outputs": [
    {
     "name": "stdout",
     "output_type": "stream",
     "text": [
      "A dog is to the left of a car\n",
      "{c_{dog} : dog(x), c_{left} : left(x, y), c_{car} : car(y), x : Ind, y : Ind}\n",
      "A car is to the left of a dog\n",
      "{c_{car} : car(x), c_{left} : left(x, y), c_{dog} : dog(y), x : Ind, y : Ind}\n",
      "\\begin{equation}\\left[\\begin{array}{rcl}\n",
      "\\text{c}_\\text{car} &:& \\text{car}(x)\\\\\n",
      "\\text{c}_\\text{left} &:& \\text{left}(x, y)\\\\\n",
      "\\text{c}_\\text{dog} &:& \\text{dog}(y)\\\\\n",
      "\\text{x} &:& Ind\\\\\n",
      "\\text{y} &:& Ind\n",
      "\\end{array}\\right]\\end{equation}\n"
     ]
    },
    {
     "data": {
      "text/latex": [
       "\\begin{equation}\\left[\\begin{array}{rcl}\n",
       "\\text{c}_\\text{car} &:& \\text{car}(x)\\\\\n",
       "\\text{c}_\\text{left} &:& \\text{left}(x, y)\\\\\n",
       "\\text{c}_\\text{dog} &:& \\text{dog}(y)\\\\\n",
       "\\text{x} &:& Ind\\\\\n",
       "\\text{y} &:& Ind\n",
       "\\end{array}\\right]\\end{equation}"
      ],
      "text/plain": [
       "<IPython.core.display.Latex object>"
      ]
     },
     "execution_count": 131,
     "metadata": {},
     "output_type": "execute_result"
    }
   ],
   "source": [
    "import nltk\n",
    "\n",
    "grammar = nltk.grammar.FeatureGrammar.fromstring('''\n",
    "%start S\n",
    "S[SEM=(?a, ?b, ?prep)] -> NP[SEM=?a] 'is' Prep[SEM=?prep] NP[SEM=?b]\n",
    "NP[DEF=?def, SEM=?n] -> Det[DEF=?def] N[SEM=?n]\n",
    "N[SEM=<dog>] -> 'dog'\n",
    "N[SEM=<car>] -> 'car'\n",
    "N[SEM=<person>] -> 'person'\n",
    "N[SEM=<chair>] -> 'chair'\n",
    "Det -> 'a' | 'an'\n",
    "Prep[SEM=<left>] -> 'to' 'the' 'left' 'of'\n",
    "Prep[SEM=<right>] -> 'to' 'the' 'right' 'of'\n",
    "Prep[SEM=<above>] -> 'above'\n",
    "Prep[SEM=<under>] -> 'under'\n",
    "''')\n",
    "parser = nltk.FeatureChartParser(grammar)\n",
    "\n",
    "texts = [\n",
    "    'A dog is to the left of a car',\n",
    "    'A car is to the left of a dog',\n",
    "#     'There is a dog to the left of a car',\n",
    "#     'Is the dog to the left of the car',\n",
    "#     'Is there a dog to the left of the car',\n",
    "]\n",
    "\n",
    "def parse_abc(text):\n",
    "    trees = parser.parse(text.lower().split())\n",
    "    tree = list(trees)[0]\n",
    "    sem = nltk.sem.root_semrep(tree)\n",
    "    return create_abc(*(str(s) for s in sem))\n",
    "\n",
    "for text in texts:\n",
    "    print(text)\n",
    "    r = parse_abc(text)\n",
    "    print(show(r))\n",
    "\n",
    "latex(r)"
   ]
  },
  {
   "cell_type": "markdown",
   "metadata": {
    "collapsed": true
   },
   "source": [
    "## Checking text against image"
   ]
  },
  {
   "cell_type": "code",
   "execution_count": 148,
   "metadata": {
    "collapsed": true
   },
   "outputs": [
    {
     "name": "stdout",
     "output_type": "stream",
     "text": [
      "False\n",
      "True\n",
      "\\begin{equation}\\left[\\begin{array}{rcl}\n",
      "\\text{c}_\\text{5} &:& \\text{car}(x_{3})\\\\\n",
      "\\text{c}_\\text{8} &:& \\text{dog}(x_{1})\\\\\n",
      "\\text{c}_\\text{3} &:& \\text{left}(x_{3}, x_{1})\\\\\n",
      "\\text{x}_\\text{3} &:& Ind\\\\\n",
      "\\text{x}_\\text{1} &:& Ind\n",
      "\\end{array}\\right]\\end{equation}\n"
     ]
    },
    {
     "data": {
      "text/latex": [
       "\\begin{equation}\\left[\\begin{array}{rcl}\n",
       "\\text{c}_\\text{5} &:& \\text{car}(x_{3})\\\\\n",
       "\\text{c}_\\text{8} &:& \\text{dog}(x_{1})\\\\\n",
       "\\text{c}_\\text{3} &:& \\text{left}(x_{3}, x_{1})\\\\\n",
       "\\text{x}_\\text{3} &:& Ind\\\\\n",
       "\\text{x}_\\text{1} &:& Ind\n",
       "\\end{array}\\right]\\end{equation}"
      ],
      "text/plain": [
       "<IPython.core.display.Latex object>"
      ]
     },
     "execution_count": 148,
     "metadata": {},
     "output_type": "execute_result"
    }
   ],
   "source": [
    "r = parse_abc(texts[1])\n",
    "print(simp.subtype_of(r))\n",
    "\n",
    "r.Relabel('x', 'x_{3}')\n",
    "r.Relabel('y', 'x_{1}')\n",
    "r.Relabel('c_{dog}', 'c_{8}')\n",
    "r.Relabel('c_{car}', 'c_{5}')\n",
    "r.Relabel('c_{left}', 'c_{3}')\n",
    "print(simp.subtype_of(r))\n",
    "\n",
    "latex(r)"
   ]
  },
  {
   "cell_type": "code",
   "execution_count": 183,
   "metadata": {},
   "outputs": [
    {
     "name": "stdout",
     "output_type": "stream",
     "text": [
      "\\begin{equation}\\left[\\begin{array}{rcl}\n",
      "\\text{c}_\\text{4} &:& \\text{location}(x_{1}, \\left[\\begin{array}{rcl}\n",
      "\\text{h} &=& 718\\\\\n",
      "\\text{w} &=& 687\\\\\n",
      "\\text{cy} &=& 714\\\\\n",
      "\\text{cx} &=& 704\n",
      "\\end{array}\\right])\\\\\n",
      "\\text{x}_\\text{3} &:& Ind_{a_{13}}\\\\\n",
      "\\text{c}_\\text{6} &:& \\text{left}(x_{2}, x_{3})\\\\\n",
      "\\text{c}_\\text{7} &:& \\text{location}(x_{2}, \\left[\\begin{array}{rcl}\n",
      "\\text{h} &=& 381\\\\\n",
      "\\text{w} &=& 380\\\\\n",
      "\\text{cy} &=& 888\\\\\n",
      "\\text{cx} &=& 194\n",
      "\\end{array}\\right])\\\\\n",
      "\\text{c}_\\text{9} &:& \\text{left}(x_{2}, x_{1})\\\\\n",
      "\\text{c}_\\text{3} &:& \\text{left}(x_{3}, x_{1})\\\\\n",
      "\\text{x}_\\text{1} &:& Ind_{a_{14}}\\\\\n",
      "\\text{x}_\\text{2} &:& Ind_{a_{12}}\\\\\n",
      "\\text{c}_\\text{5} &:& \\text{car}(x_{3})\\\\\n",
      "\\text{c}_\\text{2} &:& \\text{person}(x_{2})\\\\\n",
      "\\text{c}_\\text{8} &:& \\text{dog}(x_{1})\\\\\n",
      "\\text{c}_\\text{1} &:& \\text{location}(x_{3}, \\left[\\begin{array}{rcl}\n",
      "\\text{h} &=& 979\\\\\n",
      "\\text{w} &=& 774\\\\\n",
      "\\text{cy} &=& 589\\\\\n",
      "\\text{cx} &=& 490\n",
      "\\end{array}\\right])\n",
      "\\end{array}\\right]\\end{equation}\n",
      "\n",
      "\\begin{equation}\\left[\\begin{array}{rcl}\n",
      "\\text{c}_\\text{car} &:& \\text{car}(x)\\\\\n",
      "\\text{c}_\\text{left} &:& \\text{left}(x, y)\\\\\n",
      "\\text{c}_\\text{dog} &:& \\text{dog}(y)\\\\\n",
      "\\text{x} &:& Ind\\\\\n",
      "\\text{y} &:& Ind\n",
      "\\end{array}\\right]\\end{equation}\n"
     ]
    },
    {
     "data": {
      "text/latex": [
       "\\begin{equation}\\left[\\begin{array}{rcl}\n",
       "\\text{c}_\\text{4} &:& \\text{location}(x_{1}, \\left[\\begin{array}{rcl}\n",
       "\\text{h} &=& 718\\\\\n",
       "\\text{w} &=& 687\\\\\n",
       "\\text{cy} &=& 714\\\\\n",
       "\\text{cx} &=& 704\n",
       "\\end{array}\\right])\\\\\n",
       "\\text{x}_\\text{3} &:& Ind_{a_{13}}\\\\\n",
       "\\text{c}_\\text{6} &:& \\text{left}(x_{2}, x_{3})\\\\\n",
       "\\text{c}_\\text{7} &:& \\text{location}(x_{2}, \\left[\\begin{array}{rcl}\n",
       "\\text{h} &=& 381\\\\\n",
       "\\text{w} &=& 380\\\\\n",
       "\\text{cy} &=& 888\\\\\n",
       "\\text{cx} &=& 194\n",
       "\\end{array}\\right])\\\\\n",
       "\\text{c}_\\text{9} &:& \\text{left}(x_{2}, x_{1})\\\\\n",
       "\\text{c}_\\text{3} &:& \\text{left}(x_{3}, x_{1})\\\\\n",
       "\\text{x}_\\text{1} &:& Ind_{a_{14}}\\\\\n",
       "\\text{x}_\\text{2} &:& Ind_{a_{12}}\\\\\n",
       "\\text{c}_\\text{5} &:& \\text{car}(x_{3})\\\\\n",
       "\\text{c}_\\text{2} &:& \\text{person}(x_{2})\\\\\n",
       "\\text{c}_\\text{8} &:& \\text{dog}(x_{1})\\\\\n",
       "\\text{c}_\\text{1} &:& \\text{location}(x_{3}, \\left[\\begin{array}{rcl}\n",
       "\\text{h} &=& 979\\\\\n",
       "\\text{w} &=& 774\\\\\n",
       "\\text{cy} &=& 589\\\\\n",
       "\\text{cx} &=& 490\n",
       "\\end{array}\\right])\n",
       "\\end{array}\\right]\\end{equation}\n",
       "\n",
       "\\begin{equation}\\left[\\begin{array}{rcl}\n",
       "\\text{c}_\\text{car} &:& \\text{car}(x)\\\\\n",
       "\\text{c}_\\text{left} &:& \\text{left}(x, y)\\\\\n",
       "\\text{c}_\\text{dog} &:& \\text{dog}(y)\\\\\n",
       "\\text{x} &:& Ind\\\\\n",
       "\\text{y} &:& Ind\n",
       "\\end{array}\\right]\\end{equation}"
      ],
      "text/plain": [
       "<IPython.core.display.Latex object>"
      ]
     },
     "execution_count": 183,
     "metadata": {},
     "output_type": "execute_result"
    }
   ],
   "source": [
    "latex(simp, r)"
   ]
  },
  {
   "cell_type": "code",
   "execution_count": 223,
   "metadata": {},
   "outputs": [
    {
     "ename": "KeyError",
     "evalue": "'SingletonType'",
     "output_type": "error",
     "traceback": [
      "\u001b[0;31m---------------------------------------------------------------------------\u001b[0m",
      "\u001b[0;31mKeyError\u001b[0m                                  Traceback (most recent call last)",
      "\u001b[0;32m<ipython-input-223-024b4a7acd0b>\u001b[0m in \u001b[0;36m<module>\u001b[0;34m()\u001b[0m\n\u001b[1;32m     35\u001b[0m \u001b[0;34m\u001b[0m\u001b[0m\n\u001b[1;32m     36\u001b[0m \u001b[0mr\u001b[0m \u001b[0;34m=\u001b[0m \u001b[0mparse_abc\u001b[0m\u001b[0;34m(\u001b[0m\u001b[0mtexts\u001b[0m\u001b[0;34m[\u001b[0m\u001b[0;36m1\u001b[0m\u001b[0;34m]\u001b[0m\u001b[0;34m)\u001b[0m\u001b[0;34m\u001b[0m\u001b[0m\n\u001b[0;32m---> 37\u001b[0;31m \u001b[0mprint\u001b[0m\u001b[0;34m(\u001b[0m\u001b[0mrelabel_subtype_of_2\u001b[0m\u001b[0;34m(\u001b[0m\u001b[0msimp\u001b[0m\u001b[0;34m,\u001b[0m \u001b[0mr\u001b[0m\u001b[0;34m)\u001b[0m\u001b[0;34m)\u001b[0m\u001b[0;34m\u001b[0m\u001b[0m\n\u001b[0m",
      "\u001b[0;32m<ipython-input-223-024b4a7acd0b>\u001b[0m in \u001b[0;36mrelabel_subtype_of_2\u001b[0;34m(T, U)\u001b[0m\n\u001b[1;32m     31\u001b[0m \u001b[0;34m\u001b[0m\u001b[0m\n\u001b[1;32m     32\u001b[0m \u001b[0;32mdef\u001b[0m \u001b[0mrelabel_subtype_of_2\u001b[0m\u001b[0;34m(\u001b[0m\u001b[0mT\u001b[0m\u001b[0;34m,\u001b[0m \u001b[0mU\u001b[0m\u001b[0;34m)\u001b[0m\u001b[0;34m:\u001b[0m\u001b[0;34m\u001b[0m\u001b[0m\n\u001b[0;32m---> 33\u001b[0;31m     \u001b[0mcp\u001b[0m \u001b[0;34m=\u001b[0m \u001b[0mproduct\u001b[0m\u001b[0;34m(\u001b[0m\u001b[0mfields_by_type\u001b[0m\u001b[0;34m(\u001b[0m\u001b[0mU\u001b[0m\u001b[0;34m)\u001b[0m\u001b[0;34m[\u001b[0m\u001b[0;34m'SingletonType'\u001b[0m\u001b[0;34m]\u001b[0m\u001b[0;34m,\u001b[0m \u001b[0mfields_by_type\u001b[0m\u001b[0;34m(\u001b[0m\u001b[0mT\u001b[0m\u001b[0;34m)\u001b[0m\u001b[0;34m[\u001b[0m\u001b[0;34m'SingletonType'\u001b[0m\u001b[0;34m]\u001b[0m\u001b[0;34m)\u001b[0m\u001b[0;34m\u001b[0m\u001b[0m\n\u001b[0m\u001b[1;32m     34\u001b[0m     \u001b[0mprint\u001b[0m\u001b[0;34m(\u001b[0m\u001b[0mcp\u001b[0m\u001b[0;34m)\u001b[0m\u001b[0;34m\u001b[0m\u001b[0m\n\u001b[1;32m     35\u001b[0m \u001b[0;34m\u001b[0m\u001b[0m\n",
      "\u001b[0;31mKeyError\u001b[0m: 'SingletonType'"
     ]
    }
   ],
   "source": [
    "from itertools import permutations, combinations\n",
    "\n",
    "def copy_rectype(T):\n",
    "    R = RecType()\n",
    "    for k, v in T.comps.__dict__.items():\n",
    "        R.addfield(k, v)\n",
    "    return R\n",
    "\n",
    "def relabel_subtype_of(T, U):\n",
    "    '''Could record type T be a sub type of record type U if relabeling in T is allowed?'''\n",
    "    if not isinstance(T, RecType) or not isinstance(U, RecType) or T.subtype_of(U):\n",
    "        return T.subtype_of(U)\n",
    "    \n",
    "    uk, uv = list(U.comps.__dict__.items())[0]\n",
    "    print(uk)\n",
    "    for tk, tv in T.comps.__dict__.items():\n",
    "        print(tk, show(tv), show(uv))\n",
    "        if tv.subtype_of(uv):\n",
    "            T2 = copy_rectype(T)\n",
    "            T2.comps.__delattr__(tk)\n",
    "            U2 = copy_rectype(U)\n",
    "            U2.comps.__delattr(uk)\n",
    "            return relabel_subtype_of(T2, U2)\n",
    "    return False\n",
    "\n",
    "def fields_by_type(T):\n",
    "    fields = dict()\n",
    "    for t in set(type(t).__name__ for t in T.comps.__dict__.values()):\n",
    "        fields[t] = sorted([k for k, v in T.comps.__dict__.items() if type(v).__name__ == t])\n",
    "    return fields\n",
    "\n",
    "def relabel_subtype_of_2(T, U):\n",
    "    cp = product(fields_by_type(U)['SingletonType'], fields_by_type(T)['SingletonType'])\n",
    "    print(cp)\n",
    "\n",
    "r = parse_abc(texts[1])\n",
    "print(relabel_subtype_of_2(simp, r))"
   ]
  },
  {
   "cell_type": "code",
   "execution_count": 216,
   "metadata": {},
   "outputs": [
    {
     "name": "stdout",
     "output_type": "stream",
     "text": [
      "False\n",
      "{'PType': ['c_{1}', 'c_{2}', 'c_{3}', 'c_{4}', 'c_{5}', 'c_{6}', 'c_{7}', 'c_{8}', 'c_{9}'], 'SingletonType': ['x_{1}', 'x_{2}', 'x_{3}']}\n",
      "{'PType': ['c_{car}', 'c_{dog}', 'c_{left}'], 'BType': ['x', 'y']}\n",
      "[('c_{1}', 'c_{2}', 'c_{3}'), ('c_{1}', 'c_{2}', 'c_{4}'), ('c_{1}', 'c_{2}', 'c_{5}'), ('c_{1}', 'c_{2}', 'c_{6}'), ('c_{1}', 'c_{2}', 'c_{7}'), ('c_{1}', 'c_{2}', 'c_{8}'), ('c_{1}', 'c_{2}', 'c_{9}'), ('c_{1}', 'c_{3}', 'c_{4}'), ('c_{1}', 'c_{3}', 'c_{5}'), ('c_{1}', 'c_{3}', 'c_{6}'), ('c_{1}', 'c_{3}', 'c_{7}'), ('c_{1}', 'c_{3}', 'c_{8}'), ('c_{1}', 'c_{3}', 'c_{9}'), ('c_{1}', 'c_{4}', 'c_{5}'), ('c_{1}', 'c_{4}', 'c_{6}'), ('c_{1}', 'c_{4}', 'c_{7}'), ('c_{1}', 'c_{4}', 'c_{8}'), ('c_{1}', 'c_{4}', 'c_{9}'), ('c_{1}', 'c_{5}', 'c_{6}'), ('c_{1}', 'c_{5}', 'c_{7}'), ('c_{1}', 'c_{5}', 'c_{8}'), ('c_{1}', 'c_{5}', 'c_{9}'), ('c_{1}', 'c_{6}', 'c_{7}'), ('c_{1}', 'c_{6}', 'c_{8}'), ('c_{1}', 'c_{6}', 'c_{9}'), ('c_{1}', 'c_{7}', 'c_{8}'), ('c_{1}', 'c_{7}', 'c_{9}'), ('c_{1}', 'c_{8}', 'c_{9}'), ('c_{2}', 'c_{3}', 'c_{4}'), ('c_{2}', 'c_{3}', 'c_{5}'), ('c_{2}', 'c_{3}', 'c_{6}'), ('c_{2}', 'c_{3}', 'c_{7}'), ('c_{2}', 'c_{3}', 'c_{8}'), ('c_{2}', 'c_{3}', 'c_{9}'), ('c_{2}', 'c_{4}', 'c_{5}'), ('c_{2}', 'c_{4}', 'c_{6}'), ('c_{2}', 'c_{4}', 'c_{7}'), ('c_{2}', 'c_{4}', 'c_{8}'), ('c_{2}', 'c_{4}', 'c_{9}'), ('c_{2}', 'c_{5}', 'c_{6}'), ('c_{2}', 'c_{5}', 'c_{7}'), ('c_{2}', 'c_{5}', 'c_{8}'), ('c_{2}', 'c_{5}', 'c_{9}'), ('c_{2}', 'c_{6}', 'c_{7}'), ('c_{2}', 'c_{6}', 'c_{8}'), ('c_{2}', 'c_{6}', 'c_{9}'), ('c_{2}', 'c_{7}', 'c_{8}'), ('c_{2}', 'c_{7}', 'c_{9}'), ('c_{2}', 'c_{8}', 'c_{9}'), ('c_{3}', 'c_{4}', 'c_{5}'), ('c_{3}', 'c_{4}', 'c_{6}'), ('c_{3}', 'c_{4}', 'c_{7}'), ('c_{3}', 'c_{4}', 'c_{8}'), ('c_{3}', 'c_{4}', 'c_{9}'), ('c_{3}', 'c_{5}', 'c_{6}'), ('c_{3}', 'c_{5}', 'c_{7}'), ('c_{3}', 'c_{5}', 'c_{8}'), ('c_{3}', 'c_{5}', 'c_{9}'), ('c_{3}', 'c_{6}', 'c_{7}'), ('c_{3}', 'c_{6}', 'c_{8}'), ('c_{3}', 'c_{6}', 'c_{9}'), ('c_{3}', 'c_{7}', 'c_{8}'), ('c_{3}', 'c_{7}', 'c_{9}'), ('c_{3}', 'c_{8}', 'c_{9}'), ('c_{4}', 'c_{5}', 'c_{6}'), ('c_{4}', 'c_{5}', 'c_{7}'), ('c_{4}', 'c_{5}', 'c_{8}'), ('c_{4}', 'c_{5}', 'c_{9}'), ('c_{4}', 'c_{6}', 'c_{7}'), ('c_{4}', 'c_{6}', 'c_{8}'), ('c_{4}', 'c_{6}', 'c_{9}'), ('c_{4}', 'c_{7}', 'c_{8}'), ('c_{4}', 'c_{7}', 'c_{9}'), ('c_{4}', 'c_{8}', 'c_{9}'), ('c_{5}', 'c_{6}', 'c_{7}'), ('c_{5}', 'c_{6}', 'c_{8}'), ('c_{5}', 'c_{6}', 'c_{9}'), ('c_{5}', 'c_{7}', 'c_{8}'), ('c_{5}', 'c_{7}', 'c_{9}'), ('c_{5}', 'c_{8}', 'c_{9}'), ('c_{6}', 'c_{7}', 'c_{8}'), ('c_{6}', 'c_{7}', 'c_{9}'), ('c_{6}', 'c_{8}', 'c_{9}'), ('c_{7}', 'c_{8}', 'c_{9}')]\n"
     ]
    }
   ],
   "source": [
    "print(Fun('v', Ind, mkptype('dog')).app('x').subtype_of(Fun('v', Ind, mkptype('dog')).app('y')))\n",
    "\n",
    "def fields_by_type(T):\n",
    "    fields = dict()\n",
    "    for t in set(type(t).__name__ for t in T.comps.__dict__.values()):\n",
    "        fields[t] = sorted([k for k, v in T.comps.__dict__.items() if type(v).__name__ == t])\n",
    "    return fields\n",
    "\n",
    "print(fields_by_type(simp))\n",
    "print(fields_by_type(r))\n",
    "print(list(combinations(fields_by_type(simp)['PType'], len(fields_by_type(r)['PType']))))"
   ]
  },
  {
   "cell_type": "code",
   "execution_count": null,
   "metadata": {},
   "outputs": [],
   "source": []
  }
 ],
 "metadata": {
  "kernelspec": {
   "display_name": "Python 3",
   "language": "python",
   "name": "python3"
  },
  "language_info": {
   "codemirror_mode": {
    "name": "ipython",
    "version": 3
   },
   "file_extension": ".py",
   "mimetype": "text/x-python",
   "name": "python",
   "nbconvert_exporter": "python",
   "pygments_lexer": "ipython3",
   "version": "3.5.2"
  }
 },
 "nbformat": 4,
 "nbformat_minor": 2
}

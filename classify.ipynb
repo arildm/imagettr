{
 "cells": [
  {
   "cell_type": "code",
   "execution_count": 101,
   "metadata": {},
   "outputs": [],
   "source": [
    "import sys\n",
    "from keras.applications.resnet50 import ResNet50, preprocess_input, decode_predictions\n",
    "from keras.preprocessing.image import load_img, img_to_array\n",
    "import numpy as np\n",
    "\n",
    "sys.path.append('pyttr')\n",
    "from pyttr.ttrtypes import BType, PType, Possibility, Pred, RecType, Rec, FunType, Fun"
   ]
  },
  {
   "cell_type": "markdown",
   "metadata": {},
   "source": [
    "## ResNet50 classification"
   ]
  },
  {
   "cell_type": "code",
   "execution_count": 49,
   "metadata": {},
   "outputs": [],
   "source": [
    "model = ResNet50()"
   ]
  },
  {
   "cell_type": "code",
   "execution_count": 50,
   "metadata": {},
   "outputs": [
    {
     "data": {
      "text/plain": [
       "'palace'"
      ]
     },
     "execution_count": 50,
     "metadata": {},
     "output_type": "execute_result"
    }
   ],
   "source": [
    "def classify(path):\n",
    "    img = load_img(path, target_size=(224,224))\n",
    "    input = preprocess_input(np.array([img_to_array(img)]))\n",
    "    prediction = decode_predictions(model.predict(input))[0]\n",
    "    return prediction[0][1].replace('_', ' ')\n",
    "classify('res/canal.jpg')"
   ]
  },
  {
   "cell_type": "code",
   "execution_count": 51,
   "metadata": {},
   "outputs": [],
   "source": [
    "M = Possibility('M1')\n",
    "Ind = BType('Ind')\n",
    "Ind.in_poss(M)\n",
    "\n",
    "def see(path):\n",
    "    pred = Pred(classify(path), [Ind])\n",
    "    name = path.split('/')[-1].split('.')[0]\n",
    "    Ind.judge(name)\n",
    "    PType(pred, [name]).in_poss(M).judge(path)"
   ]
  },
  {
   "cell_type": "code",
   "execution_count": 52,
   "metadata": {},
   "outputs": [
    {
     "name": "stdout",
     "output_type": "stream",
     "text": [
      "\n",
      "M1:\n",
      "_____________________________________________\n",
      "Ind: [volcano, volcano2, canal, dogcar]\n",
      "palace(canal): [res/canal.jpg]\n",
      "volcano(volcano2): [res/volcano2.jpg]\n",
      "volcano(volcano): [res/volcano.jpg]\n",
      "Norfolk terrier(dogcar): [res/dogcar.jpg]\n",
      "_____________________________________________\n",
      "\n"
     ]
    }
   ],
   "source": [
    "see('res/volcano.jpg')\n",
    "see('res/volcano2.jpg')\n",
    "see('res/canal.jpg')\n",
    "see('res/dogcar.jpg')\n",
    "#see('/home/arildm/Pictures/star.png')\n",
    "#see('/home/arildm/Pictures/skocaj.png')\n",
    "print(M.show())"
   ]
  },
  {
   "cell_type": "markdown",
   "metadata": {},
   "source": [
    "## Classification as a witness condition"
   ]
  },
  {
   "cell_type": "code",
   "execution_count": 53,
   "metadata": {},
   "outputs": [
    {
     "name": "stdout",
     "output_type": "stream",
     "text": [
      "res/volcano2.jpg is a volcano(x)\n",
      "res/canal.jpg is a palace(x)\n"
     ]
    }
   ],
   "source": [
    "words = ['volcano', 'palace', 'dog', 'canal']\n",
    "ptypes = []\n",
    "for word in words:\n",
    "    ptype = PType(Pred(word, [Ind]), ['x'])\n",
    "    ptype.learn_witness_condition(lambda path, word=word: classify(path) == word)\n",
    "    ptypes.append(ptype)\n",
    "for path in ['res/volcano2.jpg', 'res/canal.jpg', 'res/dogcar.jpg']:\n",
    "    for ptype in ptypes:\n",
    "        if ptype.query(path):\n",
    "            print(path + ' is a ' + ptype.show())"
   ]
  },
  {
   "cell_type": "markdown",
   "metadata": {},
   "source": [
    "### Questionable \"object detector\" function\n",
    "\n",
    "Still with ResNet50, meaning only one class for the image, no object detection."
   ]
  },
  {
   "cell_type": "code",
   "execution_count": 70,
   "metadata": {},
   "outputs": [
    {
     "name": "stdout",
     "output_type": "stream",
     "text": [
      "['{pfun : lambda x:Image . volcano(x), reg : <PIL.JpegImagePlugin.JpegImageFile image mode=RGB size=1200x900 at 0x7FCB0B03CEF0>}']\n"
     ]
    }
   ],
   "source": [
    "imageT = BType('Image')\n",
    "\n",
    "def object_detector_simple(path):\n",
    "    det = set()\n",
    "    for ptype in ptypes:\n",
    "        if ptype.query(path):\n",
    "            det.add(RecType({\n",
    "                'reg': str(load_img(path)),\n",
    "                'pfun': Fun('x', imageT, ptype),\n",
    "            }))\n",
    "    return det\n",
    "            \n",
    "print([t.show() for t in odf('res/volcano2.jpg')])"
   ]
  }
 ],
 "metadata": {
  "kernelspec": {
   "display_name": "Python 3",
   "language": "python",
   "name": "python3"
  },
  "language_info": {
   "codemirror_mode": {
    "name": "ipython",
    "version": 3
   },
   "file_extension": ".py",
   "mimetype": "text/x-python",
   "name": "python",
   "nbconvert_exporter": "python",
   "pygments_lexer": "ipython3",
   "version": "3.5.2"
  }
 },
 "nbformat": 4,
 "nbformat_minor": 2
}

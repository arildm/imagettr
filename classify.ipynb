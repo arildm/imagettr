{
 "cells": [
  {
   "cell_type": "code",
   "execution_count": 1,
   "metadata": {},
   "outputs": [
    {
     "name": "stderr",
     "output_type": "stream",
     "text": [
      "Using TensorFlow backend.\n"
     ]
    }
   ],
   "source": [
    "import sys\n",
    "from keras.applications.resnet50 import ResNet50, preprocess_input, decode_predictions\n",
    "from keras.preprocessing.image import load_img, img_to_array\n",
    "import numpy as np\n",
    "\n",
    "sys.path.append('pyttr')\n",
    "from pyttr import ttrtypes as ttr, utils as ttru"
   ]
  },
  {
   "cell_type": "code",
   "execution_count": 2,
   "metadata": {},
   "outputs": [
    {
     "name": "stdout",
     "output_type": "stream",
     "text": [
      "WARNING:tensorflow:From /usr/local/lib/python3.5/dist-packages/keras/backend/tensorflow_backend.py:1264: calling reduce_prod (from tensorflow.python.ops.math_ops) with keep_dims is deprecated and will be removed in a future version.\n",
      "Instructions for updating:\n",
      "keep_dims is deprecated, use keepdims instead\n"
     ]
    }
   ],
   "source": [
    "model = ResNet50()"
   ]
  },
  {
   "cell_type": "code",
   "execution_count": 4,
   "metadata": {},
   "outputs": [
    {
     "data": {
      "text/plain": [
       "'palace'"
      ]
     },
     "execution_count": 4,
     "metadata": {},
     "output_type": "execute_result"
    }
   ],
   "source": [
    "def classify(path):\n",
    "    img = load_img(path, target_size=(224,224))\n",
    "    input = preprocess_input(np.array([img_to_array(img)]))\n",
    "    prediction = decode_predictions(model.predict(input))[0]\n",
    "    return prediction[0][1].replace('_', ' ')\n",
    "classify('res/canal.jpg')"
   ]
  },
  {
   "cell_type": "code",
   "execution_count": 5,
   "metadata": {},
   "outputs": [],
   "source": [
    "M = ttr.Possibility('M1')\n",
    "Ind = ttr.BType('Ind')\n",
    "Ind.in_poss(M)\n",
    "\n",
    "def see(path):\n",
    "    pred = ttr.Pred(classify(path), [Ind])\n",
    "    name = path.split('/')[-1].split('.')[0]\n",
    "    Ind.judge(name)\n",
    "    ttr.PType(pred, [name]).in_poss(M).judge(path)"
   ]
  },
  {
   "cell_type": "code",
   "execution_count": 7,
   "metadata": {},
   "outputs": [
    {
     "name": "stdout",
     "output_type": "stream",
     "text": [
      "\n",
      "M1:\n",
      "_____________________________________________\n",
      "Ind: [volcano, volcano2, canal, dogcar]\n",
      "Norfolk terrier(dogcar): [res/dogcar.jpg]\n",
      "palace(canal): [res/canal.jpg]\n",
      "volcano(volcano): [res/volcano.jpg]\n",
      "volcano(volcano2): [res/volcano2.jpg]\n",
      "_____________________________________________\n",
      "\n"
     ]
    }
   ],
   "source": [
    "see('res/volcano.jpg')\n",
    "see('res/volcano2.jpg')\n",
    "see('res/canal.jpg')\n",
    "see('res/dogcar.jpg')\n",
    "#see('/home/arildm/Pictures/star.png')\n",
    "#see('/home/arildm/Pictures/skocaj.png')\n",
    "print(ttru.show(M))"
   ]
  }
 ],
 "metadata": {
  "kernelspec": {
   "display_name": "Python 3",
   "language": "python",
   "name": "python3"
  },
  "language_info": {
   "codemirror_mode": {
    "name": "ipython",
    "version": 3
   },
   "file_extension": ".py",
   "mimetype": "text/x-python",
   "name": "python",
   "nbconvert_exporter": "python",
   "pygments_lexer": "ipython3",
   "version": "3.5.2"
  }
 },
 "nbformat": 4,
 "nbformat_minor": 2
}
